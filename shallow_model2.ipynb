{
 "cells": [
  {
   "cell_type": "code",
   "execution_count": 1,
   "metadata": {},
   "outputs": [
    {
     "ename": "ModuleNotFoundError",
     "evalue": "No module named 'dlc_practical_prologue'",
     "output_type": "error",
     "traceback": [
      "\u001b[1;31m---------------------------------------------------------------------------\u001b[0m",
      "\u001b[1;31mModuleNotFoundError\u001b[0m                       Traceback (most recent call last)",
      "\u001b[1;32m<ipython-input-1-272f8a097fe9>\u001b[0m in \u001b[0;36m<module>\u001b[1;34m\u001b[0m\n\u001b[0;32m      4\u001b[0m \u001b[1;32mfrom\u001b[0m \u001b[0mtorch\u001b[0m \u001b[1;32mimport\u001b[0m \u001b[0moptim\u001b[0m\u001b[1;33m\u001b[0m\u001b[1;33m\u001b[0m\u001b[0m\n\u001b[0;32m      5\u001b[0m \u001b[1;33m\u001b[0m\u001b[0m\n\u001b[1;32m----> 6\u001b[1;33m \u001b[1;32mimport\u001b[0m \u001b[0mdlc_practical_prologue\u001b[0m \u001b[1;32mas\u001b[0m \u001b[0mprologue\u001b[0m\u001b[1;33m\u001b[0m\u001b[1;33m\u001b[0m\u001b[0m\n\u001b[0m\u001b[0;32m      7\u001b[0m \u001b[0mN\u001b[0m \u001b[1;33m=\u001b[0m \u001b[1;36m1000\u001b[0m\u001b[1;33m\u001b[0m\u001b[1;33m\u001b[0m\u001b[0m\n",
      "\u001b[1;31mModuleNotFoundError\u001b[0m: No module named 'dlc_practical_prologue'"
     ]
    }
   ],
   "source": [
    "import torch\n",
    "from torch import nn\n",
    "from torch.nn import functional as F\n",
    "from torch import optim\n",
    "\n",
    "import dlc_practical_prologue as prologue\n",
    "N = 1000"
   ]
  },
  {
   "cell_type": "markdown",
   "metadata": {},
   "source": [
    "Generate pairs"
   ]
  },
  {
   "cell_type": "code",
   "execution_count": null,
   "metadata": {},
   "outputs": [],
   "source": [
    "N = 1000 #nb of pairs\n",
    "\n",
    "#generate pairs\n",
    "train_input, train_target, train_classes, test_input, test_target, test_classes = prologue.generate_pair_sets(N)"
   ]
  },
  {
   "cell_type": "code",
   "execution_count": null,
   "metadata": {},
   "outputs": [],
   "source": [
    "#normalize the input\n",
    "train_input/=255\n",
    "test_input/=255"
   ]
  },
  {
   "cell_type": "code",
   "execution_count": null,
   "metadata": {},
   "outputs": [],
   "source": [
    "new_train_target = torch.empty(N,2)\n",
    "new_test_target = torch.empty(N,2)\n",
    "for i in range(N):\n",
    "    if train_target[i] == 1 :\n",
    "        new_train_target[i,0] = 0\n",
    "        new_train_target[i,1] = 1\n",
    "        \n",
    "    else:\n",
    "        new_train_target[i,0] = 1\n",
    "        new_train_target[i,1] = 0\n",
    "        \n",
    "    if test_target[i] == 1:\n",
    "        new_test_target[i,0] = 0\n",
    "        new_test_target[i,1] = 1\n",
    "        \n",
    "    else:\n",
    "        new_test_target[i,0] = 1\n",
    "        new_test_target[i,1] = 0"
   ]
  },
  {
   "cell_type": "code",
   "execution_count": null,
   "metadata": {},
   "outputs": [],
   "source": [
    "def create_shallow_model():\n",
    "    return nn.Sequential(\n",
    "        nn.Linear(392, 400),\n",
    "        nn.ReLU(),\n",
    "        nn.Linear(400, 500),\n",
    "        nn.ReLU(),\n",
    "        nn.Linear(500, 600),\n",
    "        nn.ReLU(),\n",
    "        nn.Linear(600, 2),\n",
    "    )"
   ]
  },
  {
   "cell_type": "code",
   "execution_count": null,
   "metadata": {},
   "outputs": [],
   "source": [
    "class Net(nn.Module):\n",
    "    def __init__(self, nb_hidden):\n",
    "        super(Net, self).__init__()\n",
    "        self.conv1 = nn.Conv1d(392, 784, kernel_size=4)\n",
    "        self.conv2 = nn.Conv1d(784, 1568, kernel_size=5)\n",
    "        self.fc1 = nn.Linear(256, nb_hidden)\n",
    "        self.fc2 = nn.Linear(nb_hidden, 2)\n",
    "\n",
    "    def forward(self, x):\n",
    "        x = F.relu(F.max_pool2d(self.conv1(x), kernel_size=3))\n",
    "        x = F.relu(F.max_pool2d(self.conv2(x), kernel_size=2))\n",
    "        x = F.relu(self.fc1(x.view(-1, 256)))\n",
    "        x = self.fc2(x)\n",
    "        return x"
   ]
  },
  {
   "cell_type": "code",
   "execution_count": null,
   "metadata": {},
   "outputs": [],
   "source": [
    "def train_model(model, train_input, train_target,lr):\n",
    "    epoch = 25\n",
    "    eta = 0.2\n",
    "    mini_batches = 100\n",
    "    optimizer = optim.SGD(model.parameters(), lr)\n",
    "    \n",
    "    criterion = nn.BCEWithLogitsLoss()\n",
    "    \n",
    "    for e in range(epoch):\n",
    "        sum_loss = 0\n",
    "        \n",
    "        for b in range(0, train_input.size(0), mini_batches):\n",
    "            \n",
    "            output = model(train_input.narrow(0, b, mini_batches).reshape(mini_batches, 1, -1))\n",
    "            #print('shapes',output.squeeze(1).shape, train_target.narrow(0, b, mini_batches).shape)\n",
    "            loss = criterion(output.squeeze(1), train_target.narrow(0, b, mini_batches))\n",
    "            loss.requires_grad_()\n",
    "            #print(\"output\", output.squeeze(1), \"train\", train_target.narrow(0, b, mini_batches))\n",
    "            model.zero_grad()\n",
    "            #print(\"output\", output, \"shape\", output.shape)\n",
    "            loss.backward()\n",
    "            optimizer.step()\n",
    "            sum_loss = sum_loss + loss.item()\n",
    "            \n",
    "            \"\"\"#print(\"LOSS\",loss.item())\n",
    "            with torch.no_grad():\n",
    "                for p in model.parameters():\n",
    "                    p -= eta*p.grad\n",
    "                    #print(\"grads\", p.grad)\"\"\"\n",
    "        print(e, sum_loss)\n"
   ]
  },
  {
   "cell_type": "code",
   "execution_count": null,
   "metadata": {},
   "outputs": [],
   "source": [
    "def compute_nb_errors(model, test_input, target):\n",
    "    nb_errors = 0\n",
    "    mini_batch_size = 100\n",
    "    \n",
    "    for b in range(0, test_input.size(0), mini_batch_size):\n",
    "        output = model(test_input.narrow(0, b, mini_batch_size).reshape(mini_batch_size, 1, -1))\n",
    "        _, predicted_class = output.max(2)\n",
    "        #print(output)\n",
    "        #print(predicted_class, target)\n",
    "        #print(\"pred classes\",predicted_class.shape, \"output\", output.shape, \"target\", target.shape)\n",
    "        for k in range(mini_batch_size):\n",
    "            \n",
    "            if target[b + k, predicted_class[k]] <= 0:\n",
    "                nb_errors = nb_errors + 1\n",
    "\n",
    "    return nb_errors"
   ]
  },
  {
   "cell_type": "code",
   "execution_count": null,
   "metadata": {},
   "outputs": [],
   "source": [
    "# good result : lr = 0.1 : no overfitting, good test error ~20%\n",
    "\n",
    "for lr in [0.001,0.005, 0.01, 0.05, 0.1, 0.5]:\n",
    "    model = create_shallow_model()\n",
    "    train_model(model, train_input, new_train_target, lr)\n",
    "    nb_train_errors = compute_nb_errors(model, train_input, new_train_target)\n",
    "    nb_test_errors = compute_nb_errors(model, test_input, new_test_target)\n",
    "    print(\"Learning rate :\", lr)\n",
    "    print('train error {:0.2f}%% {:d}/{:d}'.format((100 * nb_train_errors) / train_input.size(0),\n",
    "                                                       nb_train_errors, train_input.size(0)))\n",
    "\n",
    "    print('test error {:0.2f}%% {:d}/{:d}'.format((100 * nb_test_errors) / test_input.size(0),\n",
    "                                                       nb_test_errors, test_input.size(0)))"
   ]
  },
  {
   "cell_type": "code",
   "execution_count": 19,
   "metadata": {},
   "outputs": [
    {
     "ename": "SyntaxError",
     "evalue": "invalid syntax (<ipython-input-19-894a9b314d2f>, line 1)",
     "output_type": "error",
     "traceback": [
      "\u001b[1;36m  File \u001b[1;32m\"<ipython-input-19-894a9b314d2f>\"\u001b[1;36m, line \u001b[1;32m1\u001b[0m\n\u001b[1;33m    optimizer :\u001b[0m\n\u001b[1;37m                ^\u001b[0m\n\u001b[1;31mSyntaxError\u001b[0m\u001b[1;31m:\u001b[0m invalid syntax\n"
     ]
    }
   ],
   "source": [
    "optimizer : \n",
    "    Adam : lr = 0.001 : 0% train error, 20% test error\n",
    "           lr = 0.1 : 45 % train and test error\n",
    "    SGD : lr = 0.1 : 22.3% train error, 22.4% test error\n",
    "            lr = 05 : 8.3 % train error, 20.5 % test error"
   ]
  },
  {
   "cell_type": "code",
   "execution_count": null,
   "metadata": {},
   "outputs": [],
   "source": [
    "'''for i in range(len(train_input)):\n",
    "            print(train_input[i].reshape(1, -1).shape)\n",
    "            output = model(train_input[i].reshape(1, -1))\n",
    "            loss = criterion(output, train_target[i].unsqueeze(0))\n",
    "            sum_loss = sum_loss + loss.item()\n",
    "            model.zero_grad()\n",
    "            loss.backward()\n",
    "            with torch.no_grad():\n",
    "                for p in model.parameters():\n",
    "                    p = p - eta*p.grad'''\n",
    "    "
   ]
  },
  {
   "cell_type": "code",
   "execution_count": 33,
   "metadata": {},
   "outputs": [],
   "source": [
    "def train_target_changed(train):\n",
    "    t = torch.empty(train.size(0),2).zero_()\n",
    "    for n in range (train.size(0)):\n",
    "        t[n,int(train[n].item())] = 1\n",
    "    return t"
   ]
  },
  {
   "cell_type": "code",
   "execution_count": 32,
   "metadata": {},
   "outputs": [
    {
     "name": "stdout",
     "output_type": "stream",
     "text": [
      "torch.Size([2, 14, 14])\n",
      "torch.Size([1, 392])\n",
      "tensor([[0]])\n",
      "torch.Size([2, 1, 14])\n"
     ]
    }
   ],
   "source": [
    "print(train_input[0].shape)\n",
    "test = train_input[0].reshape(1, -1)\n",
    "print(test.shape)\n",
    "print(train_target[0].reshape(1,-1))\n",
    "test2 = train_input[0].narrow(1, 2, 1)\n",
    "print(test2.shape)"
   ]
  }
 ],
 "metadata": {
  "kernelspec": {
   "display_name": "Python 3",
   "language": "python",
   "name": "python3"
  },
  "language_info": {
   "codemirror_mode": {
    "name": "ipython",
    "version": 3
   },
   "file_extension": ".py",
   "mimetype": "text/x-python",
   "name": "python",
   "nbconvert_exporter": "python",
   "pygments_lexer": "ipython3",
   "version": "3.7.4"
  }
 },
 "nbformat": 4,
 "nbformat_minor": 2
}
