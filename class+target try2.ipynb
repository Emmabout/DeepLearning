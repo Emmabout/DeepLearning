{
 "cells": [
  {
   "cell_type": "code",
   "execution_count": 76,
   "metadata": {},
   "outputs": [],
   "source": [
    "import torch\n",
    "from torch import nn\n",
    "from torch.nn import functional as F\n",
    "from torch import optim\n",
    "import dlc_practical_prologue as prologue\n",
    "\n",
    "mini_batch_size = 100\n",
    "N = 1000\n",
    "train_input, train_target, train_classes, test_input, test_target, test_classes = prologue.generate_pair_sets(N)"
   ]
  },
  {
   "cell_type": "code",
   "execution_count": 77,
   "metadata": {},
   "outputs": [],
   "source": [
    "#normalize the input\n",
    "train_input/=255\n",
    "test_input/=255"
   ]
  },
  {
   "cell_type": "code",
   "execution_count": 78,
   "metadata": {},
   "outputs": [],
   "source": [
    "print_shapes_Net = False"
   ]
  },
  {
   "cell_type": "code",
   "execution_count": 79,
   "metadata": {},
   "outputs": [],
   "source": [
    "class Net_auxiliary_loss(nn.Module):\n",
    "    def __init__(self):\n",
    "        super(Net_auxiliary_loss, self).__init__()\n",
    "        self.conv1 = nn.Conv2d(2, 32, kernel_size=3)\n",
    "        self.conv2 = nn.Conv2d(32, 64, kernel_size=3)\n",
    "        self.fc1 = nn.Linear(256, 10)\n",
    "        self.fc2 = nn.Linear(10, 2)\n",
    "\n",
    "    def forward(self, x):\n",
    "        if print_shapes_Net:\n",
    "            print(\"initial\", x.shape) #100 2 14 14\n",
    "        x = F.relu(F.max_pool2d(self.conv1(x), kernel_size=2, stride=2))\n",
    "        if print_shapes_Net:\n",
    "            print(\"conv1\",x.shape) #100 32 6 6\n",
    "        x = F.relu(F.max_pool2d(self.conv2(x), kernel_size=2, stride=2))\n",
    "        if print_shapes_Net:\n",
    "            print(\"conv2\",x.shape) #100 64 2 2\n",
    "        x = F.relu(self.fc1(x.view(-1, 256)))\n",
    "        x_class = x #100 10\n",
    "        if print_shapes_Net:\n",
    "            print(\"fc1\",x.shape) #100 10\n",
    "        x = self.fc2(x)\n",
    "        if print_shapes_Net:\n",
    "            print(\"final\",x.shape) # 100 2 \n",
    "        return x_class, x"
   ]
  },
  {
   "cell_type": "code",
   "execution_count": 80,
   "metadata": {},
   "outputs": [],
   "source": [
    "def train_model(model, train_input, train_classes, train_target, mini_batch_size, lr, nb_epoch):\n",
    "    criterion = nn.MSELoss() #CHANGE LOSS TO CROSS ENTROPY?\n",
    "    optimizer = optim.Adam(model.parameters(), lr)\n",
    "    \n",
    "    for e in range(nb_epoch):\n",
    "        sum_loss = 0\n",
    "        for b in range(0, train_input.size(0), mini_batch_size):\n",
    "          \n",
    "            output_class, output_target = model(train_input.narrow(0, b, mini_batch_size))\n",
    "            \n",
    "            loss_class = criterion(output_class, train_classes.narrow(0, b, mini_batch_size))\n",
    "            loss_target = criterion(output_target, train_target.narrow(0, b, mini_batch_size))\n",
    "            model.zero_grad()\n",
    "            loss = loss_class*0.5 + loss_target\n",
    "            loss.backward()\n",
    "            optimizer.step()\n",
    "            \n",
    "            sum_loss = sum_loss + loss.item()\n",
    "        print(e, sum_loss)"
   ]
  },
  {
   "cell_type": "code",
   "execution_count": 81,
   "metadata": {},
   "outputs": [],
   "source": [
    "def compute_nb_errors_targets(model, input, target):\n",
    "    nb_errors = 0\n",
    "    _, output = model(input)\n",
    "    _, predicted_target = output.max(1) #max probabilities of target\n",
    "    \n",
    "    for b in range(1000):\n",
    "        if target[b,int(predicted_target[b])] <= 0:\n",
    "            nb_errors = nb_errors + 1\n",
    "            \n",
    "    return nb_errors"
   ]
  },
  {
   "cell_type": "code",
   "execution_count": 82,
   "metadata": {},
   "outputs": [],
   "source": [
    "def compute_nb_errors_classes(model, input, target):\n",
    "    nb_errors = 0\n",
    "\n",
    "    output,_ = model(input)\n",
    "    _, predicted_classes = output.max(1)\n",
    "    print(output[0])\n",
    "    print(target[0])\n",
    "\n",
    "    for b in range(input.shape[0]):\n",
    "        if target[b, predicted_classes[b]] <= 0:\n",
    "            nb_errors = nb_errors + 1\n",
    "\n",
    "    return nb_errors"
   ]
  },
  {
   "cell_type": "code",
   "execution_count": 83,
   "metadata": {},
   "outputs": [],
   "source": [
    "#train_target[1000,1]\n",
    "new_train_target = torch.empty(1000,2)\n",
    "new_test_target = torch.empty(1000,2)\n",
    "for i in range(1000):\n",
    "    if train_target[i] == 1 :\n",
    "        new_train_target[i,0] = 0\n",
    "        new_train_target[i,1] = 1\n",
    "        \n",
    "    else:\n",
    "        new_train_target[i,0] = 1\n",
    "        new_train_target[i,1] = 0\n",
    "        \n",
    "    if test_target[i] == 1:\n",
    "        new_test_target[i,0] = 0\n",
    "        new_test_target[i,1] = 1\n",
    "        \n",
    "    else:\n",
    "        new_test_target[i,0] = 1\n",
    "        new_test_target[i,1] = 0"
   ]
  },
  {
   "cell_type": "code",
   "execution_count": 84,
   "metadata": {},
   "outputs": [],
   "source": [
    "#train_classes[1000, 2]\n",
    "new_train_classes = torch.zeros(1000, 10)\n",
    "new_test_classes = torch.zeros(1000, 10)\n",
    "\n",
    "for i in range(train_classes.shape[0]):\n",
    "    new_train_classes[i][train_classes[i][0]] = 1\n",
    "    new_train_classes[i][train_classes[i][1]] = 1\n",
    "\n",
    "for i in range(test_classes.shape[0]):\n",
    "    new_test_classes[i][test_classes[i][0]] = 1\n",
    "    new_test_classes[i][test_classes[i][1]] = 1\n",
    "\n"
   ]
  },
  {
   "cell_type": "code",
   "execution_count": 85,
   "metadata": {
    "scrolled": false
   },
   "outputs": [
    {
     "name": "stdout",
     "output_type": "stream",
     "text": [
      "0 4.882763028144836\n",
      "1 3.9175607562065125\n",
      "2 3.617906540632248\n",
      "3 3.4353533685207367\n",
      "4 3.219293534755707\n",
      "5 2.994525760412216\n",
      "6 2.8179134130477905\n",
      "7 2.644164279103279\n",
      "8 2.467716619372368\n",
      "9 2.302626132965088\n",
      "10 2.1410613656044006\n",
      "11 2.008056089282036\n",
      "12 1.8517899215221405\n",
      "13 1.7347681522369385\n",
      "14 1.580661579966545\n",
      "15 1.4740663170814514\n",
      "16 1.40530526638031\n",
      "17 1.362161323428154\n",
      "18 1.2960942015051842\n",
      "19 1.248879760503769\n",
      "20 1.2121433466672897\n",
      "21 1.15548375248909\n",
      "22 1.1570978984236717\n",
      "23 1.187822625041008\n",
      "24 1.2050592750310898\n",
      "train error Net_auxiliary_loss 0.30% 3/1000\n",
      "test error Net_auxiliary_loss 21.50% 215/1000\n"
     ]
    }
   ],
   "source": [
    "####predict class of each digit\n",
    "for k in range(1):\n",
    "    model = Net_auxiliary_loss()\n",
    "    lr = 0.005\n",
    "    nb_epoch = 25\n",
    "    train_model(model, train_input, new_train_classes, new_train_target, mini_batch_size, lr, nb_epoch)\n",
    "    \n",
    "    nb_train_errors = compute_nb_errors_targets(model, train_input, new_train_target)\n",
    "    print('train error Net_auxiliary_loss {:0.2f}% {:d}/{:d}'.format((100 * nb_train_errors) / train_input.size(0),\n",
    "                                                      nb_train_errors, train_input.size(0)))\n",
    "    nb_test_errors = compute_nb_errors_targets(model, test_input, new_test_target)\n",
    "    print('test error Net_auxiliary_loss {:0.2f}% {:d}/{:d}'.format((100 * nb_test_errors) / test_input.size(0),\n",
    "                                                    nb_test_errors, test_input.size(0)))\n",
    "    "
   ]
  },
  {
   "cell_type": "code",
   "execution_count": 86,
   "metadata": {},
   "outputs": [
    {
     "name": "stdout",
     "output_type": "stream",
     "text": [
      "tensor([0.0000, 0.0000, 0.0000, 0.0000, 0.0040, 0.0000, 0.8168, 0.0000, 0.2784,\n",
      "        0.6731], grad_fn=<SelectBackward>)\n",
      "tensor([5, 6])\n"
     ]
    },
    {
     "ename": "IndexError",
     "evalue": "index 6 is out of bounds for dimension 1 with size 2",
     "output_type": "error",
     "traceback": [
      "\u001b[1;31m---------------------------------------------------------------------------\u001b[0m",
      "\u001b[1;31mIndexError\u001b[0m                                Traceback (most recent call last)",
      "\u001b[1;32m<ipython-input-86-d30607c986d1>\u001b[0m in \u001b[0;36m<module>\u001b[1;34m\u001b[0m\n\u001b[1;32m----> 1\u001b[1;33m \u001b[0mnb_train_errors_class\u001b[0m \u001b[1;33m=\u001b[0m \u001b[0mcompute_nb_errors_classes\u001b[0m\u001b[1;33m(\u001b[0m\u001b[0mmodel\u001b[0m\u001b[1;33m,\u001b[0m \u001b[0mtrain_input\u001b[0m\u001b[1;33m,\u001b[0m \u001b[0mtrain_classes\u001b[0m\u001b[1;33m)\u001b[0m\u001b[1;33m\u001b[0m\u001b[1;33m\u001b[0m\u001b[0m\n\u001b[0m\u001b[0;32m      2\u001b[0m print('train error Net_auxiliary_loss {:0.2f}% {:d}/{:d}'.format((100 * nb_train_errors_class) / train_input.size(0),\n\u001b[0;32m      3\u001b[0m                                                   nb_train_errors_class, train_input.size(0)))\n\u001b[0;32m      4\u001b[0m \u001b[0mnb_test_errors_class\u001b[0m \u001b[1;33m=\u001b[0m \u001b[0mcompute_nb_errors_classes\u001b[0m\u001b[1;33m(\u001b[0m\u001b[0mmodel\u001b[0m\u001b[1;33m,\u001b[0m \u001b[0mtest_input\u001b[0m\u001b[1;33m,\u001b[0m \u001b[0mtest_classes\u001b[0m\u001b[1;33m)\u001b[0m\u001b[1;33m\u001b[0m\u001b[1;33m\u001b[0m\u001b[0m\n\u001b[0;32m      5\u001b[0m print('test error Net_auxiliary_loss {:0.2f}% {:d}/{:d}'.format((100 * nb_test_errors_class) / test_input.size(0),\n",
      "\u001b[1;32m<ipython-input-82-9d565a10f83b>\u001b[0m in \u001b[0;36mcompute_nb_errors_classes\u001b[1;34m(model, input, target)\u001b[0m\n\u001b[0;32m      8\u001b[0m \u001b[1;33m\u001b[0m\u001b[0m\n\u001b[0;32m      9\u001b[0m     \u001b[1;32mfor\u001b[0m \u001b[0mb\u001b[0m \u001b[1;32min\u001b[0m \u001b[0mrange\u001b[0m\u001b[1;33m(\u001b[0m\u001b[0minput\u001b[0m\u001b[1;33m.\u001b[0m\u001b[0mshape\u001b[0m\u001b[1;33m[\u001b[0m\u001b[1;36m0\u001b[0m\u001b[1;33m]\u001b[0m\u001b[1;33m)\u001b[0m\u001b[1;33m:\u001b[0m\u001b[1;33m\u001b[0m\u001b[1;33m\u001b[0m\u001b[0m\n\u001b[1;32m---> 10\u001b[1;33m         \u001b[1;32mif\u001b[0m \u001b[0mtarget\u001b[0m\u001b[1;33m[\u001b[0m\u001b[0mb\u001b[0m\u001b[1;33m,\u001b[0m \u001b[0mpredicted_classes\u001b[0m\u001b[1;33m[\u001b[0m\u001b[0mb\u001b[0m\u001b[1;33m]\u001b[0m\u001b[1;33m]\u001b[0m \u001b[1;33m<=\u001b[0m \u001b[1;36m0\u001b[0m\u001b[1;33m:\u001b[0m\u001b[1;33m\u001b[0m\u001b[1;33m\u001b[0m\u001b[0m\n\u001b[0m\u001b[0;32m     11\u001b[0m             \u001b[0mnb_errors\u001b[0m \u001b[1;33m=\u001b[0m \u001b[0mnb_errors\u001b[0m \u001b[1;33m+\u001b[0m \u001b[1;36m1\u001b[0m\u001b[1;33m\u001b[0m\u001b[1;33m\u001b[0m\u001b[0m\n\u001b[0;32m     12\u001b[0m \u001b[1;33m\u001b[0m\u001b[0m\n",
      "\u001b[1;31mIndexError\u001b[0m: index 6 is out of bounds for dimension 1 with size 2"
     ]
    }
   ],
   "source": [
    "nb_train_errors_class = compute_nb_errors_classes(model, train_input, train_classes)\n",
    "print('train error Net_auxiliary_loss {:0.2f}% {:d}/{:d}'.format((100 * nb_train_errors_class) / train_input.size(0),\n",
    "                                                  nb_train_errors_class, train_input.size(0)))\n",
    "nb_test_errors_class = compute_nb_errors_classes(model, test_input, test_classes)\n",
    "print('test error Net_auxiliary_loss {:0.2f}% {:d}/{:d}'.format((100 * nb_test_errors_class) / test_input.size(0),\n",
    "                                                nb_test_errors_class, test_input.size(0)))"
   ]
  },
  {
   "cell_type": "code",
   "execution_count": null,
   "metadata": {},
   "outputs": [],
   "source": []
  },
  {
   "cell_type": "code",
   "execution_count": null,
   "metadata": {},
   "outputs": [],
   "source": []
  }
 ],
 "metadata": {
  "kernelspec": {
   "display_name": "Python 3",
   "language": "python",
   "name": "python3"
  },
  "language_info": {
   "codemirror_mode": {
    "name": "ipython",
    "version": 3
   },
   "file_extension": ".py",
   "mimetype": "text/x-python",
   "name": "python",
   "nbconvert_exporter": "python",
   "pygments_lexer": "ipython3",
   "version": "3.7.3"
  }
 },
 "nbformat": 4,
 "nbformat_minor": 2
}
