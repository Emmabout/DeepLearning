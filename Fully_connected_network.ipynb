{
 "cells": [
  {
   "cell_type": "code",
   "execution_count": 17,
   "metadata": {},
   "outputs": [],
   "source": [
    "import torch\n",
    "from torch import nn\n",
    "from torch.nn import functional as F\n",
    "from torch import optim\n",
    "\n",
    "import dlc_practical_prologue as prologue"
   ]
  },
  {
   "cell_type": "code",
   "execution_count": 18,
   "metadata": {},
   "outputs": [],
   "source": [
    "### ONLY FOR THE ANALYSES OF THE RESULTS\n",
    "import numpy as np\n",
    "import matplotlib.pyplot as plt"
   ]
  },
  {
   "cell_type": "markdown",
   "metadata": {},
   "source": [
    "Generate pairs"
   ]
  },
  {
   "cell_type": "code",
   "execution_count": 19,
   "metadata": {},
   "outputs": [],
   "source": [
    "N = 1000 #nb of pairs\n",
    "print_errors = False"
   ]
  },
  {
   "cell_type": "code",
   "execution_count": 20,
   "metadata": {},
   "outputs": [],
   "source": [
    "def reshape_targets(train_target, test_target):\n",
    "    new_train_target = torch.empty(1000,2)\n",
    "    new_test_target = torch.empty(1000,2)\n",
    "    for i in range(1000):\n",
    "        if train_target[i] == 1 :\n",
    "            new_train_target[i,0] = 0\n",
    "            new_train_target[i,1] = 1\n",
    "\n",
    "        else:\n",
    "            new_train_target[i,0] = 1\n",
    "            new_train_target[i,1] = 0\n",
    "\n",
    "        if test_target[i] == 1:\n",
    "            new_test_target[i,0] = 0\n",
    "            new_test_target[i,1] = 1\n",
    "\n",
    "        else:\n",
    "            new_test_target[i,0] = 1\n",
    "            new_test_target[i,1] = 0\n",
    "    return new_train_target, new_test_target"
   ]
  },
  {
   "cell_type": "code",
   "execution_count": 21,
   "metadata": {},
   "outputs": [],
   "source": [
    "def create_shallow_model():\n",
    "    return nn.Sequential(\n",
    "        nn.Linear(392, 400),\n",
    "        nn.ReLU(),\n",
    "        nn.Linear(400, 500),\n",
    "        nn.ReLU(),\n",
    "        nn.Linear(500, 600),\n",
    "        nn.ReLU(),\n",
    "        nn.Linear(600, 2),\n",
    "    )"
   ]
  },
  {
   "cell_type": "code",
   "execution_count": 22,
   "metadata": {},
   "outputs": [],
   "source": [
    "new_train_target = torch.empty(N,2)\n",
    "new_test_target = torch.empty(N,2)\n",
    "for i in range(N):\n",
    "    if train_target[i] == 1 :\n",
    "        new_train_target[i,0] = 0\n",
    "        new_train_target[i,1] = 1\n",
    "        \n",
    "    else:\n",
    "        new_train_target[i,0] = 1\n",
    "        new_train_target[i,1] = 0\n",
    "        \n",
    "    if test_target[i] == 1:\n",
    "        new_test_target[i,0] = 0\n",
    "        new_test_target[i,1] = 1\n",
    "        \n",
    "    else:\n",
    "        new_test_target[i,0] = 1\n",
    "        new_test_target[i,1] = 0"
   ]
  },
  {
   "cell_type": "code",
   "execution_count": 23,
   "metadata": {},
   "outputs": [],
   "source": [
    "class Net(nn.Module):\n",
    "    def __init__(self, nb_hidden):\n",
    "        super(Net, self).__init__()\n",
    "        self.conv1 = nn.Conv1d(392, 784, kernel_size=4)\n",
    "        self.conv2 = nn.Conv1d(784, 1568, kernel_size=5)\n",
    "        self.fc1 = nn.Linear(256, nb_hidden)\n",
    "        self.fc2 = nn.Linear(nb_hidden, 2)\n",
    "\n",
    "    def forward(self, x):\n",
    "        x = F.relu(F.max_pool2d(self.conv1(x), kernel_size=3))\n",
    "        x = F.relu(F.max_pool2d(self.conv2(x), kernel_size=2))\n",
    "        x = F.relu(self.fc1(x.view(-1, 256)))\n",
    "        x = self.fc2(x)\n",
    "        return x"
   ]
  },
  {
   "cell_type": "code",
   "execution_count": 24,
   "metadata": {},
   "outputs": [],
   "source": [
    "def train_model(model, train_input, train_target,lr):\n",
    "    epoch = 25\n",
    "    eta = 0.2\n",
    "    mini_batches = 100\n",
    "    optimizer = optim.Adam(model.parameters(), lr)\n",
    "    \n",
    "    criterion = nn.BCEWithLogitsLoss()\n",
    "    \n",
    "    for e in range(epoch):\n",
    "        sum_loss = 0\n",
    "        \n",
    "        for b in range(0, train_input.size(0), mini_batches):\n",
    "            output = model(train_input.narrow(0, b, mini_batches).reshape(mini_batches, 1, -1))\n",
    "            loss = criterion(output.squeeze(1), train_target.narrow(0, b, mini_batches))\n",
    "            loss.requires_grad_()\n",
    "            model.zero_grad()\n",
    "            loss.backward()\n",
    "            optimizer.step()\n",
    "            sum_loss = sum_loss + loss.item()"
   ]
  },
  {
   "cell_type": "code",
   "execution_count": 25,
   "metadata": {},
   "outputs": [],
   "source": [
    "def compute_nb_errors(model, test_input, target):\n",
    "    nb_errors = 0\n",
    "    mini_batch_size = 100\n",
    "    \n",
    "    for b in range(0, test_input.size(0), mini_batch_size):\n",
    "        output = model(test_input.narrow(0, b, mini_batch_size).reshape(mini_batch_size, 1, -1))\n",
    "        _, predicted_class = output.max(2)\n",
    "        for k in range(mini_batch_size):\n",
    "            \n",
    "            if target[b + k, predicted_class[k]] <= 0:\n",
    "                nb_errors = nb_errors + 1\n",
    "\n",
    "    return nb_errors"
   ]
  },
  {
   "cell_type": "code",
   "execution_count": 26,
   "metadata": {},
   "outputs": [],
   "source": [
    "###ANALYSE THE RESULTS\n",
    "def analyse_results(train_errors, test_errors, title):\n",
    "    input_size = 1000\n",
    "    print('Average train error {:0.2f}% {:0.2f}/{:d}'.format((100 * np.mean(train_errors)) / train_input.size(0),\n",
    "                                                          np.mean(train_errors), input_size))\n",
    "    print(\"Train error standard deviation : {:0.2f}\".format(np.std(train_errors)))\n",
    "\n",
    "    print('Average test error {:0.2f}% {:0.2f}/{:d}'.format((100 * np.mean(test_errors)) / test_input.size(0),\n",
    "                                                          np.mean(test_errors), input_size))\n",
    "    print(\"Test error standard deviation : {:0.2f}\".format(np.std(test_errors)))\n",
    "\n",
    "\n",
    "    train_err = [x*100 / input_size for x in train_errors]\n",
    "    test_err = [x*100 / input_size for x in test_errors]\n",
    "\n",
    "    plt.figure\n",
    "    plt.title(title)\n",
    "    plt.boxplot([train_err, test_err], labels=['train error', 'test error'])\n",
    "    plt.ylabel(\"Error percentage\")\n",
    "    plt.show()"
   ]
  },
  {
   "cell_type": "code",
   "execution_count": 27,
   "metadata": {},
   "outputs": [
    {
     "name": "stdout",
     "output_type": "stream",
     "text": [
      "iteration 1/10\n",
      "iteration 2/10\n",
      "iteration 3/10\n",
      "iteration 4/10\n",
      "iteration 5/10\n",
      "iteration 6/10\n",
      "iteration 7/10\n",
      "iteration 8/10\n",
      "iteration 9/10\n",
      "iteration 10/10\n",
      "Average train error 9.96% 99.60/1000\n",
      "Train error standard deviation : 37.76\n",
      "Average test error 24.82% 248.20/1000\n",
      "Test error standard deviation : 16.15\n"
     ]
    },
    {
     "data": {
      "image/png": "[encoded data removed]",
      "text/plain": [
       "<Figure size 432x288 with 1 Axes>"
      ]
     },
     "metadata": {
      "needs_background": "light"
     },
     "output_type": "display_data"
    }
   ],
   "source": [
    "##########################bad initialization (gaussian)\n",
    "lr = 0.01\n",
    "mean = 2e-2\n",
    "std = 1e-1\n",
    "nb = 10\n",
    "train_errors = []\n",
    "test_errors = []\n",
    "\n",
    "for i in range(nb):\n",
    "    train_input, train_target, train_classes, test_input, test_target, test_classes = prologue.generate_pair_sets(N)\n",
    "    #normalize the input\n",
    "    train_input/=255\n",
    "    test_input/=255\n",
    "    new_train_target, new_test_target = reshape_targets(train_target, test_target)\n",
    "    \n",
    "    print(\"iteration {:d}/{:d}\".format(i+1,nb))\n",
    "    model = create_shallow_model()\n",
    "    with torch.no_grad():\n",
    "        for p in model.parameters(): p.normal_(mean, std)\n",
    "            \n",
    "    train_model(model, train_input, new_train_target, lr)\n",
    "    nb_train_errors = compute_nb_errors(model, train_input, new_train_target)\n",
    "    nb_test_errors = compute_nb_errors(model, test_input, new_test_target)\n",
    "    \n",
    "    if print_errors:\n",
    "        print('train error {:0.2f}%% {:d}/{:d}'.format((100 * nb_train_errors) / train_input.size(0),\n",
    "                                                           nb_train_errors, train_input.size(0)))\n",
    "\n",
    "        print('test error {:0.2f}%% {:d}/{:d}'.format((100 * nb_test_errors) / test_input.size(0),\n",
    "                                                           nb_test_errors, test_input.size(0)))\n",
    "    \n",
    "    train_errors.append(nb_train_errors)\n",
    "    test_errors.append(nb_test_errors)\n",
    "    \n",
    "analyse_results(train_errors, test_errors, \"FULLY CONNECTED NETWORK WITH BAD INITIALIZATION\")"
   ]
  },
  {
   "cell_type": "code",
   "execution_count": 33,
   "metadata": {},
   "outputs": [
    {
     "name": "stdout",
     "output_type": "stream",
     "text": [
      "iteration 1/10\n",
      "iteration 2/10\n",
      "iteration 3/10\n",
      "iteration 4/10\n",
      "iteration 5/10\n",
      "iteration 6/10\n",
      "iteration 7/10\n",
      "iteration 8/10\n",
      "iteration 9/10\n",
      "iteration 10/10\n",
      "Average train error 3.54% 35.40/1000\n",
      "Train error standard deviation : 39.86\n",
      "Average test error 20.74% 207.40/1000\n",
      "Test error standard deviation : 20.05\n"
     ]
    },
    {
     "data": {
      "image/png": "[encoded data removed]",
      "text/plain": [
       "<Figure size 432x288 with 1 Axes>"
      ]
     },
     "metadata": {
      "needs_background": "light"
     },
     "output_type": "display_data"
    }
   ],
   "source": [
    "# good result : lr = 0.01 : no overfitting, good test error ~20%\n",
    "################good initialization (automatic from pytorch)\n",
    "lr = 0.01\n",
    "nb = 10\n",
    "train_errors = []\n",
    "test_errors = []\n",
    "\n",
    "for i in range(nb):\n",
    "    train_input, train_target, train_classes, test_input, test_target, test_classes = prologue.generate_pair_sets(N)\n",
    "    #normalize the input\n",
    "    train_input/=255\n",
    "    test_input/=255\n",
    "    new_train_target, new_test_target = reshape_targets(train_target, test_target)\n",
    "    \n",
    "    model = create_shallow_model()\n",
    "    train_model(model, train_input, new_train_target, lr)\n",
    "    nb_train_errors = compute_nb_errors(model, train_input, new_train_target)\n",
    "    nb_test_errors = compute_nb_errors(model, test_input, new_test_target)\n",
    "    print(\"iteration {:d}/{:d}\".format(i+1,nb))\n",
    "    \n",
    "    if print_errors:\n",
    "        print('train error {:0.2f}%% {:d}/{:d}'.format((100 * nb_train_errors) / train_input.size(0),\n",
    "                                                           nb_train_errors, train_input.size(0)))\n",
    "\n",
    "        print('test error {:0.2f}%% {:d}/{:d}'.format((100 * nb_test_errors) / test_input.size(0),\n",
    "                                                       nb_test_errors, test_input.size(0)))\n",
    "    \n",
    "    train_errors.append(nb_train_errors)\n",
    "    test_errors.append(nb_test_errors)\n",
    "    \n",
    "analyse_results(train_errors, test_errors, \"FULLY CONNECTED NETWORK WITH GOOD INITIALIZATION\")"
   ]
  },
  {
   "cell_type": "code",
   "execution_count": 34,
   "metadata": {},
   "outputs": [],
   "source": [
    "def train_model_penalties(model, train_input, train_target,lr, L1, value): #L1 = 1 if L1 // =0 if L2\n",
    "    epoch = 25\n",
    "    eta = 0.2\n",
    "    mini_batches = 100\n",
    "    optimizer = optim.Adam(model.parameters(), lr)\n",
    "    \n",
    "    criterion = nn.BCEWithLogitsLoss()\n",
    "    \n",
    "    for e in range(epoch):\n",
    "        sum_loss = 0\n",
    "        \n",
    "        for b in range(0, train_input.size(0), mini_batches):\n",
    "            \n",
    "            output = model(train_input.narrow(0, b, mini_batches).reshape(mini_batches, 1, -1))\n",
    "            loss = criterion(output.squeeze(1), train_target.narrow(0, b, mini_batches))\n",
    "            \n",
    "            if L1 == 1:\n",
    "                optimizer.zero_grad()\n",
    "                loss.backward()\n",
    "                optimizer.step()\n",
    "                with torch.no_grad():\n",
    "                    for p in model.parameters():\n",
    "                        p.sub_(p.sign() * p.abs().clamp(max = value))\n",
    "\n",
    "            else:\n",
    "                for p in model.parameters():\n",
    "                    sum_loss += value * p.pow(2).sum()\n",
    "                optimizer.zero_grad()\n",
    "                loss.backward()\n",
    "                optimizer.step()"
   ]
  },
  {
   "cell_type": "code",
   "execution_count": 36,
   "metadata": {},
   "outputs": [
    {
     "name": "stdout",
     "output_type": "stream",
     "text": [
      "iteration 1/10\n",
      "iteration 2/10\n",
      "iteration 3/10\n",
      "iteration 4/10\n",
      "iteration 5/10\n",
      "iteration 6/10\n",
      "iteration 7/10\n",
      "iteration 8/10\n",
      "iteration 9/10\n",
      "iteration 10/10\n",
      "Average train error 7.88% 78.80/1000\n",
      "Train error standard deviation : 70.28\n",
      "Average test error 24.80% 248.00/1000\n",
      "Test error standard deviation : 30.05\n"
     ]
    },
    {
     "data": {
      "image/png": "[encoded data removed]",
      "text/plain": [
       "<Figure size 432x288 with 1 Axes>"
      ]
     },
     "metadata": {
      "needs_background": "light"
     },
     "output_type": "display_data"
    }
   ],
   "source": [
    "########L1 penalty : good value for L1 : 0.002\n",
    "lr = 0.01\n",
    "lambda_l1 = 0.002\n",
    "nb = 10\n",
    "train_errors = []\n",
    "test_errors = []\n",
    "\n",
    "for i in range(nb):\n",
    "    train_input, train_target, train_classes, test_input, test_target, test_classes = prologue.generate_pair_sets(N)\n",
    "    #normalize the input\n",
    "    train_input/=255\n",
    "    test_input/=255\n",
    "    new_train_target, new_test_target = reshape_targets(train_target, test_target)\n",
    "    \n",
    "    model = create_shallow_model()\n",
    "    train_model_penalties(model, train_input, new_train_target, lr, 1, lambda_l1)\n",
    "    nb_train_errors = compute_nb_errors(model, train_input, new_train_target)\n",
    "    nb_test_errors = compute_nb_errors(model, test_input, new_test_target)\n",
    "    \n",
    "    print(\"iteration {:d}/{:d}\".format(i+1,nb))\n",
    "    \n",
    "    if print_errors:\n",
    "        print('train error {:0.2f}%% {:d}/{:d}'.format((100 * nb_train_errors) / train_input.size(0),\n",
    "                                                           nb_train_errors, train_input.size(0)))\n",
    "\n",
    "        print('test error {:0.2f}%% {:d}/{:d}'.format((100 * nb_test_errors) / test_input.size(0),\n",
    "                                                       nb_test_errors, test_input.size(0)))\n",
    "    \n",
    "    train_errors.append(nb_train_errors)\n",
    "    test_errors.append(nb_test_errors)\n",
    "    \n",
    "analyse_results(train_errors, test_errors, \"FULLY CONNECTED NETWORK WITH GOOD INITIALIZATION & L1 PENALTY\")"
   ]
  },
  {
   "cell_type": "code",
   "execution_count": 38,
   "metadata": {},
   "outputs": [
    {
     "name": "stdout",
     "output_type": "stream",
     "text": [
      "iteration 1/10\n",
      "iteration 2/10\n",
      "iteration 3/10\n",
      "iteration 4/10\n",
      "iteration 5/10\n",
      "iteration 6/10\n",
      "iteration 7/10\n",
      "iteration 8/10\n",
      "iteration 9/10\n",
      "iteration 10/10\n",
      "Average train error 1.74% 17.40/1000\n",
      "Train error standard deviation : 12.59\n",
      "Average test error 21.43% 214.30/1000\n",
      "Test error standard deviation : 19.53\n"
     ]
    },
    {
     "data": {
      "image/png": "[encoded data removed]",
      "text/plain": [
       "<Figure size 432x288 with 1 Axes>"
      ]
     },
     "metadata": {
      "needs_background": "light"
     },
     "output_type": "display_data"
    }
   ],
   "source": [
    "########L2 penalty : good value for L2 : 0.002\n",
    "lr = 0.01\n",
    "lambda_l2 = 0.005\n",
    "nb = 10\n",
    "train_errors = []\n",
    "test_errors = []\n",
    "\n",
    "for i in range(nb):\n",
    "    train_input, train_target, train_classes, test_input, test_target, test_classes = prologue.generate_pair_sets(N)\n",
    "    #normalize the input\n",
    "    train_input/=255\n",
    "    test_input/=255\n",
    "    new_train_target, new_test_target = reshape_targets(train_target, test_target)\n",
    "    \n",
    "    model = create_shallow_model()\n",
    "    train_model_penalties(model, train_input, new_train_target, lr, 0, lambda_l2)\n",
    "    nb_train_errors = compute_nb_errors(model, train_input, new_train_target)\n",
    "    nb_test_errors = compute_nb_errors(model, test_input, new_test_target)\n",
    "    \n",
    "    print(\"iteration {:d}/{:d}\".format(i+1,nb))\n",
    "    \n",
    "    if print_errors:\n",
    "        print('train error {:0.2f}%% {:d}/{:d}'.format((100 * nb_train_errors) / train_input.size(0),\n",
    "                                                           nb_train_errors, train_input.size(0)))\n",
    "\n",
    "        print('test error {:0.2f}%% {:d}/{:d}'.format((100 * nb_test_errors) / test_input.size(0),\n",
    "                                                       nb_test_errors, test_input.size(0)))\n",
    "    \n",
    "    train_errors.append(nb_train_errors)\n",
    "    test_errors.append(nb_test_errors)\n",
    "    \n",
    "analyse_results(train_errors, test_errors, \"FULLY CONNECTED NETWORK WITH GOOD INITIALIZATION & L2 PENALTY\")"
   ]
  },
  {
   "cell_type": "code",
   "execution_count": 14,
   "metadata": {},
   "outputs": [
    {
     "name": "stdout",
     "output_type": "stream",
     "text": [
      "L1 : 0.001\n",
      "train error 5.50%% 55/1000\n",
      "test error 24.10%% 241/1000\n",
      "L1 : 0.002\n",
      "train error 7.30%% 73/1000\n",
      "test error 20.80%% 208/1000\n",
      "L1 : 0.004\n",
      "train error 8.80%% 88/1000\n",
      "test error 21.70%% 217/1000\n",
      "L1 : 0.005\n",
      "train error 10.00%% 100/1000\n",
      "test error 23.20%% 232/1000\n",
      "L1 : 0.01\n",
      "train error 44.90%% 449/1000\n",
      "test error 47.40%% 474/1000\n",
      "L1 : 0.02\n",
      "train error 44.90%% 449/1000\n",
      "test error 47.40%% 474/1000\n"
     ]
    }
   ],
   "source": [
    "########L1 penalty : good value for L1 : 0.002\n",
    "lr = 0.01\n",
    "for lambda_l1 in [0.001, 0.002, 0.004, 0.005, 0.010, 0.020]:\n",
    "    model = create_shallow_model()\n",
    "    train_model_penalties(model, train_input, new_train_target, lr, 1, lambda_l1)\n",
    "    nb_train_errors = compute_nb_errors(model, train_input, new_train_target)\n",
    "    nb_test_errors = compute_nb_errors(model, test_input, new_test_target)\n",
    "    print(\"L1 :\", lambda_l1)\n",
    "    print('train error {:0.2f}%% {:d}/{:d}'.format((100 * nb_train_errors) / train_input.size(0),\n",
    "                                                       nb_train_errors, train_input.size(0)))\n",
    "\n",
    "    print('test error {:0.2f}%% {:d}/{:d}'.format((100 * nb_test_errors) / test_input.size(0),\n",
    "                                                       nb_test_errors, test_input.size(0)))"
   ]
  },
  {
   "cell_type": "code",
   "execution_count": 32,
   "metadata": {},
   "outputs": [
    {
     "name": "stdout",
     "output_type": "stream",
     "text": [
      "L2 : 0.001\n",
      "train error 1.40%% 14/1000\n",
      "test error 19.60%% 196/1000\n",
      "L2 : 0.002\n",
      "train error 1.20%% 12/1000\n",
      "test error 18.70%% 187/1000\n",
      "L2 : 0.004\n",
      "train error 1.00%% 10/1000\n",
      "test error 21.00%% 210/1000\n",
      "L2 : 0.005\n",
      "train error 1.40%% 14/1000\n",
      "test error 17.70%% 177/1000\n",
      "L2 : 0.01\n",
      "train error 1.50%% 15/1000\n",
      "test error 20.10%% 201/1000\n",
      "L2 : 0.02\n",
      "train error 2.00%% 20/1000\n",
      "test error 21.00%% 210/1000\n"
     ]
    }
   ],
   "source": [
    "########L2 penalty : good value for L2 : 0.002\n",
    "lr = 0.01\n",
    "for lambda_l2 in [0.001, 0.002, 0.004, 0.005, 0.010, 0.020]:\n",
    "    model = create_shallow_model()\n",
    "    train_model_penalties(model, train_input, new_train_target, lr, 0, lambda_l2)\n",
    "    nb_train_errors = compute_nb_errors(model, train_input, new_train_target)\n",
    "    nb_test_errors = compute_nb_errors(model, test_input, new_test_target)\n",
    "    print(\"L2 :\", lambda_l2)\n",
    "    print('train error {:0.2f}%% {:d}/{:d}'.format((100 * nb_train_errors) / train_input.size(0),\n",
    "                                                       nb_train_errors, train_input.size(0)))\n",
    "\n",
    "    print('test error {:0.2f}%% {:d}/{:d}'.format((100 * nb_test_errors) / test_input.size(0),\n",
    "                                                       nb_test_errors, test_input.size(0)))"
   ]
  },
  {
   "cell_type": "code",
   "execution_count": null,
   "metadata": {},
   "outputs": [],
   "source": []
  }
 ],
 "metadata": {
  "kernelspec": {
   "display_name": "Python 3",
   "language": "python",
   "name": "python3"
  },
  "language_info": {
   "codemirror_mode": {
    "name": "ipython",
    "version": 3
   },
   "file_extension": ".py",
   "mimetype": "text/x-python",
   "name": "python",
   "nbconvert_exporter": "python",
   "pygments_lexer": "ipython3",
   "version": "3.7.4"
  }
 },
 "nbformat": 4,
 "nbformat_minor": 2
}
