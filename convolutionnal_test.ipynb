{
 "cells": [
  {
   "cell_type": "code",
   "execution_count": 1,
   "metadata": {},
   "outputs": [],
   "source": [
    "import torch\n",
    "from torch import nn\n",
    "from torch.nn import functional as F\n",
    "from torch import optim\n",
    "\n",
    "import dlc_practical_prologue as prologue"
   ]
  },
  {
   "cell_type": "code",
   "execution_count": 2,
   "metadata": {},
   "outputs": [],
   "source": [
    "N = 1000 #nb of pairs\n",
    "\n",
    "#generate pairs\n",
    "train_input, train_target, train_classes, test_input, test_target, test_classes = prologue.generate_pair_sets(N)"
   ]
  },
  {
   "cell_type": "code",
   "execution_count": 3,
   "metadata": {},
   "outputs": [],
   "source": [
    "#normalize the input\n",
    "train_input/=255\n",
    "test_input/=255"
   ]
  },
  {
   "cell_type": "markdown",
   "metadata": {},
   "source": [
    "### 2 Convolution layers, stride = 2"
   ]
  },
  {
   "cell_type": "markdown",
   "metadata": {},
   "source": [
    "Results: lr = 0.001, train error: 5%, test error: 17%"
   ]
  },
  {
   "cell_type": "code",
   "execution_count": 6,
   "metadata": {},
   "outputs": [],
   "source": [
    "class Net(nn.Module):\n",
    "    def __init__(self, nb_hidden):\n",
    "        super(Net, self).__init__()\n",
    "        self.conv1 = nn.Conv2d(2, 32, kernel_size=3)\n",
    "        self.conv2 = nn.Conv2d(32,64, kernel_size=3)\n",
    "        self.fc1 = nn.Linear(256, nb_hidden)\n",
    "        self.fc2 = nn.Linear(nb_hidden, 2)\n",
    "\n",
    "    def forward(self, x):\n",
    "        x = F.relu(F.max_pool2d(self.conv1(x), kernel_size=2, stride=2)) #6x6\n",
    "        x = F.relu(F.max_pool2d(self.conv2(x), kernel_size=2, stride=2)) #conv : 4x4, maxpool : 2x2\n",
    "        x = F.relu(self.fc1(x.view(-1, 256)))\n",
    "        x = self.fc2(x)\n",
    "        return x"
   ]
  },
  {
   "cell_type": "code",
   "execution_count": 70,
   "metadata": {},
   "outputs": [],
   "source": [
    "def train_model(model, train_input, train_target, mini_batch_size, lr, nb_epoch):\n",
    "    #criterion = nn.MSELoss()\n",
    "    criterion = nn.BCEWithLogitsLoss()\n",
    "    optimizer = optim.Adam(model.parameters(), lr)\n",
    "    \n",
    "    for e in range(nb_epoch):\n",
    "        sum_loss = 0\n",
    "        for b in range(0, train_input.size(0), mini_batch_size):\n",
    "            output = model(train_input.narrow(0, b, mini_batch_size))\n",
    "            loss = criterion(output, train_target.narrow(0, b, mini_batch_size))\n",
    "            model.zero_grad()\n",
    "            loss.backward()\n",
    "            optimizer.step()\n",
    "            \n",
    "            sum_loss = sum_loss + loss.item()\n",
    "        #print(e, sum_loss)"
   ]
  },
  {
   "cell_type": "code",
   "execution_count": 23,
   "metadata": {},
   "outputs": [],
   "source": [
    "def compute_nb_errors_targets(model, input, target):\n",
    "    nb_errors = 0\n",
    "    output = model(input)\n",
    "    _, predicted_target = output.max(1) #max probabilities of target\n",
    "    #print(predicted_target)\n",
    "    \n",
    "    for b in range(1000):\n",
    "        if target[b,int(predicted_target[b])] <= 0:\n",
    "            nb_errors = nb_errors + 1\n",
    "            \n",
    "    return nb_errors"
   ]
  },
  {
   "cell_type": "code",
   "execution_count": 9,
   "metadata": {},
   "outputs": [],
   "source": [
    "#train_target[1000,1]\n",
    "\n",
    "new_train_target = torch.empty(1000,2)\n",
    "new_test_target = torch.empty(1000,2)\n",
    "for i in range(1000):\n",
    "    if train_target[i] == 1 :\n",
    "        new_train_target[i,0] = 0\n",
    "        new_train_target[i,1] = 1\n",
    "        \n",
    "    else:\n",
    "        new_train_target[i,0] = 1\n",
    "        new_train_target[i,1] = 0\n",
    "        \n",
    "    if test_target[i] == 1:\n",
    "        new_test_target[i,0] = 0\n",
    "        new_test_target[i,1] = 1\n",
    "        \n",
    "    else:\n",
    "        new_test_target[i,0] = 1\n",
    "        new_test_target[i,1] = 0"
   ]
  },
  {
   "cell_type": "markdown",
   "metadata": {},
   "source": [
    "#### Choice of parameters"
   ]
  },
  {
   "cell_type": "code",
   "execution_count": 73,
   "metadata": {},
   "outputs": [
    {
     "name": "stdout",
     "output_type": "stream",
     "text": [
      "i = 9\n",
      "train error Net 19.30% 193/1000\n",
      "test error Net 21.40% 214/1000\n",
      "i = 9\n",
      "train error Net 13.30% 133/1000\n",
      "test error Net 19.30% 193/1000\n",
      "i = 9\n",
      "train error Net 6.30% 63/1000\n",
      "test error Net 18.30% 183/1000\n",
      "i = 9\n",
      "train error Net 6.90% 69/1000\n",
      "test error Net 17.30% 173/1000\n"
     ]
    }
   ],
   "source": [
    "#choose nb_epoch --> nb_epoch = 25\n",
    "\n",
    "mini_batch_size = 100\n",
    "lr = 0.001\n",
    "\n",
    "#for nb_epoch in [25, 50, 75]: --> nb_epoch = 25: the other overfit\n",
    "for nb_epoch in [10, 15, 20, 25]:\n",
    "    \n",
    "    model = Net(64)\n",
    "    train_model(model, train_input, new_train_target, mini_batch_size, lr, nb_epoch)\n",
    "    print(\"i =\", nb_epoch)\n",
    "\n",
    "    nb_train_errors = compute_nb_errors_targets(model, train_input, new_train_target)\n",
    "    print('train error Net {:0.2f}% {:d}/{:d}'.format((100 * nb_train_errors) / train_input.size(0),\n",
    "                                                      nb_train_errors, train_input.size(0)))\n",
    "    nb_test_errors = compute_nb_errors_targets(model, test_input, new_test_target)\n",
    "    print('test error Net {:0.2f}% {:d}/{:d}'.format((100 * nb_test_errors) / test_input.size(0),\n",
    "                                                    nb_test_errors, test_input.size(0)))"
   ]
  },
  {
   "cell_type": "code",
   "execution_count": 28,
   "metadata": {},
   "outputs": [
    {
     "name": "stdout",
     "output_type": "stream",
     "text": [
      "LR = 0.0005\n",
      "train error Net 10.80% 108/1000\n",
      "test error Net 19.40% 194/1000\n",
      "LR = 0.001\n",
      "train error Net 7.20% 72/1000\n",
      "test error Net 18.60% 186/1000\n",
      "LR = 0.005\n",
      "train error Net 0.00% 0/1000\n",
      "test error Net 17.40% 174/1000\n"
     ]
    }
   ],
   "source": [
    "#Choice of learning rate: lr = 0.001 : train error: 7%, test error: 18%\n",
    "#for lr in [0.001,0.005, 0.01, 0.05, 0.1, 0.5]:\n",
    "for lr in [0.0005, 0.001, 0.005]:\n",
    "    model = Net(64)\n",
    "    mini_batch_size = 100\n",
    "    nb_epoch = 25\n",
    "\n",
    "    train_model(model, train_input, new_train_target, mini_batch_size, lr, nb_epoch)\n",
    "    print(\"LR =\", lr)\n",
    "    \n",
    "    nb_train_errors = compute_nb_errors_targets(model, train_input, new_train_target)\n",
    "    print('train error Net {:0.2f}% {:d}/{:d}'.format((100 * nb_train_errors) / train_input.size(0),\n",
    "                                                      nb_train_errors, train_input.size(0)))\n",
    "    nb_test_errors = compute_nb_errors_targets(model, test_input, new_test_target)\n",
    "    print('test error Net {:0.2f}% {:d}/{:d}'.format((100 * nb_test_errors) / test_input.size(0),\n",
    "                                                    nb_test_errors, test_input.size(0)))"
   ]
  },
  {
   "cell_type": "markdown",
   "metadata": {},
   "source": [
    "#### Final test"
   ]
  },
  {
   "cell_type": "code",
   "execution_count": 30,
   "metadata": {},
   "outputs": [
    {
     "name": "stdout",
     "output_type": "stream",
     "text": [
      "i = 0\n",
      "train error Net 5.00% 50/1000\n",
      "test error Net 18.20% 182/1000\n",
      "i = 1\n",
      "train error Net 5.10% 51/1000\n",
      "test error Net 17.50% 175/1000\n",
      "i = 2\n",
      "train error Net 5.70% 57/1000\n",
      "test error Net 19.30% 193/1000\n",
      "i = 3\n",
      "train error Net 5.20% 52/1000\n",
      "test error Net 18.70% 187/1000\n",
      "i = 4\n",
      "train error Net 5.60% 56/1000\n",
      "test error Net 17.10% 171/1000\n",
      "i = 5\n",
      "train error Net 6.90% 69/1000\n",
      "test error Net 19.00% 190/1000\n",
      "i = 6\n",
      "train error Net 2.80% 28/1000\n",
      "test error Net 17.10% 171/1000\n",
      "i = 7\n",
      "train error Net 3.10% 31/1000\n",
      "test error Net 16.40% 164/1000\n",
      "i = 8\n",
      "train error Net 6.80% 68/1000\n",
      "test error Net 17.00% 170/1000\n",
      "i = 9\n",
      "train error Net 5.10% 51/1000\n",
      "test error Net 17.20% 172/1000\n"
     ]
    }
   ],
   "source": [
    "mini_batch_size = 100\n",
    "nb_epoch = 25\n",
    "lr = 0.001\n",
    "\n",
    "for i in range(10):\n",
    "    model = Net(64)\n",
    "    train_model(model, train_input, new_train_target, mini_batch_size, lr, nb_epoch)\n",
    "    print(\"i =\", i)\n",
    "\n",
    "    nb_train_errors = compute_nb_errors_targets(model, train_input, new_train_target)\n",
    "    print('train error Net {:0.2f}% {:d}/{:d}'.format((100 * nb_train_errors) / train_input.size(0),\n",
    "                                                      nb_train_errors, train_input.size(0)))\n",
    "    nb_test_errors = compute_nb_errors_targets(model, test_input, new_test_target)\n",
    "    print('test error Net {:0.2f}% {:d}/{:d}'.format((100 * nb_test_errors) / test_input.size(0),\n",
    "                                                    nb_test_errors, test_input.size(0)))"
   ]
  },
  {
   "cell_type": "code",
   "execution_count": null,
   "metadata": {},
   "outputs": [],
   "source": []
  },
  {
   "cell_type": "code",
   "execution_count": null,
   "metadata": {},
   "outputs": [],
   "source": []
  },
  {
   "cell_type": "code",
   "execution_count": null,
   "metadata": {},
   "outputs": [],
   "source": []
  },
  {
   "cell_type": "code",
   "execution_count": null,
   "metadata": {},
   "outputs": [],
   "source": []
  },
  {
   "cell_type": "code",
   "execution_count": null,
   "metadata": {},
   "outputs": [],
   "source": []
  },
  {
   "cell_type": "code",
   "execution_count": null,
   "metadata": {},
   "outputs": [],
   "source": []
  }
 ],
 "metadata": {
  "kernelspec": {
   "display_name": "Python 3",
   "language": "python",
   "name": "python3"
  },
  "language_info": {
   "codemirror_mode": {
    "name": "ipython",
    "version": 3
   },
   "file_extension": ".py",
   "mimetype": "text/x-python",
   "name": "python",
   "nbconvert_exporter": "python",
   "pygments_lexer": "ipython3",
   "version": "3.7.3"
  }
 },
 "nbformat": 4,
 "nbformat_minor": 2
}
