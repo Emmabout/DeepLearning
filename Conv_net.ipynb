{
 "cells": [
  {
   "cell_type": "code",
   "execution_count": 1,
   "metadata": {},
   "outputs": [],
   "source": [
    "import torch\n",
    "from torch import nn\n",
    "from torch.nn import functional as F\n",
    "from torch import optim\n",
    "\n",
    "import dlc_practical_prologue as prologue"
   ]
  },
  {
   "cell_type": "code",
   "execution_count": 2,
   "metadata": {},
   "outputs": [],
   "source": [
    "### ONLY FOR THE ANALYSES OF THE RESULTS\n",
    "import numpy as np\n",
    "import matplotlib.pyplot as plt"
   ]
  },
  {
   "cell_type": "code",
   "execution_count": 3,
   "metadata": {},
   "outputs": [],
   "source": [
    "print_shapes_Net = False\n",
    "mini_batch_size = 100\n",
    "print_errors = False"
   ]
  },
  {
   "cell_type": "code",
   "execution_count": 4,
   "metadata": {},
   "outputs": [],
   "source": [
    "def reshape_targets(train_target, test_target):\n",
    "    new_train_target = torch.empty(1000,2)\n",
    "    new_test_target = torch.empty(1000,2)\n",
    "    for i in range(1000):\n",
    "        if train_target[i] == 1 :\n",
    "            new_train_target[i,0] = 0\n",
    "            new_train_target[i,1] = 1\n",
    "\n",
    "        else:\n",
    "            new_train_target[i,0] = 1\n",
    "            new_train_target[i,1] = 0\n",
    "\n",
    "        if test_target[i] == 1:\n",
    "            new_test_target[i,0] = 0\n",
    "            new_test_target[i,1] = 1\n",
    "\n",
    "        else:\n",
    "            new_test_target[i,0] = 1\n",
    "            new_test_target[i,1] = 0\n",
    "    return new_train_target, new_test_target"
   ]
  },
  {
   "cell_type": "code",
   "execution_count": 5,
   "metadata": {},
   "outputs": [],
   "source": [
    "class Net(nn.Module):\n",
    "    def __init__(self, nb_hidden):\n",
    "        super(Net, self).__init__()\n",
    "        self.conv1 = nn.Conv2d(2, 32, kernel_size=3)\n",
    "        self.conv2 = nn.Conv2d(32,64, kernel_size=3)\n",
    "        self.fc1 = nn.Linear(256, nb_hidden)\n",
    "        self.fc2 = nn.Linear(nb_hidden, 2)\n",
    "\n",
    "    def forward(self, x):\n",
    "        x = F.relu(F.max_pool2d(self.conv1(x), kernel_size=2, stride=2)) #6x6\n",
    "        x = F.relu(F.max_pool2d(self.conv2(x), kernel_size=2, stride=2)) #conv : 4x4, maxpool : 2x2\n",
    "        x = F.relu(self.fc1(x.view(-1, 256)))\n",
    "        x = self.fc2(x)\n",
    "        return x"
   ]
  },
  {
   "cell_type": "code",
   "execution_count": 6,
   "metadata": {},
   "outputs": [],
   "source": [
    "class Net_bn(nn.Module):\n",
    "    def __init__(self, nb_hidden):\n",
    "        super(Net_bn, self).__init__()\n",
    "        self.conv1 = nn.Conv2d(2, 32, kernel_size=3)\n",
    "        self.conv2 = nn.Conv2d(32,64, kernel_size=3)\n",
    "        self.fc1 = nn.Linear(256, nb_hidden)\n",
    "        self.fc2 = nn.Linear(nb_hidden, 2)\n",
    "        self.bn1 = nn.BatchNorm2d(32)\n",
    "        self.bn2 = nn.BatchNorm2d(64)\n",
    "\n",
    "    def forward(self, x):\n",
    "        x = F.relu(F.max_pool2d(self.bn1(self.conv1(x)), kernel_size=2, stride=2)) #6x6\n",
    "        x = F.relu(F.max_pool2d(self.bn2(self.conv2(x)), kernel_size=2, stride=2)) #conv : 4x4, maxpool : 2x2\n",
    "        x = F.relu(self.fc1(x.view(-1, 256)))\n",
    "        x = self.fc2(x)\n",
    "        #x = nn.Softmax(dim=1)(x)\n",
    "        return x"
   ]
  },
  {
   "cell_type": "code",
   "execution_count": 7,
   "metadata": {},
   "outputs": [],
   "source": [
    "class Net2(nn.Module):\n",
    "    def __init__(self, nb_hidden):\n",
    "        super(Net2, self).__init__()\n",
    "        self.conv1 = nn.Conv2d(2, 16, kernel_size=2)\n",
    "        self.conv2 = nn.Conv2d(16, 32, kernel_size=2)\n",
    "        self.conv3 = nn.Conv2d(32, 64, kernel_size=2)\n",
    "        self.conv4 = nn.Conv2d(64, 128, kernel_size=2)\n",
    "        self.fc1 = nn.Linear(128, nb_hidden)\n",
    "        self.fc2 = nn.Linear(nb_hidden, 2)\n",
    "\n",
    "    def forward(self, x):\n",
    "        if print_shapes_Net:\n",
    "            print(\"initial shape\", x.shape)\n",
    "        x = F.relu(F.max_pool2d(self.conv1(x), kernel_size=1))\n",
    "        if print_shapes_Net:\n",
    "            print(\"1 conv\",x.shape)\n",
    "        x = F.relu(F.max_pool2d(self.conv2(x), kernel_size=2))\n",
    "        if print_shapes_Net:\n",
    "            print(\"2 conv\", x.shape)\n",
    "        x = F.relu(F.max_pool2d(self.conv3(x), kernel_size=2))\n",
    "        if print_shapes_Net:\n",
    "            print(\"3 conv\", x.shape)\n",
    "        x = F.relu(self.conv4(x))\n",
    "        if print_shapes_Net:\n",
    "            print(\"4 conv\",x.shape)\n",
    "        x = F.relu(self.fc1(x.view(-1, 128)))\n",
    "        if print_shapes_Net:\n",
    "            print(\"fc1\",x.shape)\n",
    "        x = self.fc2(x)\n",
    "        if print_shapes_Net:\n",
    "            print(\"final\",x.shape)\n",
    "        return x\n",
    "\n",
    "######################################################################"
   ]
  },
  {
   "cell_type": "code",
   "execution_count": 8,
   "metadata": {},
   "outputs": [],
   "source": [
    "class Net3(nn.Module):\n",
    "    def __init__(self, nb_hidden):\n",
    "        super(Net3, self).__init__()\n",
    "        self.conv1 = nn.Conv2d(2, 16, kernel_size=2)\n",
    "        self.conv2 = nn.Conv2d(16, 32, kernel_size=2)\n",
    "        self.conv3 = nn.Conv2d(32, 64, kernel_size=2)\n",
    "        self.conv4 = nn.Conv2d(64, 128, kernel_size=2)\n",
    "        self.fc1 = nn.Linear(128, nb_hidden)\n",
    "        self.fc2 = nn.Linear(nb_hidden, 2)\n",
    "        self.bn1 = nn.BatchNorm2d(16)\n",
    "        self.bn2 = nn.BatchNorm2d(32)\n",
    "        self.bn3 = nn.BatchNorm2d(64)\n",
    "        self.bn4 = nn.BatchNorm2d(128)\n",
    "\n",
    "    def forward(self, x):\n",
    "        if print_shapes_Net:\n",
    "            print(\"initial shape\", x.shape)\n",
    "        x = F.relu(F.max_pool2d(self.bn1(self.conv1(x)), kernel_size=1))\n",
    "        if print_shapes_Net:\n",
    "            print(\"1 conv\",x.shape)\n",
    "        x = F.relu(F.max_pool2d(self.bn2(self.conv2(x)), kernel_size=2))\n",
    "        if print_shapes_Net:\n",
    "            print(\"2 conv\", x.shape)\n",
    "        x = F.relu(F.max_pool2d(self.bn3(self.conv3(x)), kernel_size=2))\n",
    "        if print_shapes_Net:\n",
    "            print(\"3 conv\", x.shape)\n",
    "        x = F.relu(self.bn4(self.conv4(x)))\n",
    "        if print_shapes_Net:\n",
    "            print(\"4 conv\",x.shape)\n",
    "        x = F.relu(self.fc1(x.view(-1, 128)))\n",
    "        if print_shapes_Net:\n",
    "            print(\"fc1\",x.shape)\n",
    "        x = self.fc2(x)\n",
    "        if print_shapes_Net:\n",
    "            print(\"final\",x.shape)\n",
    "        return x\n",
    "\n",
    "######################################################################"
   ]
  },
  {
   "cell_type": "code",
   "execution_count": 10,
   "metadata": {},
   "outputs": [],
   "source": [
    "def train_model(model, train_input, train_target, mini_batch_size):\n",
    "    criterion = nn.MSELoss()\n",
    "    eta = 5e-1\n",
    "    mini_batch_size=100\n",
    "    \n",
    "    for e in range(25):\n",
    "        sum_loss = 0\n",
    "        for b in range(0, train_input.size(0), mini_batch_size):\n",
    "            \n",
    "            output = model(train_input.narrow(0, b, mini_batch_size))            \n",
    "            loss = criterion(output, train_target.narrow(0, b, mini_batch_size))\n",
    "            #print(loss)\n",
    "            model.zero_grad()\n",
    "            loss.backward()\n",
    "            sum_loss = sum_loss + loss.item()\n",
    "            with torch.no_grad():\n",
    "                for p in model.parameters():\n",
    "                    p -= eta * p.grad"
   ]
  },
  {
   "cell_type": "code",
   "execution_count": 11,
   "metadata": {},
   "outputs": [],
   "source": [
    "def train_model2(model, train_input, train_target, mini_batch_size, lr):\n",
    "    \n",
    "    criterion = nn.MSELoss()\n",
    "    optimizer = optim.Adam(model.parameters(), lr)\n",
    "\n",
    "    mini_batch_size=100\n",
    "    \n",
    "    for e in range(25):\n",
    "        sum_loss = 0\n",
    "        for b in range(0, train_input.size(0), mini_batch_size):\n",
    "            \n",
    "            output = model(train_input.narrow(0, b, mini_batch_size))            \n",
    "            loss = criterion(output, train_target.narrow(0, b, mini_batch_size))\n",
    "            #print(loss)\n",
    "            model.zero_grad()\n",
    "            loss.backward()\n",
    "            optimizer.step()\n",
    "            sum_loss = sum_loss + loss.item()"
   ]
  },
  {
   "cell_type": "code",
   "execution_count": 12,
   "metadata": {},
   "outputs": [],
   "source": [
    "def compute_nb_errors(model, input, target, mini_batch_size): \n",
    "    #target[1000], predicted_classes[100], output[100*2]\n",
    "    nb_errors = 0\n",
    "\n",
    "    for b in range(0, input.size(0), mini_batch_size):\n",
    "        output = model(input.narrow(0, b, mini_batch_size))\n",
    "        _, predicted_classes = output.max(1)\n",
    "        for k in range(mini_batch_size):\n",
    "            if target[b + k, predicted_classes[k]] <= 0:\n",
    "                nb_errors = nb_errors + 1\n",
    "\n",
    "    return nb_errors"
   ]
  },
  {
   "cell_type": "code",
   "execution_count": 13,
   "metadata": {},
   "outputs": [],
   "source": [
    "###ANALYSE THE RESULTS\n",
    "def analyse_results(train_errors, test_errors, title):\n",
    "    input_size = 1000\n",
    "    print('Average train error {:0.2f}% {:0.2f}/{:d}'.format((100 * np.mean(train_errors)) / train_input.size(0),\n",
    "                                                          np.mean(train_errors), input_size))\n",
    "    print(\"Train error standard deviation : {:0.2f}\".format(np.std(train_errors)))\n",
    "\n",
    "    print('Average test error {:0.2f}% {:0.2f}/{:d}'.format((100 * np.mean(test_errors)) / test_input.size(0),\n",
    "                                                          np.mean(test_errors), input_size))\n",
    "    print(\"Test error standard deviation : {:0.2f}\".format(np.std(test_errors)))\n",
    "\n",
    "\n",
    "    train_err = [x*100 / input_size for x in train_errors]\n",
    "    test_err = [x*100 / input_size for x in test_errors]\n",
    "\n",
    "    plt.figure\n",
    "    plt.title(title)\n",
    "    plt.boxplot([train_err, test_err], labels=['train error', 'test error'])\n",
    "    plt.ylabel(\"Error percentage\")\n",
    "    plt.show()"
   ]
  },
  {
   "cell_type": "code",
   "execution_count": 15,
   "metadata": {},
   "outputs": [
    {
     "name": "stdout",
     "output_type": "stream",
     "text": [
      "iteration 0/10\n",
      "iteration 1/10\n",
      "iteration 2/10\n",
      "iteration 3/10\n",
      "iteration 4/10\n",
      "iteration 5/10\n",
      "iteration 6/10\n",
      "iteration 7/10\n",
      "iteration 8/10\n",
      "iteration 9/10\n",
      "Average train error 7.74% 77.40/1000\n",
      "Train error standard deviation : 53.86\n",
      "Average test error 22.83% 228.30/1000\n",
      "Test error standard deviation : 33.50\n"
     ]
    },
    {
     "data": {
      "image/png": "[encoded data removed]",
      "text/plain": [
       "<Figure size 432x288 with 1 Axes>"
      ]
     },
     "metadata": {
      "needs_background": "light"
     },
     "output_type": "display_data"
    }
   ],
   "source": [
    "#shallow model without optimizer\n",
    "nb = 10\n",
    "train_errors = []\n",
    "test_errors = []\n",
    "\n",
    "for k in range(nb):\n",
    "    train_input, train_target, train_classes, test_input, test_target, test_classes = prologue.generate_pair_sets(1000)\n",
    "    train_input/=255\n",
    "    test_input/=255\n",
    "    new_train_target, new_test_target = reshape_targets(train_target, test_target)\n",
    "    \n",
    "    model = Net(64)\n",
    "    print(\"iteration {:d}/{:d}\".format(k+1,nb))\n",
    "    train_model(model, train_input, new_train_target, mini_batch_size)\n",
    "    nb_train_error = compute_nb_errors(model, train_input, new_train_target, mini_batch_size)\n",
    "    nb_test_error = compute_nb_errors(model, test_input, new_test_target, mini_batch_size)\n",
    "    \n",
    "    if print_errors:\n",
    "        print('train error Net {:0.2f}% {:d}/{:d}'.format((100 * nb_train_error) / test_input.size(0),\n",
    "                                                      nb_train_error, test_input.size(0)))\n",
    "\n",
    "        print('test error Net {:0.2f}% {:d}/{:d}'.format((100 * nb_test_error) / test_input.size(0),\n",
    "                                                          nb_test_error, test_input.size(0)))\n",
    "    \n",
    "    train_errors.append(nb_train_error)\n",
    "    test_errors.append(nb_test_error)\n",
    "\n",
    "analyse_results(train_errors, test_errors, \"SHALLOW MODEL WITHOUT OPTIMIZER\")"
   ]
  },
  {
   "cell_type": "code",
   "execution_count": 16,
   "metadata": {},
   "outputs": [
    {
     "name": "stdout",
     "output_type": "stream",
     "text": [
      "iteration 9/10\n",
      "iteration 9/10\n",
      "iteration 9/10\n",
      "iteration 9/10\n",
      "iteration 9/10\n",
      "iteration 9/10\n",
      "iteration 9/10\n",
      "iteration 9/10\n",
      "iteration 9/10\n",
      "iteration 9/10\n",
      "Average train error 3.51% 35.10/1000\n",
      "Train error standard deviation : 16.22\n",
      "Average test error 18.06% 180.60/1000\n",
      "Test error standard deviation : 18.62\n"
     ]
    },
    {
     "data": {
      "image/png": "[encoded data removed]",
      "text/plain": [
       "<Figure size 432x288 with 1 Axes>"
      ]
     },
     "metadata": {
      "needs_background": "light"
     },
     "output_type": "display_data"
    }
   ],
   "source": [
    "####shallow model with optimizer\n",
    "lr = 0.001\n",
    "train_errors = []\n",
    "test_errors = []\n",
    "\n",
    "for i in range(nb):\n",
    "    train_input, train_target, train_classes, test_input, test_target, test_classes = prologue.generate_pair_sets(1000)\n",
    "    train_input/=255\n",
    "    test_input/=255\n",
    "    new_train_target, new_test_target = reshape_targets(train_target, test_target)\n",
    "    \n",
    "    model = Net(64)\n",
    "    print(\"iteration {:d}/{:d}\".format(i+1,nb))\n",
    "    train_model2(model, train_input, new_train_target, mini_batch_size, lr)\n",
    "    nb_train_errors = compute_nb_errors(model, train_input, new_train_target, mini_batch_size)\n",
    "    nb_test_errors = compute_nb_errors(model, test_input, new_test_target, mini_batch_size)\n",
    "    \n",
    "    if print_errors:\n",
    "        print('train error Net {:0.2f}% {:d}/{:d}'.format((100 * nb_train_errors) / test_input.size(0),\n",
    "                                                  nb_train_errors, test_input.size(0)))\n",
    "        print('test error Net {:0.2f}% {:d}/{:d}'.format((100 * nb_test_errors) / test_input.size(0),\n",
    "                                                      nb_test_errors, test_input.size(0)))\n",
    "    train_errors.append(nb_train_errors)\n",
    "    test_errors.append(nb_test_errors)\n",
    "    \n",
    "analyse_results(train_errors, test_errors, \"SHALLOW MODEL WITH OPTIMIZER\")"
   ]
  },
  {
   "cell_type": "code",
   "execution_count": 17,
   "metadata": {},
   "outputs": [
    {
     "name": "stdout",
     "output_type": "stream",
     "text": [
      "iteration 9/10\n",
      "iteration 9/10\n",
      "iteration 9/10\n",
      "iteration 9/10\n",
      "iteration 9/10\n",
      "iteration 9/10\n",
      "iteration 9/10\n",
      "iteration 9/10\n",
      "iteration 9/10\n",
      "iteration 9/10\n",
      "Average train error 0.75% 7.50/1000\n",
      "Train error standard deviation : 11.81\n",
      "Average test error 19.77% 197.70/1000\n",
      "Test error standard deviation : 19.21\n"
     ]
    },
    {
     "data": {
      "image/png": "[encoded data removed]",
      "text/plain": [
       "<Figure size 432x288 with 1 Axes>"
      ]
     },
     "metadata": {
      "needs_background": "light"
     },
     "output_type": "display_data"
    }
   ],
   "source": [
    "#with batch normalization and optimizer\n",
    "lr = 0.001\n",
    "train_errors = []\n",
    "test_errors = []\n",
    "\n",
    "for i in range(nb):\n",
    "    train_input, train_target, train_classes, test_input, test_target, test_classes = prologue.generate_pair_sets(1000)\n",
    "    train_input/=255\n",
    "    test_input/=255\n",
    "    new_train_target, new_test_target = reshape_targets(train_target, test_target)\n",
    "    \n",
    "    model = Net_bn(64)\n",
    "    train_model2(model, train_input, new_train_target, mini_batch_size, lr)\n",
    "    \n",
    "    print(\"iteration {:d}/{:d}\".format(i+1,nb))\n",
    "    nb_train_errors = compute_nb_errors(model, train_input, new_train_target, mini_batch_size)\n",
    "    nb_test_errors = compute_nb_errors(model, test_input, new_test_target, mini_batch_size)\n",
    "    \n",
    "    if print_errors:\n",
    "        print('train error Net {:0.2f}% {:d}/{:d}'.format((100 * nb_train_errors) / test_input.size(0),\n",
    "                                                  nb_train_errors, test_input.size(0)))\n",
    "        print('test error Net {:0.2f}% {:d}/{:d}'.format((100 * nb_test_errors) / test_input.size(0),\n",
    "                                                          nb_test_errors, test_input.size(0)))\n",
    "    train_errors.append(nb_train_errors)\n",
    "    test_errors.append(nb_test_errors)\n",
    "    \n",
    "analyse_results(train_errors, test_errors, \"SHALLOW MODEL WITH OPTIMIZER AND BATCH NORMALIZATION\")"
   ]
  },
  {
   "cell_type": "markdown",
   "metadata": {},
   "source": [
    "## Deeper model"
   ]
  },
  {
   "cell_type": "code",
   "execution_count": 18,
   "metadata": {},
   "outputs": [
    {
     "name": "stdout",
     "output_type": "stream",
     "text": [
      "iteration 9/10\n",
      "iteration 9/10\n",
      "iteration 9/10\n",
      "iteration 9/10\n",
      "iteration 9/10\n",
      "iteration 9/10\n",
      "iteration 9/10\n",
      "iteration 9/10\n",
      "iteration 9/10\n",
      "iteration 9/10\n",
      "Average train error 12.81% 128.10/1000\n",
      "Train error standard deviation : 56.39\n",
      "Average test error 20.68% 206.80/1000\n",
      "Test error standard deviation : 19.71\n"
     ]
    },
    {
     "data": {
      "image/png": "[encoded data removed]",
      "text/plain": [
       "<Figure size 432x288 with 1 Axes>"
      ]
     },
     "metadata": {
      "needs_background": "light"
     },
     "output_type": "display_data"
    }
   ],
   "source": [
    "###########\n",
    "# DEEP MODEL WITH OPTIMIZER\n",
    "lr = 0.001\n",
    "train_errors = []\n",
    "test_errors = []\n",
    "\n",
    "for i in range(nb):\n",
    "    train_input, train_target, train_classes, test_input, test_target, test_classes = prologue.generate_pair_sets(1000)\n",
    "    train_input/=255\n",
    "    test_input/=255\n",
    "    new_train_target, new_test_target = reshape_targets(train_target, test_target)\n",
    "    \n",
    "    model = Net2(64)\n",
    "    train_model2(model, train_input, new_train_target, mini_batch_size, lr)\n",
    "    \n",
    "    print(\"iteration {:d}/{:d}\".format(i+1,nb))\n",
    "    \n",
    "    nb_train_errors = compute_nb_errors(model, train_input, new_train_target, mini_batch_size)\n",
    "    nb_test_errors = compute_nb_errors(model, test_input, new_test_target, mini_batch_size)\n",
    "    \n",
    "    if print_errors:\n",
    "        print('train error Net2 {:0.2f}%% {:d}/{:d}'.format((100 * nb_train_errors) / train_input.size(0),\n",
    "                                                           nb_train_errors, train_input.size(0)))\n",
    "        print('test error Net2 {:0.2f}%% {:d}/{:d}'.format((100 * nb_test_errors) / test_input.size(0),\n",
    "                                                           nb_test_errors, test_input.size(0)))\n",
    "    train_errors.append(nb_train_errors)\n",
    "    test_errors.append(nb_test_errors)    \n",
    "    \n",
    "analyse_results(train_errors, test_errors, \"DEEP MODEL WITH OPTIMIZER\")"
   ]
  },
  {
   "cell_type": "code",
   "execution_count": null,
   "metadata": {},
   "outputs": [],
   "source": [
    "#########################################################################################\n",
    "#########################################END#############################################\n",
    "#########################################################################################"
   ]
  },
  {
   "cell_type": "code",
   "execution_count": null,
   "metadata": {
    "scrolled": true
   },
   "outputs": [],
   "source": [
    "######################################################################\n",
    "# Deeper model\n",
    "\n",
    "model = Net2(64)\n",
    "\n",
    "lr = 0.001\n",
    "train_model2(model, train_input, new_train_target, mini_batch_size, lr)\n",
    "\n",
    "nb_train_errors = compute_nb_errors(model, train_input, new_train_target, mini_batch_size)\n",
    "print('train error Net2 {:0.2f}%% {:d}/{:d}'.format((100 * nb_train_errors) / train_input.size(0),\n",
    "                                                   nb_train_errors, train_input.size(0)))\n",
    "\n",
    "nb_test_errors = compute_nb_errors(model, test_input, new_test_target, mini_batch_size)\n",
    "print('test error Net2 {:0.2f}%% {:d}/{:d}'.format((100 * nb_test_errors) / test_input.size(0),\n",
    "                                                   nb_test_errors, test_input.size(0)))"
   ]
  },
  {
   "cell_type": "markdown",
   "metadata": {},
   "source": [
    "#### Test for lr choice"
   ]
  },
  {
   "cell_type": "code",
   "execution_count": null,
   "metadata": {},
   "outputs": [],
   "source": [
    "#lr = 0.001 seems good: train error: 12%, test error: 20%\n",
    "for lr in [0.001,0.005, 0.01, 0.05, 0.1, 0.5]:\n",
    "    model = Net2(64)\n",
    "    train_model2(model, train_input, new_train_target, mini_batch_size, lr)\n",
    "\n",
    "    nb_train_errors = compute_nb_errors(model, train_input, new_train_target, mini_batch_size)\n",
    "    print('train error Net2 {:0.2f}%% {:d}/{:d}'.format((100 * nb_train_errors) / train_input.size(0),\n",
    "                                                       nb_train_errors, train_input.size(0)))\n",
    "\n",
    "    nb_test_errors = compute_nb_errors(model, test_input, new_test_target, mini_batch_size)\n",
    "    print('test error Net2 {:0.2f}%% {:d}/{:d}'.format((100 * nb_test_errors) / test_input.size(0),\n",
    "                                                       nb_test_errors, test_input.size(0)))\n",
    "    "
   ]
  },
  {
   "cell_type": "markdown",
   "metadata": {},
   "source": [
    "### With batch normalization"
   ]
  },
  {
   "cell_type": "code",
   "execution_count": null,
   "metadata": {},
   "outputs": [],
   "source": [
    "######################################################################\n",
    "# Deeper model\n",
    "\n",
    "model = Net3(64)\n",
    "lr = 0.05\n",
    "train_model2(model, train_input, new_train_target, mini_batch_size, lr)\n",
    "\n",
    "nb_train_errors = compute_nb_errors(model, train_input, new_train_target, mini_batch_size)\n",
    "print('train error Net3 {:0.2f}%% {:d}/{:d}'.format((100 * nb_train_errors) / train_input.size(0),\n",
    "                                                   nb_train_errors, train_input.size(0)))\n",
    "\n",
    "nb_test_errors = compute_nb_errors(model, test_input, new_test_target, mini_batch_size)\n",
    "print('test error Net3 {:0.2f}%% {:d}/{:d}'.format((100 * nb_test_errors) / test_input.size(0),\n",
    "                                                   nb_test_errors, test_input.size(0)))"
   ]
  },
  {
   "cell_type": "code",
   "execution_count": null,
   "metadata": {},
   "outputs": [],
   "source": [
    "#lr = 0.05??? : train error: 0.9%, test error: 20%\n",
    "for lr in [0.001,0.005, 0.01, 0.05, 0.1, 0.5]:\n",
    "    model = Net3(64)\n",
    "    train_model2(model, train_input, new_train_target, mini_batch_size, lr)\n",
    "\n",
    "    nb_train_errors = compute_nb_errors(model, train_input, new_train_target, mini_batch_size)\n",
    "    print(\"learning rate: \", lr)\n",
    "    print('train error Net3 {:0.2f}%% {:d}/{:d}'.format((100 * nb_train_errors) / train_input.size(0),\n",
    "                                                       nb_train_errors, train_input.size(0)))\n",
    "\n",
    "    nb_test_errors = compute_nb_errors(model, test_input, new_test_target, mini_batch_size)\n",
    "    print('test error Net3 {:0.2f}%% {:d}/{:d}'.format((100 * nb_test_errors) / test_input.size(0),\n",
    "                                                       nb_test_errors, test_input.size(0)))\n",
    "    "
   ]
  },
  {
   "cell_type": "code",
   "execution_count": null,
   "metadata": {},
   "outputs": [],
   "source": [
    "lr = 0.05\n",
    "for i in range(5):\n",
    "    train_input, train_target, train_classes, test_input, test_target, test_classes = prologue.generate_pair_sets(1000)\n",
    "    train_input/=255\n",
    "    test_input/=255\n",
    "    new_train_target, new_test_target = reshape_targets(train_target, test_target)\n",
    "    \n",
    "    model = Net3(64)\n",
    "    train_model2(model, train_input, new_train_target, mini_batch_size, lr)\n",
    "\n",
    "    nb_train_errors = compute_nb_errors(model, train_input, new_train_target, mini_batch_size)\n",
    "    print('train error Net3 {:0.2f}%% {:d}/{:d}'.format((100 * nb_train_errors) / train_input.size(0),\n",
    "                                                       nb_train_errors, train_input.size(0)))\n",
    "\n",
    "    nb_test_errors = compute_nb_errors(model, test_input, new_test_target, mini_batch_size)\n",
    "    print('test error Net3 {:0.2f}%% {:d}/{:d}'.format((100 * nb_test_errors) / test_input.size(0),\n",
    "                                                       nb_test_errors, test_input.size(0)))"
   ]
  },
  {
   "cell_type": "code",
   "execution_count": null,
   "metadata": {},
   "outputs": [],
   "source": [
    "###ANALYSES OF THE RESULTS\n",
    "print('Average train error {:0.2f}% {:0.2f}/{:d}'.format((100 * np.mean(nb_train_errors)) / train_input.size(0),\n",
    "                                                      np.mean(nb_train_errors), train_input.size(0)))\n",
    "print(\"Train error standard deviation : {:0.2f}\".format(np.std(nb_train_errors)))\n",
    "\n",
    "print('Average test error {:0.2f}% {:0.2f}/{:d}'.format((100 * np.mean(nb_test_errors)) / test_input.size(0),\n",
    "                                                      np.mean(nb_test_errors), test_input.size(0)))\n",
    "print(\"Test error standard deviation : {:0.2f}\".format(np.std(nb_test_errors)))\n",
    "\n",
    "\n",
    "train_err = [x*100 / train_input.size(0) for x in nb_train_errors]\n",
    "test_err = [x*100 / test_input.size(0) for x in nb_test_errors]\n",
    "\n",
    "plt.figure\n",
    "plt.title(\"Train and test errors\")\n",
    "plt.boxplot([train_err, test_err], labels=['train error', 'test error'])\n",
    "plt.ylabel(\"Error percentage\")\n",
    "plt.show()"
   ]
  },
  {
   "cell_type": "code",
   "execution_count": null,
   "metadata": {},
   "outputs": [],
   "source": [
    "####let's find the best learning rate (shallow with optimizer)\n",
    "for lr in [0.001,0.005, 0.01, 0.05, 0.1, 0.5]:\n",
    "    model = Net(64)\n",
    "    train_model2(model, train_input, new_train_target, mini_batch_size, lr)\n",
    "    print(\"learning rate=\", lr)\n",
    "    nb_train_errors = compute_nb_errors(model, train_input, new_train_target, mini_batch_size)\n",
    "    print('train error Net {:0.2f}% {:d}/{:d}'.format((100 * nb_train_errors) / test_input.size(0),\n",
    "                                              nb_train_errors, test_input.size(0)))\n",
    "    nb_test_errors = compute_nb_errors(model, test_input, new_test_target, mini_batch_size)\n",
    "    print('test error Net {:0.2f}% {:d}/{:d}'.format((100 * nb_test_errors) / test_input.size(0),\n",
    "                                                      nb_test_errors, test_input.size(0)))\n",
    "    "
   ]
  },
  {
   "cell_type": "code",
   "execution_count": null,
   "metadata": {},
   "outputs": [],
   "source": [
    "#with batch normalization and optimizer\n",
    "for lr in [0.001,0.005, 0.01, 0.05, 0.1, 0.5]:\n",
    "    model = Net_bn(64)\n",
    "\n",
    "    train_model2(model, train_input, new_train_target, mini_batch_size, lr)\n",
    "    print(\"Learning rate :\", lr )\n",
    "    nb_train_errors = compute_nb_errors(model, train_input, new_train_target, mini_batch_size)\n",
    "    print('train error Net {:0.2f}% {:d}/{:d}'.format((100 * nb_train_errors) / test_input.size(0),\n",
    "                                              nb_train_errors, test_input.size(0)))\n",
    "    nb_test_errors = compute_nb_errors(model, test_input, new_test_target, mini_batch_size)\n",
    "    print('test error Net {:0.2f}% {:d}/{:d}'.format((100 * nb_test_errors) / test_input.size(0),\n",
    "                                                      nb_test_errors, test_input.size(0)))\n",
    "    ##good lr : 0.001"
   ]
  }
 ],
 "metadata": {
  "kernelspec": {
   "display_name": "Python 3",
   "language": "python",
   "name": "python3"
  },
  "language_info": {
   "codemirror_mode": {
    "name": "ipython",
    "version": 3
   },
   "file_extension": ".py",
   "mimetype": "text/x-python",
   "name": "python",
   "nbconvert_exporter": "python",
   "pygments_lexer": "ipython3",
   "version": "3.7.4"
  }
 },
 "nbformat": 4,
 "nbformat_minor": 2
}
