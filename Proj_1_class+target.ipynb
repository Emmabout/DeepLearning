{
 "cells": [
  {
   "cell_type": "code",
   "execution_count": 1,
   "metadata": {},
   "outputs": [],
   "source": [
    "import torch\n",
    "from torch import nn\n",
    "from torch.nn import functional as F\n",
    "from torch import optim\n",
    "import dlc_practical_prologue as prologue\n",
    "\n",
    "mini_batch_size = 100\n",
    "N = 1000\n",
    "train_input, train_target, train_classes, test_input, test_target, test_classes = prologue.generate_pair_sets(N)"
   ]
  },
  {
   "cell_type": "code",
   "execution_count": 2,
   "metadata": {},
   "outputs": [],
   "source": [
    "#normalize the input\n",
    "train_input/=255\n",
    "test_input/=255"
   ]
  },
  {
   "cell_type": "code",
   "execution_count": 3,
   "metadata": {},
   "outputs": [],
   "source": [
    "print_shapes_Net = False"
   ]
  },
  {
   "cell_type": "code",
   "execution_count": 4,
   "metadata": {},
   "outputs": [],
   "source": [
    "class Net(nn.Module):\n",
    "    def __init__(self, nb_hidden):\n",
    "        super(Net, self).__init__()\n",
    "        self.conv1 = nn.Conv2d(1, 32, kernel_size=3)\n",
    "        self.conv2 = nn.Conv2d(32, 64, kernel_size=3)\n",
    "        self.fc1 = nn.Linear(256, nb_hidden)\n",
    "        self.fc2 = nn.Linear(nb_hidden, 10)\n",
    "\n",
    "    def forward(self, x):\n",
    "        if print_shapes_Net:\n",
    "            print(x.shape)\n",
    "        x = F.relu(F.max_pool2d(self.conv1(x), kernel_size=2, stride=2))\n",
    "        if print_shapes_Net:\n",
    "            print(x.shape)\n",
    "        x = F.relu(F.max_pool2d(self.conv2(x), kernel_size=2, stride=2))\n",
    "        if print_shapes_Net:\n",
    "            print(x.shape)\n",
    "        x = F.relu(self.fc1(x.view(-1, 256)))\n",
    "        if print_shapes_Net:\n",
    "            print(x.shape)\n",
    "        x = self.fc2(x)\n",
    "        if print_shapes_Net:\n",
    "            print(x.shape)\n",
    "        return x"
   ]
  },
  {
   "cell_type": "code",
   "execution_count": 5,
   "metadata": {},
   "outputs": [],
   "source": [
    "class Net1(nn.Module):\n",
    "    def __init__(self, nb_hidden):\n",
    "        super(Net1, self).__init__()\n",
    "        self.conv1 = nn.Conv1d(2, 32, kernel_size=3)\n",
    "        self.conv2 = nn.Conv1d(16, 64, kernel_size=3)\n",
    "        self.fc1 = nn.Linear(32, nb_hidden)\n",
    "        self.fc2 = nn.Linear(nb_hidden, 2)\n",
    "\n",
    "    def forward(self, x):\n",
    "        if print_shapes_Net:\n",
    "            print(\"initial\", x.shape) #100 2 10\n",
    "        x = F.relu(F.max_pool2d(self.conv1(x), kernel_size=2, stride=2))\n",
    "        if print_shapes_Net:\n",
    "            print(\"conv1\",x.shape) #100 16 4\n",
    "        x = F.relu(F.max_pool2d(self.conv2(x), kernel_size=2, stride=2))\n",
    "        if print_shapes_Net:\n",
    "            print(\"conv2\",x.shape)\n",
    "        x = F.relu(self.fc1(x.view(-1, 32)))\n",
    "        if print_shapes_Net:\n",
    "            print(\"fc1\",x.shape)\n",
    "        x = self.fc2(x)\n",
    "        if print_shapes_Net:\n",
    "            print(\"final\",x.shape) # 100 1 2 \n",
    "        return x"
   ]
  },
  {
   "cell_type": "code",
   "execution_count": 6,
   "metadata": {},
   "outputs": [],
   "source": [
    "class Net2(nn.Module):\n",
    "    def __init__(self):\n",
    "        super(Net2, self).__init__()\n",
    "        nb_hidden = 200\n",
    "        self.conv1 = nn.Conv2d(1, 32, kernel_size=3)\n",
    "        self.conv2 = nn.Conv2d(32, 32, kernel_size=3)\n",
    "        self.conv3 = nn.Conv2d(32, 64, kernel_size=2)\n",
    "        self.fc1 = nn.Linear(64, nb_hidden)\n",
    "        self.fc2 = nn.Linear(nb_hidden, 10)\n",
    "\n",
    "    def forward(self, x):\n",
    "        if print_shapes_Net:\n",
    "            print(\"initial shape\", x.shape)\n",
    "        x = F.relu(F.max_pool2d(self.conv1(x), kernel_size=2))\n",
    "        if print_shapes_Net:\n",
    "            print(\"1 conv\",x.shape)\n",
    "        x = F.relu(F.max_pool2d(self.conv2(x), kernel_size=2))\n",
    "        if print_shapes_Net:\n",
    "            print(\"2 conv\", x.shape)\n",
    "        x = F.relu(self.conv3(x))\n",
    "        if print_shapes_Net:\n",
    "            print(\"3 conv\",x.shape)\n",
    "        x = F.relu(self.fc1(x.view(-1, 64)))\n",
    "        if print_shapes_Net:\n",
    "            print(\"fc1\",x.shape)\n",
    "        x = self.fc2(x)\n",
    "        if print_shapes_Net:\n",
    "            print(\"final\",x.shape)\n",
    "        return x\n",
    "\n",
    "######################################################################"
   ]
  },
  {
   "cell_type": "code",
   "execution_count": 7,
   "metadata": {},
   "outputs": [],
   "source": [
    "def train_model(model, train_input, train_target, mini_batch_size, lr):\n",
    "    criterion = nn.MSELoss()\n",
    "    optimizer = optim.Adam(model.parameters(), lr)\n",
    "    \n",
    "    for e in range(25):\n",
    "        sum_loss = 0\n",
    "        for b in range(0, train_input.size(0), mini_batch_size):\n",
    "            output = model(train_input.narrow(0, b, mini_batch_size))\n",
    "            loss = criterion(output, train_target.narrow(0, b, mini_batch_size))\n",
    "            model.zero_grad()\n",
    "            loss.backward()\n",
    "            optimizer.step()\n",
    "            \n",
    "            sum_loss = sum_loss + loss.item()\n",
    "        print(e, sum_loss)"
   ]
  },
  {
   "cell_type": "code",
   "execution_count": 8,
   "metadata": {},
   "outputs": [],
   "source": [
    "def train_model2(model, train_input, train_target, mini_batch_size, lr):\n",
    "    criterion = nn.MSELoss()\n",
    "    optimizer = optim.Adam(model.parameters(), lr)\n",
    "    \n",
    "    for e in range(25):\n",
    "        sum_loss = 0\n",
    "        for b in range(0, train_input.size(0), mini_batch_size):\n",
    "            output = model(train_input.narrow(0, b, mini_batch_size))\n",
    "            loss = criterion(output, train_target.narrow(0, b, mini_batch_size))\n",
    "            model.zero_grad()\n",
    "            loss.backward(retain_graph=True)\n",
    "            optimizer.step()\n",
    "            \n",
    "            sum_loss = sum_loss + loss.item()\n",
    "        print(e, sum_loss)"
   ]
  },
  {
   "cell_type": "code",
   "execution_count": 9,
   "metadata": {},
   "outputs": [],
   "source": [
    "def compute_nb_errors_classes(model, input, target, mini_batch_size):\n",
    "    nb_errors = 0\n",
    "\n",
    "    for b in range(0, input.size(0), mini_batch_size):\n",
    "        output = model(input.narrow(0, b, mini_batch_size))\n",
    "        _, predicted_classes = output.max(1)\n",
    "\n",
    "        for k in range(mini_batch_size):\n",
    "            #print(predicted_classes[k], target[b+k].max(0)[1])\n",
    "            if target[b + k, predicted_classes[k]] <= 0:\n",
    "                nb_errors = nb_errors + 1\n",
    "\n",
    "    return nb_errors"
   ]
  },
  {
   "cell_type": "code",
   "execution_count": 10,
   "metadata": {},
   "outputs": [],
   "source": [
    "def compute_nb_errors_targets(model, input, target):\n",
    "    nb_errors = 0\n",
    "    output = model(input)\n",
    "    _, predicted_classes = output.max(1)\n",
    "    #print(predicted_classes.shape)\n",
    "    predicted_target = torch.empty(1000)\n",
    "    \n",
    "    for b in range (1000):\n",
    "        if predicted_classes[2*b] > predicted_classes[2*b + 1]:\n",
    "            predicted_target[b] = 0\n",
    "        else:\n",
    "            predicted_target[b] = 1\n",
    "        #print(predicted_target[b], target[b])\n",
    "        if predicted_target[b] != target[b]:\n",
    "            nb_errors = nb_errors + 1\n",
    "\n",
    "    return nb_errors"
   ]
  },
  {
   "cell_type": "code",
   "execution_count": 11,
   "metadata": {},
   "outputs": [],
   "source": [
    "def compute_nb_errors_targets2(model, input, target):\n",
    "    nb_errors = 0\n",
    "    output = model(input)\n",
    "    _, predicted_classes = output.max(1) #digits - shape [1000]\n",
    "    print(predicted_classes.shape)\n",
    "    predicted_target = torch.empty(1000)\n",
    "    \n",
    "    for b in range (1000):\n",
    "          \n",
    "        # print(predicted_classes[b], target[b], \"b\", b)\n",
    "        if target[b,int(predicted_classes[b])] <= 0:\n",
    "            nb_errors = nb_errors + 1\n",
    "            \n",
    "        \"\"\"if predicted_target[b] != target[b]:\n",
    "            nb_errors = nb_errors + 1\"\"\"\n",
    "\n",
    "    return nb_errors"
   ]
  },
  {
   "cell_type": "code",
   "execution_count": 12,
   "metadata": {},
   "outputs": [],
   "source": [
    "new_train_input = train_input.view([2000,1,14,14])\n",
    "new_test_input = test_input.view([2000,1,14,14])\n",
    "#print(new_train_input.shape)\n",
    "#new_train_classes = train_classes.view([2000])\n",
    "#new_test_classes = test_classes.view([2000])\n",
    "#print(train_classes.shape)"
   ]
  },
  {
   "cell_type": "code",
   "execution_count": 13,
   "metadata": {},
   "outputs": [],
   "source": [
    "train_classes = train_classes.view(2000)\n",
    "test_classes = test_classes.view(2000)"
   ]
  },
  {
   "cell_type": "code",
   "execution_count": 14,
   "metadata": {},
   "outputs": [],
   "source": [
    "#transfor classes in a 2000 * 10 \n",
    "train_classes2 = torch.empty(2000,10)\n",
    "test_classes2 = torch.empty(2000,10)\n",
    "for i in range(2000):\n",
    "    for j in range(10):\n",
    "        if train_classes[i] == j:\n",
    "            train_classes2[i,j] = 1\n",
    "        else:\n",
    "            train_classes2[i,j] = 0\n",
    "        if test_classes[i] == j:\n",
    "            test_classes2[i,j] = 1\n",
    "        else:\n",
    "            test_classes2[i,j] = 0"
   ]
  },
  {
   "cell_type": "code",
   "execution_count": 15,
   "metadata": {},
   "outputs": [],
   "source": [
    "train_input = new_train_input\n",
    "test_input = new_test_input\n",
    "train_classes = train_classes2\n",
    "test_classes = test_classes2"
   ]
  },
  {
   "cell_type": "code",
   "execution_count": 16,
   "metadata": {},
   "outputs": [
    {
     "name": "stdout",
     "output_type": "stream",
     "text": [
      "0 1.6928061544895172\n",
      "1 1.0780761018395424\n",
      "2 0.6628487333655357\n",
      "3 0.43067725002765656\n",
      "4 0.3192350845783949\n",
      "5 0.2654990954324603\n",
      "6 0.23044653236865997\n",
      "7 0.18862781021744013\n",
      "8 0.160379558801651\n",
      "9 0.1455889535136521\n",
      "10 0.132787951733917\n",
      "11 0.11891244002617896\n",
      "12 0.10436525545082986\n",
      "13 0.09012579126283526\n",
      "14 0.08080557710491121\n",
      "15 0.07255133497528732\n",
      "16 0.06506303627975285\n",
      "17 0.05995037348475307\n",
      "18 0.061419976176694036\n",
      "19 0.06316676153801382\n",
      "20 0.06042509828694165\n",
      "21 0.05995093937963247\n",
      "22 0.04907253501005471\n",
      "23 0.037125345203094184\n",
      "24 0.0327044379664585\n",
      "train error Net 0.35% 7/2000\n",
      "test error Net 5.05% 101/2000\n"
     ]
    }
   ],
   "source": [
    "####predict class of each digit\n",
    "for k in range(1):\n",
    "    model = Net2()\n",
    "    lr = 0.005\n",
    "    train_model(model, train_input, train_classes, mini_batch_size, lr)\n",
    "    \n",
    "    nb_train_errors = compute_nb_errors_classes(model, train_input, train_classes, mini_batch_size)\n",
    "    print('train error Net {:0.2f}% {:d}/{:d}'.format((100 * nb_train_errors) / train_input.size(0),\n",
    "                                                      nb_train_errors, train_input.size(0)))\n",
    "    nb_test_errors = compute_nb_errors_classes(model, test_input, test_classes, mini_batch_size)\n",
    "    print('test error Net {:0.2f}% {:d}/{:d}'.format((100 * nb_test_errors) / test_input.size(0),\n",
    "                                                    nb_test_errors, test_input.size(0)))\n",
    "    "
   ]
  },
  {
   "cell_type": "code",
   "execution_count": 17,
   "metadata": {},
   "outputs": [],
   "source": [
    "output_train = model(new_train_input)\n",
    "new_output_train = output_train.view([1000,2,10])\n",
    "output_test = model(new_test_input)\n",
    "new_output_test = output_test.view([1000,2,10])"
   ]
  },
  {
   "cell_type": "code",
   "execution_count": 18,
   "metadata": {},
   "outputs": [],
   "source": [
    "#train_target[1000,1]\n",
    "\n",
    "new_train_target = torch.empty(1000,2)\n",
    "new_test_target = torch.empty(1000,2)\n",
    "for i in range(1000):\n",
    "    if train_target[i] == 1 :\n",
    "        new_train_target[i,0] = 0\n",
    "        new_train_target[i,1] = 1\n",
    "        \n",
    "    else:\n",
    "        new_train_target[i,0] = 1\n",
    "        new_train_target[i,1] = 0\n",
    "        \n",
    "    if test_target[i] == 1:\n",
    "        new_test_target[i,0] = 0\n",
    "        new_test_target[i,1] = 1\n",
    "        \n",
    "    else:\n",
    "        new_test_target[i,0] = 1\n",
    "        new_test_target[i,1] = 0"
   ]
  },
  {
   "cell_type": "code",
   "execution_count": 19,
   "metadata": {},
   "outputs": [
    {
     "name": "stdout",
     "output_type": "stream",
     "text": [
      "0 2.743059203028679\n",
      "1 2.0332554280757904\n",
      "2 1.0772083178162575\n",
      "3 0.44072831980884075\n",
      "4 0.2353417444974184\n",
      "5 0.15310259349644184\n",
      "6 0.1323187118396163\n",
      "7 0.12554017640650272\n",
      "8 0.1002412592060864\n",
      "9 0.061012327671051025\n",
      "10 0.05824705329723656\n",
      "11 0.0600721794180572\n",
      "12 0.05147415236569941\n",
      "13 0.04338753782212734\n",
      "14 0.041542553110048175\n",
      "15 0.043966175289824605\n",
      "16 0.046471541514620185\n",
      "17 0.04723310098052025\n",
      "18 0.04601261822972447\n",
      "19 0.04336920182686299\n",
      "20 0.0396826125215739\n",
      "21 0.036232093698345125\n",
      "22 0.03514285641722381\n",
      "23 0.03549069399014115\n",
      "24 0.03598432336002588\n"
     ]
    }
   ],
   "source": [
    "###predict target using model\n",
    "model1 = Net1(200)\n",
    "\n",
    "lr = 0.005\n",
    "\n",
    "train_model2(model1, new_output_train, new_train_target, mini_batch_size, lr)"
   ]
  },
  {
   "cell_type": "code",
   "execution_count": 20,
   "metadata": {},
   "outputs": [
    {
     "name": "stdout",
     "output_type": "stream",
     "text": [
      "torch.Size([1000])\n",
      "train error Net 0.10% 1/1000\n",
      "torch.Size([1000])\n",
      "test error Net 3.30% 33/1000\n"
     ]
    }
   ],
   "source": [
    "nb_train_errors = compute_nb_errors_targets2(model1, new_output_train, new_train_target)\n",
    "print('train error Net {:0.2f}% {:d}/{:d}'.format((100 * nb_train_errors) / new_output_train.size(0),\n",
    "                                                  nb_train_errors, new_output_train.size(0)))\n",
    "nb_test_errors = compute_nb_errors_targets2(model1, new_output_test, new_test_target)\n",
    "print('test error Net {:0.2f}% {:d}/{:d}'.format((100 * nb_test_errors) / new_output_test.size(0),\n",
    "                                                nb_test_errors, new_output_test.size(0)))"
   ]
  },
  {
   "cell_type": "code",
   "execution_count": 22,
   "metadata": {},
   "outputs": [
    {
     "name": "stdout",
     "output_type": "stream",
     "text": [
      "train error Net 0.30% 3/1000\n",
      "test error Net 3.70% 37/1000\n"
     ]
    }
   ],
   "source": [
    "###predict target using \"if\"\n",
    "\n",
    "nb_train_errors = compute_nb_errors_targets(model, train_input, train_target)\n",
    "print('train error Net {:0.2f}% {:d}/{:d}'.format((100 * nb_train_errors) / train_target.size(0),\n",
    "                                                  nb_train_errors, train_target.size(0)))\n",
    "nb_test_errors = compute_nb_errors_targets(model, test_input,  test_target)\n",
    "print('test error Net {:0.2f}% {:d}/{:d}'.format((100 * nb_test_errors) / train_target.size(0),\n",
    "                                                nb_test_errors, train_target.size(0)))"
   ]
  },
  {
   "cell_type": "markdown",
   "metadata": {},
   "source": [
    "lr = 0.01 : train error 2.35%\n",
    "            test error 8.95%\n",
    "lr = 0.005 : train error 0%\n",
    "             test error 4.20%"
   ]
  },
  {
   "cell_type": "code",
   "execution_count": 24,
   "metadata": {},
   "outputs": [
    {
     "name": "stdout",
     "output_type": "stream",
     "text": [
      "torch.Size([2000, 10])\n",
      "tensor([-0.0221, -0.0341, -0.0094,  0.0758, -0.0256,  0.0292, -0.0165, -0.0414,\n",
      "         0.0031,  0.9251], grad_fn=<SelectBackward>) tensor([-0.0210,  0.0018, -0.0263,  1.0347,  0.0176,  0.0292,  0.0195,  0.0140,\n",
      "        -0.0403, -0.0327], grad_fn=<SelectBackward>)\n",
      "torch.Size([1000, 2, 10])\n",
      "tensor([[-0.0221, -0.0341, -0.0094,  0.0758, -0.0256,  0.0292, -0.0165, -0.0414,\n",
      "          0.0031,  0.9251],\n",
      "        [-0.0210,  0.0018, -0.0263,  1.0347,  0.0176,  0.0292,  0.0195,  0.0140,\n",
      "         -0.0403, -0.0327]], grad_fn=<SelectBackward>)\n"
     ]
    }
   ],
   "source": [
    "output = model(new_train_input)\n",
    "print(output.shape)\n",
    "print(output[0], output[1])\n",
    "\n",
    "new_output = output.view([1000,2,10])\n",
    "print(new_output.shape)\n",
    "print(new_output[0])"
   ]
  },
  {
   "cell_type": "code",
   "execution_count": null,
   "metadata": {},
   "outputs": [],
   "source": [
    "######################################################################\n",
    "# Question 3\n",
    "\n",
    "for nh in [ 10, 50, 200, 500, 2500 ]:\n",
    "    model = Net(nh)\n",
    "    train_model(model, train_input, train_target, mini_batch_size)\n",
    "    nb_test_errors = compute_nb_errors(model, test_input, test_target, mini_batch_size)\n",
    "    print('test error Net nh={:d} {:0.2f}%% {:d}/{:d}'.format(nh,\n",
    "                                                              (100 * nb_test_errors) / test_input.size(0),\n",
    "                                                              nb_test_errors, test_input.size(0)))"
   ]
  },
  {
   "cell_type": "code",
   "execution_count": null,
   "metadata": {},
   "outputs": [],
   "source": [
    "######################################################################\n",
    "# Question 4\n",
    "\n",
    "model = Net2()\n",
    "train_model(model, train_input, train_target, mini_batch_size)\n",
    "nb_test_errors = compute_nb_errors(model, test_input, test_target, mini_batch_size)\n",
    "print('test error Net2 {:0.2f}%% {:d}/{:d}'.format((100 * nb_test_errors) / test_input.size(0),\n",
    "                                                   nb_test_errors, test_input.size(0)))"
   ]
  }
 ],
 "metadata": {
  "kernelspec": {
   "display_name": "Python 3",
   "language": "python",
   "name": "python3"
  },
  "language_info": {
   "codemirror_mode": {
    "name": "ipython",
    "version": 3
   },
   "file_extension": ".py",
   "mimetype": "text/x-python",
   "name": "python",
   "nbconvert_exporter": "python",
   "pygments_lexer": "ipython3",
   "version": "3.7.3"
  }
 },
 "nbformat": 4,
 "nbformat_minor": 2
}
