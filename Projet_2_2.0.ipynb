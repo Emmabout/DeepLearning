{
 "cells": [
  {
   "cell_type": "code",
   "execution_count": 1,
   "metadata": {},
   "outputs": [
    {
     "data": {
      "text/plain": [
       "<torch.autograd.grad_mode.set_grad_enabled at 0x276fd81f108>"
      ]
     },
     "execution_count": 1,
     "metadata": {},
     "output_type": "execute_result"
    }
   ],
   "source": [
    "import torch\n",
    "import math\n",
    "torch.set_grad_enabled(False)"
   ]
  },
  {
   "cell_type": "code",
   "execution_count": 10,
   "metadata": {},
   "outputs": [],
   "source": [
    "#build networks combining fully connected layers, Tanh, and ReLU,\n",
    "#run the forward and backward passes,\n",
    "#optimize parameters with SGD for MSE."
   ]
  },
  {
   "cell_type": "code",
   "execution_count": 39,
   "metadata": {},
   "outputs": [],
   "source": [
    "def generate_set():\n",
    "    training_set = torch.empty(1000,2).uniform_(0,1)  #x et y\n",
    "    training_classes = torch.empty(1000)\n",
    "    testing_set = torch.empty(1000,2).uniform_(0,1)  #x et y\n",
    "    testing_classes = torch.empty(1000)\n",
    "\n",
    "    r = torch.empty(1,1).fill_(1/(2*math.pi)).pow(1/2)\n",
    "\n",
    "    for i in range (1000):\n",
    "        if ((training_set[i] - torch.Tensor([0.5,0.5])).pow(2).sum()).pow(1/2).item() < r.item():\n",
    "            training_classes[i] = 1\n",
    "        else:\n",
    "            training_classes[i] = 0\n",
    "\n",
    "        if ((testing_set[i] - torch.Tensor([0.5,0.5])).pow(2).sum()).pow(1/2).item() < r.item():\n",
    "            testing_classes[i] = 1\n",
    "        else:\n",
    "            testing_classes[i] = 0\n",
    "    return training_set, training_classes, testing_set, testing_classes"
   ]
  },
  {
   "cell_type": "code",
   "execution_count": 40,
   "metadata": {},
   "outputs": [
    {
     "name": "stdout",
     "output_type": "stream",
     "text": [
      "tensor([0.9580, 0.8544]) tensor(0.)\n"
     ]
    }
   ],
   "source": [
    "training_set, training_classes, testing_set, testing_classes = generate_set()"
   ]
  },
  {
   "cell_type": "code",
   "execution_count": 47,
   "metadata": {},
   "outputs": [
    {
     "name": "stdout",
     "output_type": "stream",
     "text": [
      "tensor(515)\n",
      "tensor(485)\n"
     ]
    },
    {
     "data": {
      "image/png": "[encoded data removed]",
      "text/plain": [
       "<Figure size 432x288 with 1 Axes>"
      ]
     },
     "metadata": {
      "needs_background": "light"
     },
     "output_type": "display_data"
    }
   ],
   "source": [
    "import matplotlib.pyplot as plt\n",
    "plt.figure('1')\n",
    "x = training_set[:,0]\n",
    "y = training_set[:,1]\n",
    "plt.scatter(x[training_classes==1], y[training_classes==1], color='r')\n",
    "plt.scatter(x[training_classes==0], y[training_classes==0], color='b')\n",
    "\n",
    "print(sum(training_classes==0))\n",
    "print(sum(training_classes==1))\n",
    "plt.show()"
   ]
  },
  {
   "cell_type": "code",
   "execution_count": 48,
   "metadata": {},
   "outputs": [
    {
     "data": {
      "text/plain": [
       "'training_set = torch.empty(1000,2).uniform_(0,1)  #x et y\\ntraining_classes = torch.empty(1000,1)\\ntesting_set = torch.empty(1000,2).uniform_(0,1)  #x et y\\ntesting_classes = torch.empty(1000,1)\\n\\nr = torch.empty(1,1).fill_(1/(2*math.pi)).pow(1/2)\\n\\nfor i in range (1000):\\n    if (training_set[i].pow(2).sum()).pow(1/2).item() < r.item():\\n        training_classes[i] = 1\\n    else:\\n        training_classes[i] = 0\\n    \\n    if (testing_set[i].pow(2).sum()).pow(1/2).item() < r.item():\\n        testing_classes[i] = 1\\n    else:\\n        testing_classes[i] = 0\\n\\n#builds a network with two input units, two output units, three hidden layers of 25 units,\\n#trains it with MSE, logging the loss,\\n#computes and prints the ﬁnal train and the test errors.'"
      ]
     },
     "execution_count": 48,
     "metadata": {},
     "output_type": "execute_result"
    }
   ],
   "source": [
    "\"\"\"training_set = torch.empty(1000,2).uniform_(0,1)  #x et y\n",
    "training_classes = torch.empty(1000,1)\n",
    "testing_set = torch.empty(1000,2).uniform_(0,1)  #x et y\n",
    "testing_classes = torch.empty(1000,1)\n",
    "\n",
    "r = torch.empty(1,1).fill_(1/(2*math.pi)).pow(1/2)\n",
    "\n",
    "for i in range (1000):\n",
    "    if (training_set[i].pow(2).sum()).pow(1/2).item() < r.item():\n",
    "        training_classes[i] = 1\n",
    "    else:\n",
    "        training_classes[i] = 0\n",
    "    \n",
    "    if (testing_set[i].pow(2).sum()).pow(1/2).item() < r.item():\n",
    "        testing_classes[i] = 1\n",
    "    else:\n",
    "        testing_classes[i] = 0\n",
    "\n",
    "#builds a network with two input units, two output units, three hidden layers of 25 units,\n",
    "#trains it with MSE, logging the loss,\n",
    "#computes and prints the ﬁnal train and the test errors.\"\"\""
   ]
  },
  {
   "cell_type": "markdown",
   "metadata": {},
   "source": [
    "# LINEAR"
   ]
  },
  {
   "cell_type": "code",
   "execution_count": 61,
   "metadata": {},
   "outputs": [],
   "source": [
    "#LINEAR MODULE (FULLY CONNECTED LAYER)\n",
    "#mini batch : x[mini_batch_size * D]D=2\n",
    "class Linear(object):\n",
    "    def __init__(self, dimension, nb_data_in, nb_data_out):\n",
    "        #x = nb_data_in x dim in my calculation, but here transpose (dim x nb_data_in)\n",
    "        #y = nb_data_out x dim in my calculation, but here transpose (dim x nb_data_out)\n",
    "        k = math.sqrt(1/nb_data_in)\n",
    "        self.weight = torch.empty(nb_data_out,nb_data_in).uniform_(-k,k)\n",
    "        self.bias = torch.empty(nb_data_out,dimension).uniform_(-k,k)\n",
    "        self.grad_weight = None\n",
    "        self.grad_bias = None\n",
    "        self.input = None\n",
    "    \n",
    "    def forward(self , *input, nb_layer):\n",
    "        #All the calculation were done considering x = nb_data_in x dim (as seen in the lesson)\n",
    "        #So to simplify the comprehension, we do a first transpose, do the the calculations with this\n",
    "        #then transpose again after, to have the correct dimension output\n",
    "        print('input forward before')\n",
    "        print(input)\n",
    "        #save x with dim = dim x nb_data_in\n",
    "        if(nb_layer > 1):\n",
    "            input = input[0]\n",
    "            #pour le premier, on aura en entrée un ou plusieurs tensors (donne tuple quand rentré dans f)\n",
    "            \n",
    "        print('input forward after')\n",
    "        print(input)\n",
    "        #save x with dim = dim x nb_data_in    \n",
    "        self.input = input\n",
    "        output = []\n",
    "        \n",
    "        for x in input:\n",
    "            print('x')\n",
    "            print(x)\n",
    "            #x = dim x nb_data_in -> nb_data_in x dim\n",
    "            x_correct_dim = x.t()\n",
    "            #y = nb_data_out x dim\n",
    "            y_correct_dim = None\n",
    "\n",
    "            #dim analysis: [nb_data_out x nb_data_in] x [nb_data_in x dim] + [nb_data_out x dim]\n",
    "            y_correct_dim = ((self.weight).matmul(x_correct_dim)+self.bias)\n",
    "\n",
    "            #append y = [dim x nb_data_out] to respect lin module\n",
    "            output.append(y_correct_dim.t()) \n",
    "        return tuple(output)\n",
    "    \n",
    "    def backward(self, *gradwrtoutput):\n",
    "        dl_dx  = None\n",
    "        dl_dw = []\n",
    "        dl_db = []\n",
    "        gradaccumulated = []\n",
    "        print('g bef')\n",
    "        print(gradwrtoutput)\n",
    "        gradwrtoutput = gradwrtoutput[0]\n",
    "        print('g aft')\n",
    "        print(gradwrtoutput)\n",
    "        print(len(gradwrtoutput))\n",
    "        \n",
    "        for i in range (len(gradwrtoutput)):\n",
    "            #X = dim x nb_data_in -> nb_data_in x dim\n",
    "            x_correct_dim = self.input[i].t()\n",
    "            \n",
    "            #X = dim x nb_data_out -> nb_data_out x dim\n",
    "            print('g i')\n",
    "            #if(len(gradwrtoutput) == 1):\n",
    "                \n",
    "            #print(gradwrtoutput.t())\n",
    "            #print(gradwrtoutput.t().size())\n",
    "            grad_correct_dim = gradwrtoutput[i].t()\n",
    "            print(grad_correct_dim)\n",
    "            \n",
    "            #dl_dx = w^T x dl_dy (gradwrtoutput)\n",
    "            #dim analysis: nb_data_in x dim = [nb_data_in x nb_data_out] x [nb_data_out x dim]\n",
    "            dl_dx = (self.weight).t().matmul(grad_correct_dim)\n",
    "            #nb_data_in x dim -> dim x nb_data_in\n",
    "            gradaccumulated.append(dl_dx.t())\n",
    "            \n",
    "            #dl_db = dl_dy\n",
    "            #dim analysis: nb_data_out x dim (car b = nb_data_out x dim)\n",
    "            dl_db.append(grad_correct_dim)\n",
    "            \n",
    "            #dl_dw = dl_dy x X^T\n",
    "            #dim analysis: nb_data_out x nb_data_in = [nb_data_out x dim] x [dim x nb_data_in]\n",
    "            dl_dw.append(grad_correct_dim.matmul(x_correct_dim.t()))\n",
    "            \n",
    "        self.grad_weight = dl_dw\n",
    "        self.grad_bias = dl_db\n",
    "\n",
    "        return tuple(gradaccumulated)\n",
    "        \n",
    "    def param(self):\n",
    "        output = [[self.weight, self.grad_weight], [self.bias, self.grad_bias]]\n",
    "        return output\n",
    "    \n",
    "    #https://pytorch.org/docs/stable/nn.html#linear-layers"
   ]
  },
  {
   "cell_type": "code",
   "execution_count": 64,
   "metadata": {},
   "outputs": [
    {
     "name": "stdout",
     "output_type": "stream",
     "text": [
      "input\n",
      "(tensor([[ 0.8324, -0.3725]]), tensor([[-0.6950, -1.0685]]))\n",
      "dim =  1  input = 2\n",
      "nb_out =  3\n",
      "input forward before\n",
      "((tensor([[ 0.8324, -0.3725]]), tensor([[-0.6950, -1.0685]])),)\n",
      "input forward after\n",
      "(tensor([[ 0.8324, -0.3725]]), tensor([[-0.6950, -1.0685]]))\n",
      "x\n",
      "tensor([[ 0.8324, -0.3725]])\n",
      "x\n",
      "tensor([[-0.6950, -1.0685]])\n",
      "forward\n",
      "(tensor([[-0.9116, -1.2593, -0.9299]]), tensor([[-0.3421, -0.4755, -0.4136]]))\n"
     ]
    }
   ],
   "source": [
    "a = torch.empty(1,2).normal_()\n",
    "b = torch.empty(a.size()).normal_()\n",
    "l = []\n",
    "l.append(a)\n",
    "l.append(b)\n",
    "i = tuple(l)\n",
    "print('input')\n",
    "#print(a,b)\n",
    "print(i)\n",
    "\n",
    "print('dim = ', i[0].size(0),' input =', i[0].size(1))\n",
    "nb_out = 3\n",
    "print('nb_out = ', nb_out)\n",
    "\n",
    "lin = Linear(i[0].size(0),i[0].size(1),nb_out)\n",
    "f = lin.forward(i,nb_layer = 2)\n",
    "print('forward')\n",
    "print(f)"
   ]
  },
  {
   "cell_type": "code",
   "execution_count": 63,
   "metadata": {},
   "outputs": [
    {
     "name": "stdout",
     "output_type": "stream",
     "text": [
      "input\n",
      "tensor([[1.4728, 2.2418]])\n",
      "(tensor([[1.4728, 2.2418]]),)\n",
      "dim =  1  input = 2\n",
      "nb_out =  3\n",
      "input forward before\n",
      "((tensor([[1.4728, 2.2418]]),),)\n",
      "input forward after\n",
      "(tensor([[1.4728, 2.2418]]),)\n",
      "x\n",
      "tensor([[1.4728, 2.2418]])\n",
      "forward\n",
      "(tensor([[-1.5019,  1.0424,  0.6305]]),)\n"
     ]
    }
   ],
   "source": [
    "a = torch.empty(1,2).normal_()\n",
    "l = []\n",
    "l.append(a)\n",
    "i = tuple(l)\n",
    "print('input')\n",
    "print(a)\n",
    "print(i)\n",
    "\n",
    "print('dim = ', i[0].size(0),' input =', i[0].size(1))\n",
    "nb_out = 3\n",
    "print('nb_out = ', nb_out)\n",
    "\n",
    "lin = Linear(i[0].size(0),i[0].size(1),nb_out)\n",
    "f = lin.forward(i,nb_layer = 2)\n",
    "print('forward')\n",
    "print(f)"
   ]
  },
  {
   "cell_type": "code",
   "execution_count": 65,
   "metadata": {},
   "outputs": [
    {
     "name": "stdout",
     "output_type": "stream",
     "text": [
      "grad\n",
      "(tensor([[-0.5406, -0.9405, -1.2741]]),)\n",
      "g bef\n",
      "((tensor([[-0.5406, -0.9405, -1.2741]]),),)\n",
      "g aft\n",
      "(tensor([[-0.5406, -0.9405, -1.2741]]),)\n",
      "1\n",
      "g i\n",
      "tensor([[-0.5406],\n",
      "        [-0.9405],\n",
      "        [-1.2741]])\n",
      "gradaccumulated\n",
      "(tensor([[ 1.3945, -0.6135]]),)\n"
     ]
    }
   ],
   "source": [
    "g = []\n",
    "grad = torch.empty(i[0].size(0),nb_out).normal_()\n",
    "g.append(grad)\n",
    "gr = tuple(g)\n",
    "print('grad')\n",
    "print(gr)\n",
    "output = lin.backward(gr)\n",
    "print('gradaccumulated')\n",
    "print(output)"
   ]
  },
  {
   "cell_type": "code",
   "execution_count": null,
   "metadata": {},
   "outputs": [],
   "source": [
    "p = lin.param()\n",
    "print('weight and grad')\n",
    "print('must be of size', nb_out, ' x ', a.size(1))\n",
    "print('size', p[0][0].size(0), p[0][0].size(1))\n",
    "#print(p[0][0], p[0][1])\n",
    "print('bias and grad')\n",
    "print('must be of size', nb_out, ' x ', a.size(0))\n",
    "print('size', p[1][0].size(0), p[1][0].size(1))\n",
    "#print(p[1][0], p[1][1])"
   ]
  },
  {
   "cell_type": "markdown",
   "metadata": {},
   "source": [
    "# RELU"
   ]
  },
  {
   "cell_type": "code",
   "execution_count": 81,
   "metadata": {},
   "outputs": [],
   "source": [
    "#RELU MODULE\n",
    "class ReLU():\n",
    "    def __init__(self):\n",
    "        self.input = None\n",
    "    \n",
    "    def forward(self, *input):\n",
    "        print('input ReLU sans correction')\n",
    "        print(input)\n",
    "        \n",
    "        input = input[0]\n",
    "        liste = []\n",
    "        self.input = input\n",
    "        print('input corrected')\n",
    "        print(input)\n",
    "        for x in input:\n",
    "            print(x)\n",
    "            liste.append(torch.max(x,torch.zeros_like(x))) \n",
    "        output = tuple(liste)\n",
    "        return output\n",
    "        \n",
    "    def backward(self, *gradwrtoutput): \n",
    "        #add input as param ? \n",
    "        #No, parameters are w and b when linear, but input is saved has if we have to give backward and input\n",
    "        #in the case they're both tuple of tensors of size not know\n",
    "        #it's complicated (maybe impossible) to code it with the * (let the size be whatever we want)\n",
    "        derivative = []\n",
    "        gradaccumulated = []\n",
    "        print('gradwrtoutput before')\n",
    "        print(gradwrtoutput)\n",
    "        gradwrtoutput = gradwrtoutput[0]\n",
    "        print('gradwrtoutput after')\n",
    "        print(gradwrtoutput)\n",
    "        \n",
    "        for x in self.input:\n",
    "            dx = (x>=0).float()\n",
    "            derivative.append(dx)\n",
    "        for i in range (len(derivative)):\n",
    "            gradaccumulated.append(derivative[i]*gradwrtoutput[i])\n",
    "        output = tuple(gradaccumulated)\n",
    "        return output   \n",
    "\n",
    "    def param(self): \n",
    "        return []\n",
    "    \n",
    "#backward should get as input a tensor or a tuple of tensors containing the gradient of the \n",
    "#loss with respect to the module’s output, accumulate the gradient wrt the parameters, \n",
    "#and return a tensor or a tuple of tensors containing the gradient of the loss wrt the module’s input."
   ]
  },
  {
   "cell_type": "code",
   "execution_count": 84,
   "metadata": {},
   "outputs": [
    {
     "name": "stdout",
     "output_type": "stream",
     "text": [
      "tensor([[3., 3.]])\n",
      "tensor([[-2., -2.]])\n",
      "(tensor([[3., 3.]]), tensor([[-2., -2.]]))\n",
      "input ReLU sans correction\n",
      "((tensor([[3., 3.]]), tensor([[-2., -2.]])),)\n",
      "input corrected\n",
      "(tensor([[3., 3.]]), tensor([[-2., -2.]]))\n",
      "tensor([[3., 3.]])\n",
      "tensor([[-2., -2.]])\n",
      "ReLU of x, y\n",
      "(tensor([[3., 3.]]), tensor([[0., 0.]]))\n"
     ]
    }
   ],
   "source": [
    "R = ReLU()\n",
    "x = torch.empty(1,2).fill_(3)\n",
    "y = torch.empty(1,2).fill_(-2)\n",
    "l = []\n",
    "l.append(x)\n",
    "l.append(y)\n",
    "l = tuple(l)\n",
    "print(x)\n",
    "print(y)\n",
    "print(l)\n",
    "r = R.forward(l)\n",
    "print('ReLU of x, y')\n",
    "print(r)"
   ]
  },
  {
   "cell_type": "code",
   "execution_count": 85,
   "metadata": {},
   "outputs": [
    {
     "name": "stdout",
     "output_type": "stream",
     "text": [
      "(tensor([[2., 2.]]), tensor([[2., 2.]]))\n",
      "gradwrtoutput before\n",
      "((tensor([[2., 2.]]), tensor([[2., 2.]])),)\n",
      "gradwrtoutput after\n",
      "(tensor([[2., 2.]]), tensor([[2., 2.]]))\n",
      "grad\n",
      "(tensor([[2., 2.]]), tensor([[0., 0.]]))\n"
     ]
    }
   ],
   "source": [
    "grad1 = torch.empty(1,2).fill_(2)\n",
    "grad2 = torch.empty(1,2).fill_(2)\n",
    "g = []\n",
    "g.append(grad1)\n",
    "g.append(grad2)\n",
    "gr = tuple(g)\n",
    "\n",
    "print(gr)\n",
    "grad = R.backward(gr)\n",
    "print('grad')\n",
    "print(grad)"
   ]
  },
  {
   "cell_type": "markdown",
   "metadata": {},
   "source": [
    "# TANH"
   ]
  },
  {
   "cell_type": "code",
   "execution_count": 90,
   "metadata": {},
   "outputs": [],
   "source": [
    "#TANH MODULE\n",
    "class Tanh():\n",
    "    def __init__(self):\n",
    "        self.input = None\n",
    "        \n",
    "    def forward(self, *input): \n",
    "        output = []\n",
    "        self.input = input\n",
    "        for x in input:\n",
    "            output.append(torch.tanh(x)) \n",
    "        return tuple(output)\n",
    "    \n",
    "    def backward(self, *gradwrtoutput):\n",
    "        output = []\n",
    "        for i in range (len(gradwrtoutput)):\n",
    "            # derivative = (1 - torch.tanh(x).pow(2))\n",
    "            output.append((1 - torch.tanh(self.input[i]).pow(2))*gradwrtoutput[i])\n",
    "        return tuple(output)   \n",
    "\n",
    "    def param(self):\n",
    "        return [] #Pas de param"
   ]
  },
  {
   "cell_type": "code",
   "execution_count": 91,
   "metadata": {},
   "outputs": [
    {
     "name": "stdout",
     "output_type": "stream",
     "text": [
      "tensor([[1., 1.]]) tensor([[2., 2.]])\n",
      "tensor([[2., 2.]]) tensor([[2., 2.]])\n",
      "tanh of x, y\n",
      "(tensor([[0.7616, 0.7616]]), tensor([[0.9640, 0.9640]]))\n",
      "True\n",
      "grad\n",
      "(tensor([[0.8399, 0.8399]]), tensor([[0.1413, 0.1413]]))\n"
     ]
    }
   ],
   "source": [
    "T = Tanh()\n",
    "x = torch.empty(1,2).fill_(1)\n",
    "y = torch.empty(1,2).fill_(2)\n",
    "grad1 = torch.empty(1,2).fill_(2)\n",
    "grad2 = torch.empty(1,2).fill_(2)\n",
    "print(x, y)\n",
    "print(grad1, grad2)\n",
    "t = T.forward(x, y)\n",
    "print('tanh of x, y')\n",
    "print(t)\n",
    "print(isinstance(t,tuple))\n",
    "grad = T.backward(grad1,grad2)\n",
    "print('grad')\n",
    "print(grad)"
   ]
  },
  {
   "cell_type": "markdown",
   "metadata": {},
   "source": [
    "# LOSSMSE"
   ]
  },
  {
   "cell_type": "code",
   "execution_count": 122,
   "metadata": {},
   "outputs": [],
   "source": [
    "#LOSSMSE MODULE\n",
    "    \n",
    "class LossMSE():\n",
    "    #def __init__(self):\n",
    "        #Besoin d'aucun je pense\n",
    "        #self.loss = None\n",
    "        #self.gradloss = None\n",
    "    \n",
    "    def forward(self, *input, target): \n",
    "        #Si plusieurs input et target comment on fait?\n",
    "        #On aura un tuple de tensor qui consistera l'input, puis target = tuple of tensor target\n",
    "        liste = torch.Tensor([])\n",
    "        #Utilisation de cette écriture pour pouvoir faire somme sur \"liste\" (l = [] marche pas avec sum())\n",
    "        for i in range (len(input)):\n",
    "            liste = torch.cat((liste,(input[i]-target[i]).pow(2)))\n",
    "        loss = torch.sum(liste)/len(input)\n",
    "        #self.loss = loss même pas besoin\n",
    "        return loss\n",
    "        \n",
    "    def backward(self, *input, target):\n",
    "        gradaccumulated = []\n",
    "        #dloss = torch.Tensor([])\n",
    "        #Problem with this definition, is that we cannot have a tuple after (demandé dans la donnée)\n",
    "        dloss = []\n",
    "        for i,x in enumerate(input):\n",
    "            #dloss = torch.cat((dloss, 2*(x - target[i])/len(input)))\n",
    "            dloss.append(2*(x - target[i])/len(input))\n",
    "        #self.gradloss = dloss même pas besoin\n",
    "        #Backward must give a tensor or a tuple of tensors donc obligé de convertir\n",
    "        return tuple(dloss)\n",
    "\n",
    "    def param(self):\n",
    "        return [] #No param"
   ]
  },
  {
   "cell_type": "code",
   "execution_count": 123,
   "metadata": {},
   "outputs": [
    {
     "name": "stdout",
     "output_type": "stream",
     "text": [
      "input tensor([[1., 1.]]) tensor([[2., 2.]])\n",
      "target tensor([[-1., -1.]]) tensor([[-1., -1.]])\n",
      "loss tensor(13.)\n",
      "dloss (tensor([[2., 2.]]), tensor([[3., 3.]]))\n",
      "True\n"
     ]
    }
   ],
   "source": [
    "N = LossMSE()\n",
    "x = torch.empty(1,2).fill_(1)\n",
    "y = torch.empty(1,2).fill_(2)\n",
    "print(\"input\", x, y)\n",
    "t = torch.empty(1,2).fill_(-1)\n",
    "t2 = torch.empty(1,2).fill_(-1)\n",
    "print(\"target\", t, t2)\n",
    "l = N.forward(x, y , target= [t, t2])\n",
    "print('loss', l)\n",
    "dl = N.backward(x, y, target=[t, t2])\n",
    "print('dloss', dl)\n",
    "print(isinstance(dl,tuple))"
   ]
  },
  {
   "cell_type": "markdown",
   "metadata": {},
   "source": [
    "# SEQUENTIAL"
   ]
  },
  {
   "cell_type": "code",
   "execution_count": null,
   "metadata": {},
   "outputs": [],
   "source": [
    "#SEQUENTIAL MODULE (to combine several modules in basic sequential structure)\n",
    "class Sequential(object):\n",
    "    def forward(self , *input):\n",
    "        raise NotImplementedError\n",
    "    def backward(self , *gradwrtoutput):\n",
    "        raise NotImplementedError\n",
    "    def param(self): \n",
    "        return []\n",
    "    \n",
    "#forward should get for input, and returns, a tensor or a tuple of tensors.\n",
    "\n",
    "#backward should get as input a tensor or a tuple of tensors containing the gradient of the \n",
    "#loss with respect to the module’s output, accumulate the gradient wrt the parameters, \n",
    "#and return a tensor or a tuple of tensors containing the gradient of the loss wrt the module’s input.\n",
    "\n",
    "#param should return a list of pairs, each composed of a parameter tensor, and a gradient tensor of same size. \n",
    "#This list should be empty for parameterless modules (e.g. ReLU).\n",
    "#Some modules may requires additional methods, and some modules may keep track of information from the forward \n",
    "#pass to be used in the backward."
   ]
  },
  {
   "cell_type": "code",
   "execution_count": null,
   "metadata": {},
   "outputs": [],
   "source": []
  }
 ],
 "metadata": {
  "kernelspec": {
   "display_name": "Python 3",
   "language": "python",
   "name": "python3"
  },
  "language_info": {
   "codemirror_mode": {
    "name": "ipython",
    "version": 3
   },
   "file_extension": ".py",
   "mimetype": "text/x-python",
   "name": "python",
   "nbconvert_exporter": "python",
   "pygments_lexer": "ipython3",
   "version": "3.7.4"
  }
 },
 "nbformat": 4,
 "nbformat_minor": 2
}
