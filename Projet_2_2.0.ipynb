{
 "cells": [
  {
   "cell_type": "code",
   "execution_count": 9,
   "metadata": {},
   "outputs": [
    {
     "data": {
      "text/plain": [
       "<torch.autograd.grad_mode.set_grad_enabled at 0x16fd650dd08>"
      ]
     },
     "execution_count": 9,
     "metadata": {},
     "output_type": "execute_result"
    }
   ],
   "source": [
    "import torch\n",
    "import math\n",
    "torch.set_grad_enabled(False)"
   ]
  },
  {
   "cell_type": "code",
   "execution_count": 10,
   "metadata": {},
   "outputs": [],
   "source": [
    "#build networks combining fully connected layers, Tanh, and ReLU,\n",
    "#run the forward and backward passes,\n",
    "#optimize parameters with SGD for MSE."
   ]
  },
  {
   "cell_type": "code",
   "execution_count": 39,
   "metadata": {},
   "outputs": [],
   "source": [
    "def generate_set():\n",
    "    training_set = torch.empty(1000,2).uniform_(0,1)  #x et y\n",
    "    training_classes = torch.empty(1000)\n",
    "    testing_set = torch.empty(1000,2).uniform_(0,1)  #x et y\n",
    "    testing_classes = torch.empty(1000)\n",
    "\n",
    "    r = torch.empty(1,1).fill_(1/(2*math.pi)).pow(1/2)\n",
    "\n",
    "    for i in range (1000):\n",
    "        if ((training_set[i] - torch.Tensor([0.5,0.5])).pow(2).sum()).pow(1/2).item() < r.item():\n",
    "            training_classes[i] = 1\n",
    "        else:\n",
    "            training_classes[i] = 0\n",
    "\n",
    "        if ((testing_set[i] - torch.Tensor([0.5,0.5])).pow(2).sum()).pow(1/2).item() < r.item():\n",
    "            testing_classes[i] = 1\n",
    "        else:\n",
    "            testing_classes[i] = 0\n",
    "    return training_set, training_classes, testing_set, testing_classes"
   ]
  },
  {
   "cell_type": "code",
   "execution_count": 40,
   "metadata": {},
   "outputs": [
    {
     "name": "stdout",
     "output_type": "stream",
     "text": [
      "tensor([0.9580, 0.8544]) tensor(0.)\n"
     ]
    }
   ],
   "source": [
    "training_set, training_classes, testing_set, testing_classes = generate_set()"
   ]
  },
  {
   "cell_type": "code",
   "execution_count": 47,
   "metadata": {},
   "outputs": [
    {
     "name": "stdout",
     "output_type": "stream",
     "text": [
      "tensor(515)\n",
      "tensor(485)\n"
     ]
    },
    {
     "data": {
      "image/png": "[encoded data removed]",
      "text/plain": [
       "<Figure size 432x288 with 1 Axes>"
      ]
     },
     "metadata": {
      "needs_background": "light"
     },
     "output_type": "display_data"
    }
   ],
   "source": [
    "import matplotlib.pyplot as plt\n",
    "plt.figure('1')\n",
    "x = training_set[:,0]\n",
    "y = training_set[:,1]\n",
    "plt.scatter(x[training_classes==1], y[training_classes==1], color='r')\n",
    "plt.scatter(x[training_classes==0], y[training_classes==0], color='b')\n",
    "\n",
    "print(sum(training_classes==0))\n",
    "print(sum(training_classes==1))\n",
    "plt.show()"
   ]
  },
  {
   "cell_type": "code",
   "execution_count": 48,
   "metadata": {},
   "outputs": [
    {
     "data": {
      "text/plain": [
       "'training_set = torch.empty(1000,2).uniform_(0,1)  #x et y\\ntraining_classes = torch.empty(1000,1)\\ntesting_set = torch.empty(1000,2).uniform_(0,1)  #x et y\\ntesting_classes = torch.empty(1000,1)\\n\\nr = torch.empty(1,1).fill_(1/(2*math.pi)).pow(1/2)\\n\\nfor i in range (1000):\\n    if (training_set[i].pow(2).sum()).pow(1/2).item() < r.item():\\n        training_classes[i] = 1\\n    else:\\n        training_classes[i] = 0\\n    \\n    if (testing_set[i].pow(2).sum()).pow(1/2).item() < r.item():\\n        testing_classes[i] = 1\\n    else:\\n        testing_classes[i] = 0\\n\\n#builds a network with two input units, two output units, three hidden layers of 25 units,\\n#trains it with MSE, logging the loss,\\n#computes and prints the ﬁnal train and the test errors.'"
      ]
     },
     "execution_count": 48,
     "metadata": {},
     "output_type": "execute_result"
    }
   ],
   "source": [
    "\"\"\"training_set = torch.empty(1000,2).uniform_(0,1)  #x et y\n",
    "training_classes = torch.empty(1000,1)\n",
    "testing_set = torch.empty(1000,2).uniform_(0,1)  #x et y\n",
    "testing_classes = torch.empty(1000,1)\n",
    "\n",
    "r = torch.empty(1,1).fill_(1/(2*math.pi)).pow(1/2)\n",
    "\n",
    "for i in range (1000):\n",
    "    if (training_set[i].pow(2).sum()).pow(1/2).item() < r.item():\n",
    "        training_classes[i] = 1\n",
    "    else:\n",
    "        training_classes[i] = 0\n",
    "    \n",
    "    if (testing_set[i].pow(2).sum()).pow(1/2).item() < r.item():\n",
    "        testing_classes[i] = 1\n",
    "    else:\n",
    "        testing_classes[i] = 0\n",
    "\n",
    "#builds a network with two input units, two output units, three hidden layers of 25 units,\n",
    "#trains it with MSE, logging the loss,\n",
    "#computes and prints the ﬁnal train and the test errors.\"\"\""
   ]
  },
  {
   "cell_type": "markdown",
   "metadata": {},
   "source": [
    "# LINEAR"
   ]
  },
  {
   "cell_type": "code",
   "execution_count": 57,
   "metadata": {},
   "outputs": [],
   "source": [
    "#LINEAR MODULE (FULLY CONNECTED LAYER)\n",
    "#mini batch : x[mini_batch_size * D]D=2\n",
    "class Linear(object):\n",
    "    def __init__(self, in_feature, out_feature):\n",
    "        k = math.sqrt(1/in_feature)\n",
    "        self.weight = torch.empty(in_feature,out_feature).uniform_(-k,k)\n",
    "        self.bias = torch.empty(out_feature).uniform_(-k,k)\n",
    "        self.grad_weight = None\n",
    "        self.grad_bias = None\n",
    "    \n",
    "    def forward(self , *input):\n",
    "        if(isinstance(input, tuple)):\n",
    "            liste = []\n",
    "            for x in input[0]:\n",
    "                liste.append(x.matmul(self.weight)+self.bias) \n",
    "            output = tuple(liste)\n",
    "        else:\n",
    "            output = input.matmul(self.weight)+self.bias\n",
    "        return output\n",
    "    \n",
    "    def backward(self, *gradwrtoutput):\n",
    "        derivative = []\n",
    "        gradaccumulated = []\n",
    "        for x in self.input:\n",
    "            #derivative.append(1 - torch.tanh(x).pow(2))\n",
    "            pass\n",
    "\n",
    "        for i in range (len(derivative)):\n",
    "            pass\n",
    "            #gradaccumulated.append(derivative[i]*gradwrtoutput[i])\n",
    "        output = tuple(gradaccumulated)\n",
    "        return output \n",
    "        \n",
    "    def param(self):\n",
    "        output = [[self.weight, self.grad_weight], [self.bias, self.grad_bias]]\n",
    "        return output\n",
    "    \n",
    "    #https://pytorch.org/docs/stable/nn.html#linear-layers"
   ]
  },
  {
   "cell_type": "code",
   "execution_count": 59,
   "metadata": {},
   "outputs": [
    {
     "name": "stdout",
     "output_type": "stream",
     "text": [
      "tensor([[ 0.8532, -1.4399],\n",
      "        [-1.6307, -1.1493],\n",
      "        [-0.6215,  0.0036],\n",
      "        [ 2.0450, -0.0496],\n",
      "        [ 0.8590,  0.2480]])\n",
      "torch.Size([2, 1])\n",
      "(tensor([0.1777]), tensor([1.1727]), tensor([0.7148]), tensor([-0.3643]), tensor([0.1041]))\n"
     ]
    },
    {
     "data": {
      "text/plain": [
       "(tensor([0.1777]),\n",
       " tensor([1.1727]),\n",
       " tensor([0.7148]),\n",
       " tensor([-0.3643]),\n",
       " tensor([0.1041]))"
      ]
     },
     "execution_count": 59,
     "metadata": {},
     "output_type": "execute_result"
    }
   ],
   "source": [
    "a = torch.empty(5,2).normal_()\n",
    "print(a)\n",
    "lin = Linear(2,1)\n",
    "lin.forward(a)"
   ]
  },
  {
   "cell_type": "markdown",
   "metadata": {},
   "source": [
    "# RELU (problème dérivée)"
   ]
  },
  {
   "cell_type": "code",
   "execution_count": 7,
   "metadata": {},
   "outputs": [],
   "source": [
    "#RELU MODULE\n",
    "class ReLU():\n",
    "    def __init__(self):\n",
    "        self.input = None\n",
    "    \n",
    "    def forward(self, *input): \n",
    "        liste = []\n",
    "        self.input = input\n",
    "        for x in input:\n",
    "            liste.append(torch.max(x,torch.zeros_like(x))) \n",
    "        output = tuple(liste)\n",
    "        return output\n",
    "        \n",
    "    def backward(self, *gradwrtoutput): #add input as param ?\n",
    "        derivative = []\n",
    "        gradaccumulated = []\n",
    "        for x in self.input:\n",
    "            dx = (x>=0).float()\n",
    "            derivative.append(dx)\n",
    "        for i in range (len(derivative)):\n",
    "            gradaccumulated.append(derivative[i]*gradwrtoutput[i])\n",
    "        output = tuple(gradaccumulated)\n",
    "        return output   \n",
    "\n",
    "    def param(self): \n",
    "        return []\n",
    "    \n",
    "#backward should get as input a tensor or a tuple of tensors containing the gradient of the \n",
    "#loss with respect to the module’s output, accumulate the gradient wrt the parameters, \n",
    "#and return a tensor or a tuple of tensors containing the gradient of the loss wrt the module’s input."
   ]
  },
  {
   "cell_type": "code",
   "execution_count": 8,
   "metadata": {},
   "outputs": [
    {
     "name": "stdout",
     "output_type": "stream",
     "text": [
      "tensor([[3., 3.]])\n",
      "tensor([[-2., -2.]])\n",
      "tensor([[2., 2.]])\n",
      "tensor([[2., 2.]])\n",
      "ReLU of x, y\n",
      "(tensor([[3., 3.]]), tensor([[0., 0.]]))\n",
      "xxxxxxx tensor([[3., 3.]])\n"
     ]
    },
    {
     "ename": "RuntimeError",
     "evalue": "bool value of Tensor with more than one value is ambiguous",
     "output_type": "error",
     "traceback": [
      "\u001b[1;31m---------------------------------------------------------------------------\u001b[0m",
      "\u001b[1;31mRuntimeError\u001b[0m                              Traceback (most recent call last)",
      "\u001b[1;32m<ipython-input-8-4bdad2020a8a>\u001b[0m in \u001b[0;36m<module>\u001b[1;34m\u001b[0m\n\u001b[0;32m     11\u001b[0m \u001b[0mprint\u001b[0m\u001b[1;33m(\u001b[0m\u001b[1;34m'ReLU of x, y'\u001b[0m\u001b[1;33m)\u001b[0m\u001b[1;33m\u001b[0m\u001b[1;33m\u001b[0m\u001b[0m\n\u001b[0;32m     12\u001b[0m \u001b[0mprint\u001b[0m\u001b[1;33m(\u001b[0m\u001b[0mt\u001b[0m\u001b[1;33m)\u001b[0m\u001b[1;33m\u001b[0m\u001b[1;33m\u001b[0m\u001b[0m\n\u001b[1;32m---> 13\u001b[1;33m \u001b[0mgrad\u001b[0m \u001b[1;33m=\u001b[0m \u001b[0mT\u001b[0m\u001b[1;33m.\u001b[0m\u001b[0mbackward\u001b[0m\u001b[1;33m(\u001b[0m\u001b[0mgrad1\u001b[0m\u001b[1;33m,\u001b[0m\u001b[0mgrad2\u001b[0m\u001b[1;33m)\u001b[0m\u001b[1;33m\u001b[0m\u001b[1;33m\u001b[0m\u001b[0m\n\u001b[0m\u001b[0;32m     14\u001b[0m \u001b[0mprint\u001b[0m\u001b[1;33m(\u001b[0m\u001b[1;34m'grad'\u001b[0m\u001b[1;33m)\u001b[0m\u001b[1;33m\u001b[0m\u001b[1;33m\u001b[0m\u001b[0m\n\u001b[0;32m     15\u001b[0m \u001b[0mprint\u001b[0m\u001b[1;33m(\u001b[0m\u001b[0mgrad\u001b[0m\u001b[1;33m)\u001b[0m\u001b[1;33m\u001b[0m\u001b[1;33m\u001b[0m\u001b[0m\n",
      "\u001b[1;32m<ipython-input-7-8e65a658cc44>\u001b[0m in \u001b[0;36mbackward\u001b[1;34m(self, *gradwrtoutput)\u001b[0m\n\u001b[0;32m     17\u001b[0m         \u001b[1;32mfor\u001b[0m \u001b[0mx\u001b[0m \u001b[1;32min\u001b[0m \u001b[0mself\u001b[0m\u001b[1;33m.\u001b[0m\u001b[0minput\u001b[0m\u001b[1;33m:\u001b[0m\u001b[1;33m\u001b[0m\u001b[1;33m\u001b[0m\u001b[0m\n\u001b[0;32m     18\u001b[0m             \u001b[0mprint\u001b[0m\u001b[1;33m(\u001b[0m\u001b[1;34m\"xxxxxxx\"\u001b[0m\u001b[1;33m,\u001b[0m\u001b[0mx\u001b[0m\u001b[1;33m)\u001b[0m\u001b[1;33m\u001b[0m\u001b[1;33m\u001b[0m\u001b[0m\n\u001b[1;32m---> 19\u001b[1;33m             \u001b[1;32mif\u001b[0m \u001b[0mx\u001b[0m \u001b[1;33m>\u001b[0m \u001b[1;36m0\u001b[0m\u001b[1;33m:\u001b[0m\u001b[1;33m\u001b[0m\u001b[1;33m\u001b[0m\u001b[0m\n\u001b[0m\u001b[0;32m     20\u001b[0m                 \u001b[0mderivative\u001b[0m\u001b[1;33m.\u001b[0m\u001b[0mappend\u001b[0m\u001b[1;33m(\u001b[0m\u001b[1;36m1\u001b[0m\u001b[1;33m)\u001b[0m\u001b[1;33m\u001b[0m\u001b[1;33m\u001b[0m\u001b[0m\n\u001b[0;32m     21\u001b[0m             \u001b[1;32melse\u001b[0m\u001b[1;33m:\u001b[0m\u001b[1;33m\u001b[0m\u001b[1;33m\u001b[0m\u001b[0m\n",
      "\u001b[1;31mRuntimeError\u001b[0m: bool value of Tensor with more than one value is ambiguous"
     ]
    }
   ],
   "source": [
    "T = ReLU()\n",
    "x = torch.empty(1,2).fill_(3)\n",
    "y = torch.empty(1,2).fill_(-2)\n",
    "grad1 = torch.empty(1,2).fill_(2)\n",
    "grad2 = torch.empty(1,2).fill_(2)\n",
    "print(x)\n",
    "print(y)\n",
    "print(grad1)\n",
    "print(grad2)\n",
    "t = T.forward(x, y)\n",
    "print('ReLU of x, y')\n",
    "print(t)\n",
    "grad = T.backward(grad1,grad2)\n",
    "print('grad')\n",
    "print(grad)"
   ]
  },
  {
   "cell_type": "markdown",
   "metadata": {},
   "source": [
    "# TANH"
   ]
  },
  {
   "cell_type": "code",
   "execution_count": 35,
   "metadata": {},
   "outputs": [],
   "source": [
    "#TANH MODULE\n",
    "class Tanh():\n",
    "    def __init__(self):\n",
    "        self.input = None\n",
    "        \n",
    "    def forward(self, *input): \n",
    "        liste = []\n",
    "        self.input = input\n",
    "        for x in input:\n",
    "            liste.append(torch.tanh(x)) \n",
    "        output = tuple(liste)\n",
    "        return output\n",
    "    \n",
    "    def backward(self, *gradwrtoutput):\n",
    "        derivative = []\n",
    "        gradaccumulated = []\n",
    "        for x in self.input:\n",
    "            derivative.append(1 - torch.tanh(x).pow(2))\n",
    "\n",
    "        for i in range (len(derivative)):\n",
    "            gradaccumulated.append(derivative[i]*gradwrtoutput[i])\n",
    "        output = tuple(gradaccumulated)\n",
    "        return output   \n",
    "\n",
    "    def param(self):\n",
    "        return [] #Pas de param"
   ]
  },
  {
   "cell_type": "code",
   "execution_count": 36,
   "metadata": {},
   "outputs": [
    {
     "name": "stdout",
     "output_type": "stream",
     "text": [
      "tensor([[1., 1.]])\n",
      "tensor([[2., 2.]])\n",
      "tensor([[2., 2.]])\n",
      "tensor([[2., 2.]])\n",
      "tanh of x, y\n",
      "(tensor([[0.7616, 0.7616]]), tensor([[0.9640, 0.9640]]))\n",
      "grad\n",
      "(tensor([[0.8399, 0.8399]]), tensor([[0.1413, 0.1413]]))\n"
     ]
    }
   ],
   "source": [
    "T = Tanh()\n",
    "x = torch.empty(1,2).fill_(1)\n",
    "y = torch.empty(1,2).fill_(2)\n",
    "grad1 = torch.empty(1,2).fill_(2)\n",
    "grad2 = torch.empty(1,2).fill_(2)\n",
    "print(x)\n",
    "print(y)\n",
    "print(grad1)\n",
    "print(grad2)\n",
    "t = T.forward(x, y)\n",
    "print('tanh of x, y')\n",
    "print(t)\n",
    "grad = T.backward(grad1,grad2)\n",
    "print('grad')\n",
    "print(grad)"
   ]
  },
  {
   "cell_type": "markdown",
   "metadata": {},
   "source": [
    "# LOSSMSE (normalement juste, toujours à la fin)"
   ]
  },
  {
   "cell_type": "code",
   "execution_count": 88,
   "metadata": {},
   "outputs": [],
   "source": [
    "#LOSSMSE MODULE\n",
    "#Maybe: convert to list/tensor the tuple\n",
    "    \n",
    "class LossMSE():\n",
    "    def __init__(self):\n",
    "        self.loss = None\n",
    "        self.gradloss = None\n",
    "    \n",
    "    def forward(self, *input, target): #Si plusieurs input et target comment on fait?\n",
    "        liste = torch.Tensor([])\n",
    "        for i in range (len(input)):\n",
    "            liste = torch.cat((liste,(input[i]-target[i]).pow(2)))\n",
    "        sum = torch.sum(liste)\n",
    "        self.loss = sum/len(input)\n",
    "        return self.loss\n",
    "        \n",
    "    def backward(self, *input, target):\n",
    "        gradaccumulated = []\n",
    "        liste = torch.Tensor([])\n",
    "        for i,x in enumerate(input):\n",
    "            liste = torch.cat((liste, 2*(x - target[i])/len(input)))\n",
    "            #gradaccumulated.append(2*((x).pow(1/2))) #on obtient 2*(sqrt((x-target).pow(2))) du coup 2*(x-target)\n",
    "        #output = tuple(gradaccumulated)      \n",
    "        #self.gradloss = output\n",
    "        self.gradloss = liste\n",
    "        return self.gradloss\n",
    "\n",
    "    def param(self):\n",
    "        return [] #No param"
   ]
  },
  {
   "cell_type": "code",
   "execution_count": 92,
   "metadata": {},
   "outputs": [
    {
     "name": "stdout",
     "output_type": "stream",
     "text": [
      "input tensor([[1., 1.]]) tensor([[2., 2.]])\n",
      "target tensor([[-1., -1.]]) tensor([[-1., -1.]])\n",
      "loss tensor(13.)\n",
      "dloss tensor([[2., 2.],\n",
      "        [3., 3.]])\n"
     ]
    }
   ],
   "source": [
    "N = LossMSE()\n",
    "x = torch.empty(1,2).fill_(1)\n",
    "y = torch.empty(1,2).fill_(2)\n",
    "print(\"input\", x, y)\n",
    "t = torch.empty(1,2).fill_(-1)\n",
    "t2 = torch.empty(1,2).fill_(-1)\n",
    "print(\"target\", t, t2)\n",
    "l = N.forward(x, y , target= [t, t2])\n",
    "print('loss', l)\n",
    "dl = N.backward(x, y, target=[t, t2])\n",
    "print('dloss', dl)"
   ]
  },
  {
   "cell_type": "markdown",
   "metadata": {},
   "source": [
    "# SEQUENTIAL"
   ]
  },
  {
   "cell_type": "code",
   "execution_count": null,
   "metadata": {},
   "outputs": [],
   "source": [
    "#SEQUENTIAL MODULE (to combine several modules in basic sequential structure)\n",
    "class Sequential(object):\n",
    "    def forward(self , *input):\n",
    "        raise NotImplementedError\n",
    "    def backward(self , *gradwrtoutput):\n",
    "        raise NotImplementedError\n",
    "    def param(self): \n",
    "        return []\n",
    "    \n",
    "#forward should get for input, and returns, a tensor or a tuple of tensors.\n",
    "\n",
    "#backward should get as input a tensor or a tuple of tensors containing the gradient of the \n",
    "#loss with respect to the module’s output, accumulate the gradient wrt the parameters, \n",
    "#and return a tensor or a tuple of tensors containing the gradient of the loss wrt the module’s input.\n",
    "\n",
    "#param should return a list of pairs, each composed of a parameter tensor, and a gradient tensor of same size. \n",
    "#This list should be empty for parameterless modules (e.g. ReLU).\n",
    "#Some modules may requires additional methods, and some modules may keep track of information from the forward \n",
    "#pass to be used in the backward."
   ]
  },
  {
   "cell_type": "code",
   "execution_count": null,
   "metadata": {},
   "outputs": [],
   "source": []
  }
 ],
 "metadata": {
  "kernelspec": {
   "display_name": "Python 3",
   "language": "python",
   "name": "python3"
  },
  "language_info": {
   "codemirror_mode": {
    "name": "ipython",
    "version": 3
   },
   "file_extension": ".py",
   "mimetype": "text/x-python",
   "name": "python",
   "nbconvert_exporter": "python",
   "pygments_lexer": "ipython3",
   "version": "3.7.4"
  }
 },
 "nbformat": 4,
 "nbformat_minor": 2
}
