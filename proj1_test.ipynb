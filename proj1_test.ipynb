{
 "cells": [
  {
   "cell_type": "code",
   "execution_count": 51,
   "metadata": {},
   "outputs": [],
   "source": [
    "import torch\n",
    "from torch import nn\n",
    "from torch.nn import functional as F\n",
    "from torch import optim\n",
    "import dlc_practical_prologue as prologue\n",
    "\n",
    "mini_batch_size = 100\n",
    "N = 1000\n",
    "train_input, train_target, train_classes, test_input, test_target, test_classes = prologue.generate_pair_sets(N)"
   ]
  },
  {
   "cell_type": "code",
   "execution_count": 52,
   "metadata": {},
   "outputs": [],
   "source": [
    "#normalize the input\n",
    "train_input/=255\n",
    "test_input/=255"
   ]
  },
  {
   "cell_type": "code",
   "execution_count": 38,
   "metadata": {},
   "outputs": [],
   "source": [
    "print_shapes_Net = False"
   ]
  },
  {
   "cell_type": "code",
   "execution_count": 39,
   "metadata": {},
   "outputs": [],
   "source": [
    "class Net(nn.Module):\n",
    "    def __init__(self, nb_hidden):\n",
    "        super(Net, self).__init__()\n",
    "        self.conv1 = nn.Conv2d(1, 32, kernel_size=3)\n",
    "        self.conv2 = nn.Conv2d(32, 64, kernel_size=3)\n",
    "        self.fc1 = nn.Linear(256, nb_hidden)\n",
    "        self.fc2 = nn.Linear(nb_hidden, 10)\n",
    "\n",
    "    def forward(self, x):\n",
    "        if print_shapes_Net:\n",
    "            print(x.shape)\n",
    "        x = F.relu(F.max_pool2d(self.conv1(x), kernel_size=2, stride=2))\n",
    "        if print_shapes_Net:\n",
    "            print(x.shape)\n",
    "        x = F.relu(F.max_pool2d(self.conv2(x), kernel_size=2, stride=2))\n",
    "        if print_shapes_Net:\n",
    "            print(x.shape)\n",
    "        x = F.relu(self.fc1(x.view(-1, 256)))\n",
    "        if print_shapes_Net:\n",
    "            print(x.shape)\n",
    "        x = self.fc2(x)\n",
    "        if print_shapes_Net:\n",
    "            print(x.shape)\n",
    "        return x"
   ]
  },
  {
   "cell_type": "code",
   "execution_count": 40,
   "metadata": {},
   "outputs": [],
   "source": [
    "class Net2(nn.Module):\n",
    "    def __init__(self):\n",
    "        super(Net2, self).__init__()\n",
    "        nb_hidden = 200\n",
    "        self.conv1 = nn.Conv2d(1, 32, kernel_size=3)\n",
    "        self.conv2 = nn.Conv2d(32, 32, kernel_size=3)\n",
    "        self.conv3 = nn.Conv2d(32, 64, kernel_size=2)\n",
    "        self.fc1 = nn.Linear(64, nb_hidden)\n",
    "        self.fc2 = nn.Linear(nb_hidden, 10)\n",
    "\n",
    "    def forward(self, x):\n",
    "        if print_shapes_Net:\n",
    "            print(\"initial shape\", x.shape)\n",
    "        x = F.relu(F.max_pool2d(self.conv1(x), kernel_size=2))\n",
    "        if print_shapes_Net:\n",
    "            print(\"1 conv\",x.shape)\n",
    "        x = F.relu(F.max_pool2d(self.conv2(x), kernel_size=2))\n",
    "        if print_shapes_Net:\n",
    "            print(\"2 conv\", x.shape)\n",
    "        x = F.relu(self.conv3(x))\n",
    "        if print_shapes_Net:\n",
    "            print(\"3 conv\",x.shape)\n",
    "        x = F.relu(self.fc1(x.view(-1, 64)))\n",
    "        if print_shapes_Net:\n",
    "            print(\"fc1\",x.shape)\n",
    "        x = self.fc2(x)\n",
    "        if print_shapes_Net:\n",
    "            print(\"final\",x.shape)\n",
    "        return x\n",
    "\n",
    "######################################################################"
   ]
  },
  {
   "cell_type": "code",
   "execution_count": 41,
   "metadata": {},
   "outputs": [],
   "source": [
    "def train_model(model, train_input, train_target, mini_batch_size):\n",
    "    criterion = nn.MSELoss()\n",
    "    lr = 0.005\n",
    "    optimizer = optim.Adam(model.parameters(), lr)\n",
    "    \n",
    "    for e in range(25):\n",
    "        sum_loss = 0\n",
    "        for b in range(0, train_input.size(0), mini_batch_size):\n",
    "            output = model(train_input.narrow(0, b, mini_batch_size))\n",
    "            loss = criterion(output, train_target.narrow(0, b, mini_batch_size))\n",
    "            model.zero_grad()\n",
    "            loss.backward()\n",
    "            optimizer.step()\n",
    "            \n",
    "            sum_loss = sum_loss + loss.item()\n",
    "        print(e, sum_loss)"
   ]
  },
  {
   "cell_type": "code",
   "execution_count": 42,
   "metadata": {},
   "outputs": [],
   "source": [
    "def compute_nb_errors_classes(model, input, target, mini_batch_size):\n",
    "    nb_errors = 0\n",
    "\n",
    "    for b in range(0, input.size(0), mini_batch_size):\n",
    "        output = model(input.narrow(0, b, mini_batch_size))\n",
    "        _, predicted_classes = output.max(1)\n",
    "\n",
    "        for k in range(mini_batch_size):\n",
    "            #print(predicted_classes[k], target[b+k].max(0)[1])\n",
    "            if target[b + k, predicted_classes[k]] <= 0:\n",
    "                nb_errors = nb_errors + 1\n",
    "\n",
    "    return nb_errors"
   ]
  },
  {
   "cell_type": "code",
   "execution_count": 43,
   "metadata": {},
   "outputs": [],
   "source": [
    "def compute_nb_errors_targets(model, input, target):\n",
    "    nb_errors = 0\n",
    "    output = model(input)\n",
    "    _, predicted_classes = output.max(1)\n",
    "    print(predicted_classes.shape)\n",
    "    predicted_target = torch.empty(1000)\n",
    "    \n",
    "    for b in range (1000):\n",
    "        if predicted_classes[2*b] > predicted_classes[2*b + 1]:\n",
    "            predicted_target[b] = 0\n",
    "        else:\n",
    "            predicted_target[b] = 1\n",
    "        #print(predicted_target[b], target[b])\n",
    "        if predicted_target[b] != target[b]:\n",
    "            nb_errors = nb_errors + 1\n",
    "    \n",
    "    \n",
    "    \"\"\"for b in range(1000):\n",
    "        if predicted_classes[b] > predicted_classes[b+1000]:\n",
    "            predicted_target[b] = 0\n",
    "        else:\n",
    "            predicted_target[b] = 1\n",
    "        #print(predicted_target[b], target[b])\n",
    "        if predicted_target[b] != target[b]:\n",
    "            nb_errors = nb_errors + 1\"\"\"\n",
    "\n",
    "    return nb_errors"
   ]
  },
  {
   "cell_type": "code",
   "execution_count": 44,
   "metadata": {},
   "outputs": [],
   "source": [
    "new_train_input = train_input.view([2000,1,14,14])\n",
    "new_test_input = test_input.view([2000,1,14,14])\n",
    "#print(new_train_input.shape)\n",
    "new_train_classes = train_classes.view([2000])\n",
    "new_test_classes = test_classes.view([2000])\n",
    "#print(train_classes.shape)"
   ]
  },
  {
   "cell_type": "code",
   "execution_count": 45,
   "metadata": {},
   "outputs": [],
   "source": [
    "train_classes = train_classes.view(2000)\n",
    "test_classes = test_classes.view(2000)"
   ]
  },
  {
   "cell_type": "code",
   "execution_count": 46,
   "metadata": {},
   "outputs": [],
   "source": [
    "#transfor classes in a 2000 * 10 \n",
    "train_classes2 = torch.empty(2000,10)\n",
    "test_classes2 = torch.empty(2000,10)\n",
    "for i in range(2000):\n",
    "    for j in range(10):\n",
    "        if train_classes[i] == j:\n",
    "            train_classes2[i,j] = 1\n",
    "        else:\n",
    "            train_classes2[i,j] = 0\n",
    "        if test_classes[i] == j:\n",
    "            test_classes2[i,j] = 1\n",
    "        else:\n",
    "            test_classes2[i,j] = 0"
   ]
  },
  {
   "cell_type": "code",
   "execution_count": 47,
   "metadata": {},
   "outputs": [],
   "source": [
    "train_input = new_train_input\n",
    "test_input = new_test_input\n",
    "train_classes = train_classes2\n",
    "test_classes = test_classes2"
   ]
  },
  {
   "cell_type": "code",
   "execution_count": 48,
   "metadata": {},
   "outputs": [
    {
     "name": "stdout",
     "output_type": "stream",
     "text": [
      "0 1.7484488934278488\n",
      "1 1.222627941519022\n",
      "2 0.7609372958540916\n",
      "3 0.47112078219652176\n",
      "4 0.32556370459496975\n",
      "5 0.26141330134123564\n",
      "6 0.2062485320493579\n",
      "7 0.1712086764164269\n",
      "8 0.14756606379523873\n",
      "9 0.12478251336142421\n",
      "10 0.10892588156275451\n",
      "11 0.09303884720429778\n",
      "12 0.08213898516260087\n",
      "13 0.07249734224751592\n",
      "14 0.06799758807756007\n",
      "15 0.0626523153623566\n",
      "16 0.06680168863385916\n",
      "17 0.069641153793782\n",
      "18 0.08480492467060685\n",
      "19 0.0710900065023452\n",
      "20 0.053367209853604436\n",
      "21 0.046089489944279194\n",
      "22 0.03937864722684026\n",
      "23 0.030149550293572247\n",
      "24 0.022792230360209942\n",
      "train error Net 0.15% 3/2000\n",
      "test error Net 4.25% 85/2000\n"
     ]
    }
   ],
   "source": [
    "for k in range(1):\n",
    "    model = Net2()\n",
    "    train_model(model, train_input, train_classes, mini_batch_size)\n",
    "    \n",
    "    nb_train_errors = compute_nb_errors_classes(model, train_input, train_classes, mini_batch_size)\n",
    "    print('train error Net {:0.2f}% {:d}/{:d}'.format((100 * nb_train_errors) / train_input.size(0),\n",
    "                                                      nb_train_errors, train_input.size(0)))\n",
    "    nb_test_errors = compute_nb_errors_classes(model, test_input, test_classes, mini_batch_size)\n",
    "    print('test error Net {:0.2f}% {:d}/{:d}'.format((100 * nb_test_errors) / test_input.size(0),\n",
    "                                                    nb_test_errors, test_input.size(0)))\n",
    "    "
   ]
  },
  {
   "cell_type": "markdown",
   "metadata": {},
   "source": [
    "lr = 0.01 : train error 2.35%\n",
    "            test error 8.95%\n",
    "lr = 0.005 : train error 0%\n",
    "             test error 4.20%"
   ]
  },
  {
   "cell_type": "code",
   "execution_count": 29,
   "metadata": {},
   "outputs": [
    {
     "name": "stdout",
     "output_type": "stream",
     "text": [
      "tensor(1) tensor([0., 0., 0., 0., 0., 0., 0., 1., 0., 0.])\n"
     ]
    }
   ],
   "source": [
    "print(train_target[0], train_classes[0])"
   ]
  },
  {
   "cell_type": "code",
   "execution_count": 32,
   "metadata": {},
   "outputs": [
    {
     "name": "stdout",
     "output_type": "stream",
     "text": [
      "torch.Size([2000, 1, 14, 14]) torch.Size([1000])\n"
     ]
    }
   ],
   "source": [
    "print(train_input.shape, train_target.shape)"
   ]
  },
  {
   "cell_type": "code",
   "execution_count": 50,
   "metadata": {},
   "outputs": [
    {
     "name": "stdout",
     "output_type": "stream",
     "text": [
      "torch.Size([2000])\n",
      "train error Net 0.00% 0/1000\n",
      "torch.Size([2000])\n",
      "test error Net 3.00% 30/1000\n"
     ]
    }
   ],
   "source": [
    "nb_train_errors = compute_nb_errors_targets(model, train_input, train_target)\n",
    "print('train error Net {:0.2f}% {:d}/{:d}'.format((100 * nb_train_errors) / train_target.size(0),\n",
    "                                                  nb_train_errors, train_target.size(0)))\n",
    "nb_test_errors = compute_nb_errors_targets(model, test_input,  test_target)\n",
    "print('test error Net {:0.2f}% {:d}/{:d}'.format((100 * nb_test_errors) / train_target.size(0),\n",
    "                                                nb_test_errors, train_target.size(0)))"
   ]
  },
  {
   "cell_type": "code",
   "execution_count": null,
   "metadata": {},
   "outputs": [],
   "source": [
    "######################################################################\n",
    "# Question 3\n",
    "\n",
    "for nh in [ 10, 50, 200, 500, 2500 ]:\n",
    "    model = Net(nh)\n",
    "    train_model(model, train_input, train_target, mini_batch_size)\n",
    "    nb_test_errors = compute_nb_errors(model, test_input, test_target, mini_batch_size)\n",
    "    print('test error Net nh={:d} {:0.2f}%% {:d}/{:d}'.format(nh,\n",
    "                                                              (100 * nb_test_errors) / test_input.size(0),\n",
    "                                                              nb_test_errors, test_input.size(0)))"
   ]
  },
  {
   "cell_type": "code",
   "execution_count": null,
   "metadata": {},
   "outputs": [],
   "source": [
    "######################################################################\n",
    "# Question 4\n",
    "\n",
    "model = Net2()\n",
    "train_model(model, train_input, train_target, mini_batch_size)\n",
    "nb_test_errors = compute_nb_errors(model, test_input, test_target, mini_batch_size)\n",
    "print('test error Net2 {:0.2f}%% {:d}/{:d}'.format((100 * nb_test_errors) / test_input.size(0),\n",
    "                                                   nb_test_errors, test_input.size(0)))"
   ]
  }
 ],
 "metadata": {
  "kernelspec": {
   "display_name": "Python 3",
   "language": "python",
   "name": "python3"
  },
  "language_info": {
   "codemirror_mode": {
    "name": "ipython",
    "version": 3
   },
   "file_extension": ".py",
   "mimetype": "text/x-python",
   "name": "python",
   "nbconvert_exporter": "python",
   "pygments_lexer": "ipython3",
   "version": "3.7.4"
  }
 },
 "nbformat": 4,
 "nbformat_minor": 2
}
