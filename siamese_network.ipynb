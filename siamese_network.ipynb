{
 "cells": [
  {
   "cell_type": "code",
   "execution_count": 2,
   "metadata": {},
   "outputs": [],
   "source": [
    "import torch\n",
    "from torch import nn\n",
    "from torch.nn import functional as F\n",
    "from torch import optim\n",
    "\n",
    "import dlc_practical_prologue as prologue"
   ]
  },
  {
   "cell_type": "markdown",
   "metadata": {},
   "source": [
    "Generate pairs"
   ]
  },
  {
   "cell_type": "code",
   "execution_count": 3,
   "metadata": {},
   "outputs": [],
   "source": [
    "N = 1000 #nb of pairs\n",
    "\n",
    "#generate pairs\n",
    "train_input, train_target, train_classes, test_input, test_target, test_classes = prologue.generate_pair_sets(N)"
   ]
  },
  {
   "cell_type": "code",
   "execution_count": 4,
   "metadata": {},
   "outputs": [],
   "source": [
    "#normalize the input\n",
    "train_input/=255\n",
    "test_input/=255"
   ]
  },
  {
   "cell_type": "code",
   "execution_count": 5,
   "metadata": {},
   "outputs": [],
   "source": [
    "print_shapes_Net = False"
   ]
  },
  {
   "cell_type": "code",
   "execution_count": 6,
   "metadata": {},
   "outputs": [],
   "source": [
    "class Siamese_net(nn.Module):\n",
    "    def __init__(self):\n",
    "        super(Siamese_net, self).__init__()\n",
    "        self.conv1 = nn.Conv2d(1, 32, kernel_size=3)\n",
    "        self.conv2 = nn.Conv2d(32, 64, kernel_size=3)\n",
    "        self.fc1 = nn.Linear(256, 10)\n",
    "        self.fc2 = nn.Linear(20, 2)\n",
    "\n",
    "    def forward(self, data):\n",
    "        if print_shapes_Net:\n",
    "            print(\"initial\", data.shape) #100 2 14 14\n",
    "            \n",
    "        final_layer = []\n",
    "        for i in range(2):\n",
    "            x = data[:,i,:,:]\n",
    "            len0 = x.shape[0]\n",
    "            x = torch.reshape(x, (len0, 1, 14, 14))\n",
    "            \n",
    "            if print_shapes_Net:\n",
    "                print(\"X START\",x.shape) \n",
    "            \n",
    "            x = F.relu(F.max_pool2d(self.conv1(x), kernel_size=2, stride=2))\n",
    "            if print_shapes_Net:\n",
    "                print(\"conv1\",x.shape) \n",
    "                \n",
    "            x = F.relu(F.max_pool2d(self.conv2(x), kernel_size=2, stride=2))\n",
    "            if print_shapes_Net:\n",
    "                print(\"conv2\",x.shape)\n",
    "            \n",
    "            x = F.relu(self.fc1(x.view(-1, 256)))\n",
    "            if print_shapes_Net:\n",
    "                print(\"fc1\",x.shape) \n",
    "                \n",
    "            final_layer.append(x)\n",
    "            \n",
    "        #final_layer = torch.abs(final_layer[1] - final_layer[0])\n",
    "        final_layer = torch.cat((final_layer[0], final_layer[1]), 1)\n",
    "                \n",
    "        final_layer = self.fc2(final_layer)\n",
    "        if print_shapes_Net:\n",
    "            print(\"final\",final_layer.shape) \n",
    "            \n",
    "        return final_layer"
   ]
  },
  {
   "cell_type": "code",
   "execution_count": 7,
   "metadata": {},
   "outputs": [],
   "source": [
    "def train_model(model, train_input, train_target, mini_batch_size, lr, nb_epoch):\n",
    "    criterion = nn.BCEWithLogitsLoss()\n",
    "    optimizer = optim.Adam(model.parameters(), lr)\n",
    "    \n",
    "    for e in range(nb_epoch):\n",
    "        sum_loss = 0\n",
    "        for b in range(0, train_input.size(0), mini_batch_size):\n",
    "            output = model(train_input.narrow(0, b, mini_batch_size))\n",
    "            loss = criterion(output, train_target.narrow(0, b, mini_batch_size))\n",
    "            model.zero_grad()\n",
    "            loss.backward()\n",
    "            optimizer.step()\n",
    "            \n",
    "            sum_loss = sum_loss + loss.item()\n",
    "        #print(e, sum_loss)"
   ]
  },
  {
   "cell_type": "code",
   "execution_count": 8,
   "metadata": {},
   "outputs": [],
   "source": [
    "def compute_nb_errors_targets(model, input, target):\n",
    "    nb_errors = 0\n",
    "    output = model(input)\n",
    "    _, predicted_target = output.max(1) #max probabilities of target\n",
    "    \n",
    "    for b in range(1000):\n",
    "        if target[b,int(predicted_target[b])] <= 0:\n",
    "            nb_errors = nb_errors + 1\n",
    "            \n",
    "    return nb_errors"
   ]
  },
  {
   "cell_type": "code",
   "execution_count": 9,
   "metadata": {},
   "outputs": [],
   "source": [
    "#train_target[1000,1]\n",
    "\n",
    "new_train_target = torch.empty(1000,2)\n",
    "new_test_target = torch.empty(1000,2)\n",
    "for i in range(1000):\n",
    "    if train_target[i] == 1 :\n",
    "        new_train_target[i,0] = 0\n",
    "        new_train_target[i,1] = 1\n",
    "        \n",
    "    else:\n",
    "        new_train_target[i,0] = 1\n",
    "        new_train_target[i,1] = 0\n",
    "        \n",
    "    if test_target[i] == 1:\n",
    "        new_test_target[i,0] = 0\n",
    "        new_test_target[i,1] = 1\n",
    "        \n",
    "    else:\n",
    "        new_test_target[i,0] = 1\n",
    "        new_test_target[i,1] = 0"
   ]
  },
  {
   "cell_type": "markdown",
   "metadata": {},
   "source": [
    "#### Tests"
   ]
  },
  {
   "cell_type": "code",
   "execution_count": 10,
   "metadata": {},
   "outputs": [
    {
     "name": "stdout",
     "output_type": "stream",
     "text": [
      "LR = 0.001\n",
      "train error Siamese_net 6.80% 68/1000\n",
      "test error Siamese_net 13.60% 136/1000\n"
     ]
    }
   ],
   "source": [
    "model = Siamese_net()\n",
    "lr = 0.001\n",
    "mini_batch_size = 100\n",
    "nb_epoch = 25\n",
    "\n",
    "train_model(model, train_input, new_train_target, mini_batch_size, lr, nb_epoch)\n",
    "print(\"LR =\", lr)\n",
    "\n",
    "nb_train_errors = compute_nb_errors_targets(model, train_input, new_train_target)\n",
    "print('train error Siamese_net {:0.2f}% {:d}/{:d}'.format((100 * nb_train_errors) / train_input.size(0),\n",
    "                                                  nb_train_errors, train_input.size(0)))\n",
    "nb_test_errors = compute_nb_errors_targets(model, test_input, new_test_target)\n",
    "print('test error Siamese_net {:0.2f}% {:d}/{:d}'.format((100 * nb_test_errors) / test_input.size(0),\n",
    "                                                    nb_test_errors, test_input.size(0)))"
   ]
  },
  {
   "cell_type": "code",
   "execution_count": 10,
   "metadata": {},
   "outputs": [
    {
     "name": "stdout",
     "output_type": "stream",
     "text": [
      "LR = 0.001\n",
      "train error Siamese_net 6.90% 69/1000\n",
      "test error Siamese_net 13.40% 134/1000\n"
     ]
    }
   ],
   "source": [
    "model = Siamese_net()\n",
    "lr = 0.001\n",
    "mini_batch_size = 100\n",
    "nb_epoch = 25\n",
    "\n",
    "train_model(model, train_input, new_train_target, mini_batch_size, lr, nb_epoch)\n",
    "print(\"LR =\", lr)\n",
    "\n",
    "nb_train_errors = compute_nb_errors_targets(model, train_input, new_train_target)\n",
    "print('train error Siamese_net {:0.2f}% {:d}/{:d}'.format((100 * nb_train_errors) / train_input.size(0),\n",
    "                                                  nb_train_errors, train_input.size(0)))\n",
    "nb_test_errors = compute_nb_errors_targets(model, test_input, new_test_target)\n",
    "print('test error Siamese_net {:0.2f}% {:d}/{:d}'.format((100 * nb_test_errors) / test_input.size(0),\n",
    "                                                    nb_test_errors, test_input.size(0)))"
   ]
  },
  {
   "cell_type": "markdown",
   "metadata": {},
   "source": [
    "#### Choice of parameter for Siamese_net"
   ]
  },
  {
   "cell_type": "code",
   "execution_count": 101,
   "metadata": {},
   "outputs": [
    {
     "name": "stdout",
     "output_type": "stream",
     "text": [
      "LR = 0.0005\n",
      "train error Net 14.50% 145/1000\n",
      "test error Net 18.50% 185/1000\n",
      "LR = 0.001\n",
      "train error Net 7.00% 70/1000\n",
      "test error Net 15.30% 153/1000\n",
      "LR = 0.005\n",
      "train error Net 0.00% 0/1000\n",
      "test error Net 14.10% 141/1000\n",
      "LR = 0.01\n",
      "train error Net 0.00% 0/1000\n",
      "test error Net 14.20% 142/1000\n",
      "LR = 0.05\n",
      "train error Net 46.40% 464/1000\n",
      "test error Net 47.30% 473/1000\n",
      "LR = 0.1\n",
      "train error Net 46.40% 464/1000\n",
      "test error Net 47.30% 473/1000\n",
      "LR = 0.5\n",
      "train error Net 46.40% 464/1000\n",
      "test error Net 47.30% 473/1000\n"
     ]
    }
   ],
   "source": [
    "# lr = 0.001 --> no overfitting\n",
    "for lr in [0.0005, 0.001,0.005, 0.01, 0.05, 0.1, 0.5]:\n",
    "    model = Siamese_net()\n",
    "    mini_batch_size = 100\n",
    "    nb_epoch = 25\n",
    "\n",
    "    train_model(model, train_input, new_train_target, mini_batch_size, lr, nb_epoch)\n",
    "    print(\"LR =\", lr)\n",
    "    \n",
    "    nb_train_errors = compute_nb_errors_targets(model, train_input, new_train_target)\n",
    "    print('train error Siamese_net {:0.2f}% {:d}/{:d}'.format((100 * nb_train_errors) / train_input.size(0),\n",
    "                                                      nb_train_errors, train_input.size(0)))\n",
    "    nb_test_errors = compute_nb_errors_targets(model, test_input, new_test_target)\n",
    "    print('test error Siamese_net {:0.2f}% {:d}/{:d}'.format((100 * nb_test_errors) / test_input.size(0),\n",
    "                                                    nb_test_errors, test_input.size(0)))"
   ]
  },
  {
   "cell_type": "markdown",
   "metadata": {},
   "source": [
    "#### Final test"
   ]
  },
  {
   "cell_type": "code",
   "execution_count": 102,
   "metadata": {},
   "outputs": [
    {
     "name": "stdout",
     "output_type": "stream",
     "text": [
      "i = 0\n",
      "train error Net 7.20% 72/1000\n",
      "test error Net 15.20% 152/1000\n",
      "i = 1\n",
      "train error Net 5.20% 52/1000\n",
      "test error Net 13.90% 139/1000\n",
      "i = 2\n",
      "train error Net 6.00% 60/1000\n",
      "test error Net 14.10% 141/1000\n",
      "i = 3\n",
      "train error Net 4.50% 45/1000\n",
      "test error Net 14.60% 146/1000\n",
      "i = 4\n",
      "train error Net 5.50% 55/1000\n",
      "test error Net 15.70% 157/1000\n",
      "i = 5\n",
      "train error Net 6.90% 69/1000\n",
      "test error Net 15.10% 151/1000\n",
      "i = 6\n",
      "train error Net 10.20% 102/1000\n",
      "test error Net 16.20% 162/1000\n",
      "i = 7\n",
      "train error Net 7.20% 72/1000\n",
      "test error Net 15.70% 157/1000\n",
      "i = 8\n",
      "train error Net 10.90% 109/1000\n",
      "test error Net 17.10% 171/1000\n",
      "i = 9\n",
      "train error Net 9.90% 99/1000\n",
      "test error Net 16.10% 161/1000\n"
     ]
    }
   ],
   "source": [
    "mini_batch_size = 100\n",
    "nb_epoch = 25\n",
    "lr = 0.001\n",
    "\n",
    "for i in range(10):\n",
    "    model = Siamese_net()\n",
    "    train_model(model, train_input, new_train_target, mini_batch_size, lr, nb_epoch)\n",
    "    print(\"i =\", i)\n",
    "\n",
    "    nb_train_errors = compute_nb_errors_targets(model, train_input, new_train_target)\n",
    "    print('train error Siamese_net {:0.2f}% {:d}/{:d}'.format((100 * nb_train_errors) / train_input.size(0),\n",
    "                                                      nb_train_errors, train_input.size(0)))\n",
    "    nb_test_errors = compute_nb_errors_targets(model, test_input, new_test_target)\n",
    "    print('test error Siamese_net {:0.2f}% {:d}/{:d}'.format((100 * nb_test_errors) / test_input.size(0),\n",
    "                                                    nb_test_errors, test_input.size(0)))"
   ]
  },
  {
   "cell_type": "code",
   "execution_count": null,
   "metadata": {},
   "outputs": [],
   "source": []
  }
 ],
 "metadata": {
  "kernelspec": {
   "display_name": "Python 3",
   "language": "python",
   "name": "python3"
  },
  "language_info": {
   "codemirror_mode": {
    "name": "ipython",
    "version": 3
   },
   "file_extension": ".py",
   "mimetype": "text/x-python",
   "name": "python",
   "nbconvert_exporter": "python",
   "pygments_lexer": "ipython3",
   "version": "3.7.3"
  }
 },
 "nbformat": 4,
 "nbformat_minor": 2
}
