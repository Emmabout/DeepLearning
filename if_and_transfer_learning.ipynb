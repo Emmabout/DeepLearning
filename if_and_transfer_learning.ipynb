{
 "cells": [
  {
   "cell_type": "code",
   "execution_count": 1,
   "metadata": {},
   "outputs": [],
   "source": [
    "import torch\n",
    "from torch import nn\n",
    "from torch.nn import functional as F\n",
    "from torch import optim\n",
    "import dlc_practical_prologue as prologue\n",
    "\n",
    "mini_batch_size = 100\n",
    "N = 1000"
   ]
  },
  {
   "cell_type": "code",
   "execution_count": 2,
   "metadata": {},
   "outputs": [],
   "source": [
    "### ONLY FOR THE ANALYSES OF THE RESULTS\n",
    "import numpy as np\n",
    "import matplotlib.pyplot as plt"
   ]
  },
  {
   "cell_type": "code",
   "execution_count": 3,
   "metadata": {},
   "outputs": [],
   "source": [
    "print_shapes_Net = False\n",
    "print_errors = False"
   ]
  },
  {
   "cell_type": "code",
   "execution_count": 4,
   "metadata": {},
   "outputs": [],
   "source": [
    "class Net(nn.Module):\n",
    "    def __init__(self, nb_hidden):\n",
    "        super(Net, self).__init__()\n",
    "        self.conv1 = nn.Conv2d(1, 32, kernel_size=3)\n",
    "        self.conv2 = nn.Conv2d(32, 64, kernel_size=3)\n",
    "        self.fc1 = nn.Linear(256, nb_hidden)\n",
    "        self.fc2 = nn.Linear(nb_hidden, 10)\n",
    "\n",
    "    def forward(self, x):\n",
    "        if print_shapes_Net:\n",
    "            print(x.shape)\n",
    "        x = F.relu(F.max_pool2d(self.conv1(x), kernel_size=2, stride=2))\n",
    "        if print_shapes_Net:\n",
    "            print(x.shape)\n",
    "        x = F.relu(F.max_pool2d(self.conv2(x), kernel_size=2, stride=2))\n",
    "        if print_shapes_Net:\n",
    "            print(x.shape)\n",
    "        x = F.relu(self.fc1(x.view(-1, 256)))\n",
    "        if print_shapes_Net:\n",
    "            print(x.shape)\n",
    "        x = self.fc2(x)\n",
    "        if print_shapes_Net:\n",
    "            print(x.shape)\n",
    "        return x"
   ]
  },
  {
   "cell_type": "code",
   "execution_count": 5,
   "metadata": {},
   "outputs": [],
   "source": [
    "class Net1(nn.Module):\n",
    "    def __init__(self, nb_hidden):\n",
    "        super(Net1, self).__init__()\n",
    "        self.conv1 = nn.Conv1d(2, 32, kernel_size=3)\n",
    "        self.conv2 = nn.Conv1d(16, 64, kernel_size=3)\n",
    "        self.fc1 = nn.Linear(32, nb_hidden)\n",
    "        self.fc2 = nn.Linear(nb_hidden, 2)\n",
    "\n",
    "    def forward(self, x):\n",
    "        if print_shapes_Net:\n",
    "            print(\"initial\", x.shape) #100 2 10\n",
    "        x = F.relu(F.max_pool2d(self.conv1(x), kernel_size=2, stride=2))\n",
    "        if print_shapes_Net:\n",
    "            print(\"conv1\",x.shape) #100 16 4\n",
    "        x = F.relu(F.max_pool2d(self.conv2(x), kernel_size=2, stride=2))\n",
    "        if print_shapes_Net:\n",
    "            print(\"conv2\",x.shape)\n",
    "        x = F.relu(self.fc1(x.view(-1, 32)))\n",
    "        if print_shapes_Net:\n",
    "            print(\"fc1\",x.shape)\n",
    "        x = self.fc2(x)\n",
    "        if print_shapes_Net:\n",
    "            print(\"final\",x.shape) # 100 1 2 \n",
    "        return x"
   ]
  },
  {
   "cell_type": "code",
   "execution_count": 6,
   "metadata": {},
   "outputs": [],
   "source": [
    "class Net2(nn.Module):\n",
    "    def __init__(self):\n",
    "        super(Net2, self).__init__()\n",
    "        nb_hidden = 200\n",
    "        self.conv1 = nn.Conv2d(1, 32, kernel_size=3)\n",
    "        self.conv2 = nn.Conv2d(32, 32, kernel_size=3)\n",
    "        self.conv3 = nn.Conv2d(32, 64, kernel_size=2)\n",
    "        self.fc1 = nn.Linear(64, nb_hidden)\n",
    "        self.fc2 = nn.Linear(nb_hidden, 10)\n",
    "\n",
    "    def forward(self, x):\n",
    "        if print_shapes_Net:\n",
    "            print(\"initial shape\", x.shape)\n",
    "        x = F.relu(F.max_pool2d(self.conv1(x), kernel_size=2))\n",
    "        if print_shapes_Net:\n",
    "            print(\"1 conv\",x.shape)\n",
    "        x = F.relu(F.max_pool2d(self.conv2(x), kernel_size=2))\n",
    "        if print_shapes_Net:\n",
    "            print(\"2 conv\", x.shape)\n",
    "        x = F.relu(self.conv3(x))\n",
    "        if print_shapes_Net:\n",
    "            print(\"3 conv\",x.shape)\n",
    "        x = F.relu(self.fc1(x.view(-1, 64)))\n",
    "        if print_shapes_Net:\n",
    "            print(\"fc1\",x.shape)\n",
    "        x = self.fc2(x)\n",
    "        if print_shapes_Net:\n",
    "            print(\"final\",x.shape)\n",
    "        return x\n",
    "\n",
    "######################################################################"
   ]
  },
  {
   "cell_type": "code",
   "execution_count": 7,
   "metadata": {},
   "outputs": [],
   "source": [
    "def train_model(model, train_input, train_target, mini_batch_size, lr):\n",
    "    criterion = nn.MSELoss()\n",
    "    optimizer = optim.Adam(model.parameters(), lr)\n",
    "    \n",
    "    for e in range(25):\n",
    "        sum_loss = 0\n",
    "        for b in range(0, train_input.size(0), mini_batch_size):\n",
    "            output = model(train_input.narrow(0, b, mini_batch_size))\n",
    "            loss = criterion(output, train_target.narrow(0, b, mini_batch_size))\n",
    "            model.zero_grad()\n",
    "            loss.backward()\n",
    "            optimizer.step()\n",
    "            \n",
    "            sum_loss = sum_loss + loss.item()"
   ]
  },
  {
   "cell_type": "code",
   "execution_count": 8,
   "metadata": {},
   "outputs": [],
   "source": [
    "def train_model2(model, train_input, train_target, mini_batch_size, lr):\n",
    "    criterion = nn.MSELoss()\n",
    "    optimizer = optim.Adam(model.parameters(), lr)\n",
    "    \n",
    "    for e in range(25):\n",
    "        sum_loss = 0\n",
    "        for b in range(0, train_input.size(0), mini_batch_size):\n",
    "            output = model(train_input.narrow(0, b, mini_batch_size))\n",
    "            loss = criterion(output, train_target.narrow(0, b, mini_batch_size))\n",
    "            model.zero_grad()\n",
    "            loss.backward(retain_graph=True)\n",
    "            optimizer.step()\n",
    "            \n",
    "            sum_loss = sum_loss + loss.item()"
   ]
  },
  {
   "cell_type": "code",
   "execution_count": 9,
   "metadata": {},
   "outputs": [],
   "source": [
    "def compute_nb_errors_classes(model, input, target, mini_batch_size):\n",
    "    nb_errors = 0\n",
    "\n",
    "    for b in range(0, input.size(0), mini_batch_size):\n",
    "        output = model(input.narrow(0, b, mini_batch_size))\n",
    "        _, predicted_classes = output.max(1)\n",
    "\n",
    "        for k in range(mini_batch_size):\n",
    "            if target[b + k, predicted_classes[k]] <= 0:\n",
    "                nb_errors = nb_errors + 1\n",
    "\n",
    "    return nb_errors"
   ]
  },
  {
   "cell_type": "code",
   "execution_count": 10,
   "metadata": {},
   "outputs": [],
   "source": [
    "def compute_nb_errors_if(model, input, target):\n",
    "    nb_errors = 0\n",
    "    output = model(input)\n",
    "    _, predicted_classes = output.max(1)\n",
    "    predicted_target = torch.empty(1000)\n",
    "    \n",
    "    for b in range (1000):\n",
    "        if predicted_classes[2*b] > predicted_classes[2*b + 1]:\n",
    "            predicted_target[b] = 0\n",
    "        else:\n",
    "            predicted_target[b] = 1\n",
    "        if predicted_target[b] != target[b]:\n",
    "            nb_errors = nb_errors + 1\n",
    "\n",
    "    return nb_errors"
   ]
  },
  {
   "cell_type": "code",
   "execution_count": 11,
   "metadata": {},
   "outputs": [],
   "source": [
    "def compute_nb_errors_targets2(model, input, target):\n",
    "    nb_errors = 0\n",
    "    output = model(input)\n",
    "    _, predicted_classes = output.max(1)\n",
    "    predicted_target = torch.empty(1000)\n",
    "    \n",
    "    for b in range (1000):\n",
    "        if target[b,int(predicted_classes[b])] <= 0:\n",
    "            nb_errors = nb_errors + 1\n",
    "\n",
    "    return nb_errors"
   ]
  },
  {
   "cell_type": "code",
   "execution_count": 12,
   "metadata": {},
   "outputs": [],
   "source": [
    "def reshape_targets(train_target, test_target):\n",
    "    new_train_target = torch.empty(1000,2)\n",
    "    new_test_target = torch.empty(1000,2)\n",
    "    for i in range(1000):\n",
    "        if train_target[i] == 1 :\n",
    "            new_train_target[i,0] = 0\n",
    "            new_train_target[i,1] = 1\n",
    "\n",
    "        else:\n",
    "            new_train_target[i,0] = 1\n",
    "            new_train_target[i,1] = 0\n",
    "\n",
    "        if test_target[i] == 1:\n",
    "            new_test_target[i,0] = 0\n",
    "            new_test_target[i,1] = 1\n",
    "\n",
    "        else:\n",
    "            new_test_target[i,0] = 1\n",
    "            new_test_target[i,1] = 0      \n",
    "    return new_train_target, new_test_target"
   ]
  },
  {
   "cell_type": "code",
   "execution_count": 13,
   "metadata": {},
   "outputs": [],
   "source": [
    "def reshape_classes(train_classes, test_classes):\n",
    "    #transform classes in a 2000 * 10 \n",
    "    train_classes2 = torch.empty(2000,10)\n",
    "    test_classes2 = torch.empty(2000,10)\n",
    "    for i in range(2000):\n",
    "        for j in range(10):\n",
    "            if train_classes[i] == j:\n",
    "                train_classes2[i,j] = 1\n",
    "            else:\n",
    "                train_classes2[i,j] = 0\n",
    "            if test_classes[i] == j:\n",
    "                test_classes2[i,j] = 1\n",
    "            else:\n",
    "                test_classes2[i,j] = 0\n",
    "                \n",
    "    return train_classes2, test_classes2"
   ]
  },
  {
   "cell_type": "code",
   "execution_count": 14,
   "metadata": {},
   "outputs": [],
   "source": [
    "###ANALYSE THE RESULTS\n",
    "def analyse_results(train_errors, test_errors, title):\n",
    "    input_size = 1000\n",
    "    print('Average train error {:0.2f}% {:0.2f}/{:d}'.format((100 * np.mean(train_errors)) / train_input.size(0),\n",
    "                                                          np.mean(train_errors), input_size))\n",
    "    print(\"Train error standard deviation : {:0.2f}\".format(np.std(train_errors)))\n",
    "\n",
    "    print('Average test error {:0.2f}% {:0.2f}/{:d}'.format((100 * np.mean(test_errors)) / test_input.size(0),\n",
    "                                                          np.mean(test_errors), input_size))\n",
    "    print(\"Test error standard deviation : {:0.2f}\".format(np.std(test_errors)))\n",
    "\n",
    "\n",
    "    train_err = [x*100 / input_size for x in train_errors]\n",
    "    test_err = [x*100 / input_size for x in test_errors]\n",
    "\n",
    "    plt.figure\n",
    "    plt.title(title)\n",
    "    plt.boxplot([train_err, test_err], labels=['train error', 'test error'])\n",
    "    plt.ylabel(\"Error percentage\")\n",
    "    plt.show()"
   ]
  },
  {
   "cell_type": "code",
   "execution_count": 16,
   "metadata": {},
   "outputs": [
    {
     "name": "stdout",
     "output_type": "stream",
     "text": [
      "iteration 1/1\n",
      "train error Net 0.00% 0/2000\n",
      "test error Net 3.35% 67/2000\n",
      "train error Net 0.00% 0/1000\n",
      "test error Net 2.60% 26/1000\n",
      "train error Net 0.00% 0/1000\n",
      "test error Net 2.60% 26/1000\n",
      "Average train error 0.00% 0.00/1000\n",
      "Train error standard deviation : 0.00\n",
      "Average test error 1.30% 26.00/1000\n",
      "Test error standard deviation : 0.00\n"
     ]
    },
    {
     "data": {
      "image/png": "[encoded data removed]",
      "text/plain": [
       "<Figure size 432x288 with 1 Axes>"
      ]
     },
     "metadata": {
      "needs_background": "light"
     },
     "output_type": "display_data"
    },
    {
     "name": "stdout",
     "output_type": "stream",
     "text": [
      "Average train error 0.00% 0.00/1000\n",
      "Train error standard deviation : 0.00\n",
      "Average test error 1.20% 24.00/1000\n",
      "Test error standard deviation : 0.00\n"
     ]
    },
    {
     "data": {
      "image/png": "[encoded data removed]",
      "text/plain": [
       "<Figure size 432x288 with 1 Axes>"
      ]
     },
     "metadata": {
      "needs_background": "light"
     },
     "output_type": "display_data"
    }
   ],
   "source": [
    "####predict class of each digit\n",
    "nb = 10\n",
    "train_errors = []\n",
    "test_errors = []\n",
    "\n",
    "train_errors_if = []\n",
    "test_errors_if = []\n",
    "\n",
    "for i in range(nb):\n",
    "    print(\"iteration {:d}/{:d}\".format(i+1,nb))\n",
    "    train_input, train_target, train_classes, test_input, test_target, test_classes = prologue.generate_pair_sets(N)\n",
    "    train_input/=255\n",
    "    test_input/=255\n",
    "\n",
    "    train_input = train_input.view([2000,1,14,14])\n",
    "    test_input = test_input.view([2000,1,14,14])\n",
    "\n",
    "    train_classes, test_classes = reshape_classes(train_classes.view(2000), test_classes.view(2000))\n",
    "\n",
    "    model = Net2()\n",
    "    lr = 0.005\n",
    "    train_model(model, train_input, train_classes, mini_batch_size, lr)\n",
    "\n",
    "    nb_train_errors = compute_nb_errors_classes(model, train_input, train_classes, mini_batch_size)\n",
    "    nb_test_errors = compute_nb_errors_classes(model, test_input, test_classes, mini_batch_size)\n",
    "\n",
    "    if print_errors:\n",
    "        print('train error Net {:0.2f}% {:d}/{:d}'.format((100 * nb_train_errors) / train_input.size(0),\n",
    "                                                          nb_train_errors, train_input.size(0)))\n",
    "        print('test error Net {:0.2f}% {:d}/{:d}'.format((100 * nb_test_errors) / test_input.size(0),\n",
    "                                                        nb_test_errors, test_input.size(0)))\n",
    "    ###predict target using model\n",
    "    output_train = model(train_input).view([1000,2,10])\n",
    "    output_test = model(test_input).view([1000,2,10])\n",
    "    new_train_target, new_test_target = reshape_targets(train_target, test_target)\n",
    "\n",
    "    model1 = Net1(200)\n",
    "    train_model2(model1, output_train, new_train_target, mini_batch_size, lr)\n",
    "\n",
    "    nb_train_errors = compute_nb_errors_targets2(model1, output_train, new_train_target)\n",
    "    nb_test_errors = compute_nb_errors_targets2(model1, output_test, new_test_target)\n",
    "\n",
    "    if print_errors:\n",
    "        print('train error Net {:0.2f}% {:d}/{:d}'.format((100 * nb_train_errors) / output_train.size(0),\n",
    "                                                          nb_train_errors, output_train.size(0)))\n",
    "        print('test error Net {:0.2f}% {:d}/{:d}'.format((100 * nb_test_errors) / output_test.size(0),\n",
    "                                                        nb_test_errors, output_test.size(0)))\n",
    "        \n",
    "    train_errors.append(nb_train_errors)\n",
    "    test_errors.append(nb_test_errors)\n",
    "    \n",
    "    nb_train_errors_if = compute_nb_errors_if(model, train_input, train_target)\n",
    "    nb_test_errors_if = compute_nb_errors_if(model, test_input,  test_target)\n",
    "    \n",
    "    if print_errors:\n",
    "        print('train error Net {:0.2f}% {:d}/{:d}'.format((100 * nb_train_errors) / train_target.size(0),\n",
    "                                                          nb_train_errors, train_target.size(0)))\n",
    "        print('test error Net {:0.2f}% {:d}/{:d}'.format((100 * nb_test_errors) / train_target.size(0),\n",
    "                                                        nb_test_errors, train_target.size(0)))\n",
    "    train_errors_if.append(nb_train_errors_if)\n",
    "    test_errors_if.append(nb_test_errors_if)\n",
    "analyse_results(train_errors, test_errors, \"TRANSFER LEARNING\")\n",
    "analyse_results(train_errors_if, test_errors_if, \"CLASS PREDICTION AND IF CONDITION\")"
   ]
  }
 ],
 "metadata": {
  "kernelspec": {
   "display_name": "Python 3",
   "language": "python",
   "name": "python3"
  },
  "language_info": {
   "codemirror_mode": {
    "name": "ipython",
    "version": 3
   },
   "file_extension": ".py",
   "mimetype": "text/x-python",
   "name": "python",
   "nbconvert_exporter": "python",
   "pygments_lexer": "ipython3",
   "version": "3.7.4"
  }
 },
 "nbformat": 4,
 "nbformat_minor": 2
}
