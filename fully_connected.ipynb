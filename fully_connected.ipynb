{
 "cells": [
  {
   "cell_type": "code",
   "execution_count": 16,
   "metadata": {},
   "outputs": [],
   "source": [
    "import torch\n",
    "from torch import nn\n",
    "from torch.nn import functional as F\n",
    "from torch import optim\n",
    "\n",
    "import dlc_practical_prologue as prologue"
   ]
  },
  {
   "cell_type": "code",
   "execution_count": 17,
   "metadata": {},
   "outputs": [],
   "source": [
    "train_input, train_target, train_classes, test_input, test_target, test_classes = prologue.generate_pair_sets(1000)"
   ]
  },
  {
   "cell_type": "code",
   "execution_count": 18,
   "metadata": {},
   "outputs": [],
   "source": [
    "#normalize the input\n",
    "train_input/=255\n",
    "test_input/=255"
   ]
  },
  {
   "cell_type": "code",
   "execution_count": 19,
   "metadata": {},
   "outputs": [],
   "source": [
    "print_shapes_Net = False"
   ]
  },
  {
   "cell_type": "code",
   "execution_count": 20,
   "metadata": {},
   "outputs": [],
   "source": [
    "new_train_target = torch.empty(1000,2)\n",
    "new_test_target = torch.empty(1000,2)\n",
    "for i in range(1000):\n",
    "    if train_target[i] == 1 :\n",
    "        new_train_target[i,0] = 0\n",
    "        new_train_target[i,1] = 1\n",
    "        \n",
    "    else:\n",
    "        new_train_target[i,0] = 1\n",
    "        new_train_target[i,1] = 0\n",
    "        \n",
    "    if test_target[i] == 1:\n",
    "        new_test_target[i,0] = 0\n",
    "        new_test_target[i,1] = 1\n",
    "        \n",
    "    else:\n",
    "        new_test_target[i,0] = 1\n",
    "        new_test_target[i,1] = 0"
   ]
  },
  {
   "cell_type": "code",
   "execution_count": 21,
   "metadata": {},
   "outputs": [],
   "source": [
    "class Net(nn.Module):\n",
    "    def __init__(self, nb_hidden):\n",
    "        super(Net, self).__init__()\n",
    "        self.conv1 = nn.Conv2d(2, 32, kernel_size=3)\n",
    "        self.conv2 = nn.Conv2d(32,64, kernel_size=3)\n",
    "        self.fc1 = nn.Linear(256, nb_hidden)\n",
    "        self.fc2 = nn.Linear(nb_hidden, 2)\n",
    "\n",
    "    def forward(self, x):\n",
    "        x = F.relu(F.max_pool2d(self.conv1(x), kernel_size=2, stride=2)) #6x6\n",
    "        x = F.relu(F.max_pool2d(self.conv2(x), kernel_size=2, stride=2)) #conv : 4x4, maxpool : 2x2\n",
    "        x = F.relu(self.fc1(x.view(-1, 256)))\n",
    "        x = self.fc2(x)\n",
    "        #x = nn.Softmax(dim=1)(x)\n",
    "        return x"
   ]
  },
  {
   "cell_type": "code",
   "execution_count": 39,
   "metadata": {},
   "outputs": [],
   "source": [
    "class Net_bn(nn.Module):\n",
    "    def __init__(self, nb_hidden):\n",
    "        super(Net_bn, self).__init__()\n",
    "        self.conv1 = nn.Conv2d(2, 32, kernel_size=3)\n",
    "        self.conv2 = nn.Conv2d(32,64, kernel_size=3)\n",
    "        self.fc1 = nn.Linear(256, nb_hidden)\n",
    "        self.fc2 = nn.Linear(nb_hidden, 2)\n",
    "        self.bn1 = nn.BatchNorm2d(32)\n",
    "        self.bn2 = nn.BatchNorm2d(64)\n",
    "\n",
    "    def forward(self, x):\n",
    "        x = F.relu(F.max_pool2d(self.bn1(self.conv1(x)), kernel_size=2, stride=2)) #6x6\n",
    "        x = F.relu(F.max_pool2d(self.bn2(self.conv2(x)), kernel_size=2, stride=2)) #conv : 4x4, maxpool : 2x2\n",
    "        x = F.relu(self.fc1(x.view(-1, 256)))\n",
    "        x = self.fc2(x)\n",
    "        #x = nn.Softmax(dim=1)(x)\n",
    "        return x"
   ]
  },
  {
   "cell_type": "code",
   "execution_count": 22,
   "metadata": {},
   "outputs": [],
   "source": [
    "class Net2(nn.Module):\n",
    "    def __init__(self, nb_hidden):\n",
    "        super(Net2, self).__init__()\n",
    "        self.conv1 = nn.Conv2d(2, 16, kernel_size=2)\n",
    "        self.conv2 = nn.Conv2d(16, 32, kernel_size=2)\n",
    "        self.conv3 = nn.Conv2d(32, 64, kernel_size=2)\n",
    "        self.conv4 = nn.Conv2d(64, 128, kernel_size=2)\n",
    "        self.fc1 = nn.Linear(128, nb_hidden)\n",
    "        self.fc2 = nn.Linear(nb_hidden, 2)\n",
    "\n",
    "    def forward(self, x):\n",
    "        if print_shapes_Net:\n",
    "            print(\"initial shape\", x.shape)\n",
    "        x = F.relu(F.max_pool2d(self.conv1(x), kernel_size=1))\n",
    "        if print_shapes_Net:\n",
    "            print(\"1 conv\",x.shape)\n",
    "        x = F.relu(F.max_pool2d(self.conv2(x), kernel_size=2))\n",
    "        if print_shapes_Net:\n",
    "            print(\"2 conv\", x.shape)\n",
    "        x = F.relu(F.max_pool2d(self.conv3(x), kernel_size=2))\n",
    "        if print_shapes_Net:\n",
    "            print(\"3 conv\", x.shape)\n",
    "        x = F.relu(self.conv4(x))\n",
    "        if print_shapes_Net:\n",
    "            print(\"4 conv\",x.shape)\n",
    "        x = F.relu(self.fc1(x.view(-1, 128)))\n",
    "        if print_shapes_Net:\n",
    "            print(\"fc1\",x.shape)\n",
    "        x = self.fc2(x)\n",
    "        if print_shapes_Net:\n",
    "            print(\"final\",x.shape)\n",
    "        return x\n",
    "\n",
    "######################################################################"
   ]
  },
  {
   "cell_type": "code",
   "execution_count": 23,
   "metadata": {},
   "outputs": [],
   "source": [
    "class Net3(nn.Module):\n",
    "    def __init__(self, nb_hidden):\n",
    "        super(Net3, self).__init__()\n",
    "        self.conv1 = nn.Conv2d(2, 16, kernel_size=2)\n",
    "        self.conv2 = nn.Conv2d(16, 32, kernel_size=2)\n",
    "        self.conv3 = nn.Conv2d(32, 64, kernel_size=2)\n",
    "        self.conv4 = nn.Conv2d(64, 128, kernel_size=2)\n",
    "        self.fc1 = nn.Linear(128, nb_hidden)\n",
    "        self.fc2 = nn.Linear(nb_hidden, 2)\n",
    "        self.bn1 = nn.BatchNorm2d(16)\n",
    "        self.bn2 = nn.BatchNorm2d(32)\n",
    "        self.bn3 = nn.BatchNorm2d(64)\n",
    "        self.bn4 = nn.BatchNorm2d(128)\n",
    "\n",
    "    def forward(self, x):\n",
    "        if print_shapes_Net:\n",
    "            print(\"initial shape\", x.shape)\n",
    "        x = F.relu(F.max_pool2d(self.bn1(self.conv1(x)), kernel_size=1))\n",
    "        if print_shapes_Net:\n",
    "            print(\"1 conv\",x.shape)\n",
    "        x = F.relu(F.max_pool2d(self.bn2(self.conv2(x)), kernel_size=2))\n",
    "        if print_shapes_Net:\n",
    "            print(\"2 conv\", x.shape)\n",
    "        x = F.relu(F.max_pool2d(self.bn3(self.conv3(x)), kernel_size=2))\n",
    "        if print_shapes_Net:\n",
    "            print(\"3 conv\", x.shape)\n",
    "        x = F.relu(self.bn4(self.conv4(x)))\n",
    "        if print_shapes_Net:\n",
    "            print(\"4 conv\",x.shape)\n",
    "        x = F.relu(self.fc1(x.view(-1, 128)))\n",
    "        if print_shapes_Net:\n",
    "            print(\"fc1\",x.shape)\n",
    "        x = self.fc2(x)\n",
    "        if print_shapes_Net:\n",
    "            print(\"final\",x.shape)\n",
    "        return x\n",
    "\n",
    "######################################################################"
   ]
  },
  {
   "cell_type": "code",
   "execution_count": 24,
   "metadata": {},
   "outputs": [],
   "source": [
    "mini_batch_size = 100"
   ]
  },
  {
   "cell_type": "code",
   "execution_count": 25,
   "metadata": {},
   "outputs": [],
   "source": [
    "def train_model(model, train_input, train_target, mini_batch_size):\n",
    "    criterion = nn.MSELoss()\n",
    "    eta = 5e-1\n",
    "    mini_batch_size=100\n",
    "    \n",
    "    for e in range(25):\n",
    "        sum_loss = 0\n",
    "        for b in range(0, train_input.size(0), mini_batch_size):\n",
    "            \n",
    "            output = model(train_input.narrow(0, b, mini_batch_size))            \n",
    "            loss = criterion(output, train_target.narrow(0, b, mini_batch_size))\n",
    "            #print(loss)\n",
    "            model.zero_grad()\n",
    "            loss.backward()\n",
    "            sum_loss = sum_loss + loss.item()\n",
    "            with torch.no_grad():\n",
    "                for p in model.parameters():\n",
    "                    p -= eta * p.grad\n",
    "                    \n",
    "        #print(e, sum_loss)"
   ]
  },
  {
   "cell_type": "code",
   "execution_count": 26,
   "metadata": {},
   "outputs": [],
   "source": [
    "def train_model2(model, train_input, train_target, mini_batch_size, lr):\n",
    "    \n",
    "    criterion = nn.MSELoss()\n",
    "    optimizer = optim.Adam(model.parameters(), lr)\n",
    "\n",
    "    mini_batch_size=100\n",
    "    \n",
    "    for e in range(25):\n",
    "        sum_loss = 0\n",
    "        for b in range(0, train_input.size(0), mini_batch_size):\n",
    "            \n",
    "            output = model(train_input.narrow(0, b, mini_batch_size))            \n",
    "            loss = criterion(output, train_target.narrow(0, b, mini_batch_size))\n",
    "            #print(loss)\n",
    "            model.zero_grad()\n",
    "            loss.backward()\n",
    "            optimizer.step()\n",
    "            sum_loss = sum_loss + loss.item()\n",
    "            '''with torch.no_grad():\n",
    "                for p in model.parameters():\n",
    "                    p -= eta * p.grad'''\n",
    "                    \n",
    "        #print(e, sum_loss)"
   ]
  },
  {
   "cell_type": "code",
   "execution_count": 27,
   "metadata": {},
   "outputs": [],
   "source": [
    "def compute_nb_errors(model, input, target, mini_batch_size): \n",
    "    #target[1000], predicted_classes[100], output[100*2]\n",
    "    nb_errors = 0\n",
    "\n",
    "    for b in range(0, input.size(0), mini_batch_size):\n",
    "        output = model(input.narrow(0, b, mini_batch_size))\n",
    "        _, predicted_classes = output.max(1)\n",
    "        #print(output)\n",
    "        #print(predicted_classes)\n",
    "        #print(\"shapes\",output.shape, predicted_classes.shape, target.shape)\n",
    "        for k in range(mini_batch_size):\n",
    "            if target[b + k, predicted_classes[k]] <= 0:\n",
    "                nb_errors = nb_errors + 1\n",
    "\n",
    "    return nb_errors"
   ]
  },
  {
   "cell_type": "code",
   "execution_count": 28,
   "metadata": {},
   "outputs": [
    {
     "name": "stdout",
     "output_type": "stream",
     "text": [
      "test error Net 18.80% 188/1000\n",
      "train error Net 2.70% 27/1000\n",
      "test error Net 38.60% 386/1000\n",
      "train error Net 40.60% 406/1000\n",
      "test error Net 19.70% 197/1000\n",
      "train error Net 7.20% 72/1000\n",
      "test error Net 35.10% 351/1000\n",
      "train error Net 36.10% 361/1000\n",
      "test error Net 17.80% 178/1000\n",
      "train error Net 3.20% 32/1000\n"
     ]
    }
   ],
   "source": [
    "#without optimizer\n",
    "for k in range(5):\n",
    "    model = Net(64)\n",
    "    \n",
    "    train_model(model, train_input, new_train_target, mini_batch_size)\n",
    "    nb_test_errors = compute_nb_errors(model, test_input, new_test_target, mini_batch_size)\n",
    "    print('test error Net {:0.2f}% {:d}/{:d}'.format((100 * nb_test_errors) / test_input.size(0),\n",
    "                                                      nb_test_errors, test_input.size(0)))\n",
    "    nb_train_errors = compute_nb_errors(model, train_input, new_train_target, mini_batch_size)\n",
    "    print('train error Net {:0.2f}% {:d}/{:d}'.format((100 * nb_train_errors) / test_input.size(0),\n",
    "                                                  nb_train_errors, test_input.size(0)))"
   ]
  },
  {
   "cell_type": "code",
   "execution_count": 29,
   "metadata": {},
   "outputs": [
    {
     "name": "stdout",
     "output_type": "stream",
     "text": [
      "test error Net 16.60% 166/1000\n",
      "train error Net 9.70% 97/1000\n",
      "test error Net 19.20% 192/1000\n",
      "train error Net 0.10% 1/1000\n",
      "test error Net 21.70% 217/1000\n",
      "train error Net 0.30% 3/1000\n",
      "test error Net 42.90% 429/1000\n",
      "train error Net 44.40% 444/1000\n",
      "test error Net 42.90% 429/1000\n",
      "train error Net 44.40% 444/1000\n",
      "test error Net 57.10% 571/1000\n",
      "train error Net 55.60% 556/1000\n"
     ]
    }
   ],
   "source": [
    "#with optimizer, 0.001: 16% test, 10% train\n",
    "#for k in range(5):\n",
    "for lr in [0.001,0.005, 0.01, 0.05, 0.1, 0.5]:\n",
    "    model = Net(64)\n",
    "\n",
    "    train_model2(model, train_input, new_train_target, mini_batch_size, lr)\n",
    "    nb_test_errors = compute_nb_errors(model, test_input, new_test_target, mini_batch_size)\n",
    "    print('test error Net {:0.2f}% {:d}/{:d}'.format((100 * nb_test_errors) / test_input.size(0),\n",
    "                                                      nb_test_errors, test_input.size(0)))\n",
    "    nb_train_errors = compute_nb_errors(model, train_input, new_train_target, mini_batch_size)\n",
    "    print('train error Net {:0.2f}% {:d}/{:d}'.format((100 * nb_train_errors) / test_input.size(0),\n",
    "                                              nb_train_errors, test_input.size(0)))"
   ]
  },
  {
   "cell_type": "code",
   "execution_count": 30,
   "metadata": {},
   "outputs": [
    {
     "name": "stdout",
     "output_type": "stream",
     "text": [
      "test error Net 17.30% 173/1000\n",
      "train error Net 9.70% 97/1000\n",
      "test error Net 16.50% 165/1000\n",
      "train error Net 9.70% 97/1000\n",
      "test error Net 17.80% 178/1000\n",
      "train error Net 8.10% 81/1000\n",
      "test error Net 18.50% 185/1000\n",
      "train error Net 11.00% 110/1000\n",
      "test error Net 17.20% 172/1000\n",
      "train error Net 7.50% 75/1000\n",
      "test error Net 17.70% 177/1000\n",
      "train error Net 6.60% 66/1000\n",
      "test error Net 17.00% 170/1000\n",
      "train error Net 4.10% 41/1000\n",
      "test error Net 15.40% 154/1000\n",
      "train error Net 8.60% 86/1000\n",
      "test error Net 16.60% 166/1000\n",
      "train error Net 7.40% 74/1000\n",
      "test error Net 15.60% 156/1000\n",
      "train error Net 3.30% 33/1000\n"
     ]
    }
   ],
   "source": [
    "lr = 0.001\n",
    "for i in range(10):\n",
    "    model = Net(64)\n",
    "\n",
    "    train_model2(model, train_input, new_train_target, mini_batch_size, lr)\n",
    "    nb_test_errors = compute_nb_errors(model, test_input, new_test_target, mini_batch_size)\n",
    "    print('test error Net {:0.2f}% {:d}/{:d}'.format((100 * nb_test_errors) / test_input.size(0),\n",
    "                                                      nb_test_errors, test_input.size(0)))\n",
    "    nb_train_errors = compute_nb_errors(model, train_input, new_train_target, mini_batch_size)\n",
    "    print('train error Net {:0.2f}% {:d}/{:d}'.format((100 * nb_train_errors) / test_input.size(0),\n",
    "                                              nb_train_errors, test_input.size(0)))"
   ]
  },
  {
   "cell_type": "code",
   "execution_count": 40,
   "metadata": {},
   "outputs": [
    {
     "name": "stdout",
     "output_type": "stream",
     "text": [
      "test error Net 49.10% 491/1000\n",
      "train error Net 45.00% 450/1000\n",
      "test error Net 18.70% 187/1000\n",
      "train error Net 3.00% 30/1000\n",
      "test error Net 37.50% 375/1000\n",
      "train error Net 24.30% 243/1000\n",
      "test error Net 42.90% 429/1000\n",
      "train error Net 44.40% 444/1000\n",
      "test error Net 42.90% 429/1000\n",
      "train error Net 44.40% 444/1000\n",
      "test error Net 42.90% 429/1000\n",
      "train error Net 44.40% 444/1000\n"
     ]
    }
   ],
   "source": [
    "#with batch normalization and optimizer\n",
    "for lr in [0.001,0.005, 0.01, 0.05, 0.1, 0.5]:\n",
    "    model = Net_bn(64)\n",
    "\n",
    "    train_model2(model, train_input, new_train_target, mini_batch_size, lr)\n",
    "    nb_test_errors = compute_nb_errors(model, test_input, new_test_target, mini_batch_size)\n",
    "    print('test error Net {:0.2f}% {:d}/{:d}'.format((100 * nb_test_errors) / test_input.size(0),\n",
    "                                                      nb_test_errors, test_input.size(0)))\n",
    "    nb_train_errors = compute_nb_errors(model, train_input, new_train_target, mini_batch_size)\n",
    "    print('train error Net {:0.2f}% {:d}/{:d}'.format((100 * nb_train_errors) / test_input.size(0),\n",
    "                                              nb_train_errors, test_input.size(0)))"
   ]
  },
  {
   "cell_type": "code",
   "execution_count": null,
   "metadata": {},
   "outputs": [],
   "source": []
  },
  {
   "cell_type": "code",
   "execution_count": null,
   "metadata": {},
   "outputs": [],
   "source": []
  },
  {
   "cell_type": "code",
   "execution_count": null,
   "metadata": {},
   "outputs": [],
   "source": []
  },
  {
   "cell_type": "markdown",
   "metadata": {},
   "source": [
    "## Deeper model"
   ]
  },
  {
   "cell_type": "code",
   "execution_count": 31,
   "metadata": {
    "scrolled": true
   },
   "outputs": [
    {
     "name": "stdout",
     "output_type": "stream",
     "text": [
      "train error Net2 16.90%% 169/1000\n",
      "test error Net2 21.00%% 210/1000\n"
     ]
    }
   ],
   "source": [
    "######################################################################\n",
    "# Deeper model\n",
    "\n",
    "model = Net2(64)\n",
    "lr = 0.001\n",
    "train_model2(model, train_input, new_train_target, mini_batch_size, lr)\n",
    "\n",
    "nb_train_errors = compute_nb_errors(model, train_input, new_train_target, mini_batch_size)\n",
    "print('train error Net2 {:0.2f}%% {:d}/{:d}'.format((100 * nb_train_errors) / train_input.size(0),\n",
    "                                                   nb_train_errors, train_input.size(0)))\n",
    "\n",
    "nb_test_errors = compute_nb_errors(model, test_input, new_test_target, mini_batch_size)\n",
    "print('test error Net2 {:0.2f}%% {:d}/{:d}'.format((100 * nb_test_errors) / test_input.size(0),\n",
    "                                                   nb_test_errors, test_input.size(0)))"
   ]
  },
  {
   "cell_type": "markdown",
   "metadata": {},
   "source": [
    "#### Test for lr choice"
   ]
  },
  {
   "cell_type": "code",
   "execution_count": 12,
   "metadata": {},
   "outputs": [
    {
     "name": "stdout",
     "output_type": "stream",
     "text": [
      "train error Net2 8.00%% 80/1000\n",
      "test error Net2 18.70%% 187/1000\n",
      "train error Net2 8.90%% 89/1000\n",
      "test error Net2 26.40%% 264/1000\n",
      "train error Net2 10.80%% 108/1000\n",
      "test error Net2 22.30%% 223/1000\n",
      "train error Net2 44.90%% 449/1000\n",
      "test error Net2 47.40%% 474/1000\n",
      "train error Net2 44.90%% 449/1000\n",
      "test error Net2 47.40%% 474/1000\n",
      "train error Net2 44.90%% 449/1000\n",
      "test error Net2 47.40%% 474/1000\n"
     ]
    }
   ],
   "source": [
    "#lr = 0.001 seems good: train error: 12%, test error: 20%\n",
    "for lr in [0.001,0.005, 0.01, 0.05, 0.1, 0.5]:\n",
    "    model = Net2(64)\n",
    "    train_model2(model, train_input, new_train_target, mini_batch_size, lr)\n",
    "\n",
    "    nb_train_errors = compute_nb_errors(model, train_input, new_train_target, mini_batch_size)\n",
    "    print('train error Net2 {:0.2f}%% {:d}/{:d}'.format((100 * nb_train_errors) / train_input.size(0),\n",
    "                                                       nb_train_errors, train_input.size(0)))\n",
    "\n",
    "    nb_test_errors = compute_nb_errors(model, test_input, new_test_target, mini_batch_size)\n",
    "    print('test error Net2 {:0.2f}%% {:d}/{:d}'.format((100 * nb_test_errors) / test_input.size(0),\n",
    "                                                       nb_test_errors, test_input.size(0)))\n",
    "    "
   ]
  },
  {
   "cell_type": "code",
   "execution_count": 38,
   "metadata": {},
   "outputs": [
    {
     "name": "stdout",
     "output_type": "stream",
     "text": [
      "train error Net2 9.20%% 92/1000\n",
      "test error Net2 19.00%% 190/1000\n",
      "train error Net2 15.50%% 155/1000\n",
      "test error Net2 21.30%% 213/1000\n",
      "train error Net2 17.60%% 176/1000\n",
      "test error Net2 22.00%% 220/1000\n",
      "train error Net2 11.70%% 117/1000\n",
      "test error Net2 20.90%% 209/1000\n",
      "train error Net2 21.10%% 211/1000\n",
      "test error Net2 21.70%% 217/1000\n"
     ]
    }
   ],
   "source": [
    "lr = 0.001\n",
    "for i in range(5):\n",
    "    model = Net2(64)\n",
    "    train_model2(model, train_input, new_train_target, mini_batch_size, lr)\n",
    "\n",
    "    nb_train_errors = compute_nb_errors(model, train_input, new_train_target, mini_batch_size)\n",
    "    print('train error Net2 {:0.2f}%% {:d}/{:d}'.format((100 * nb_train_errors) / train_input.size(0),\n",
    "                                                       nb_train_errors, train_input.size(0)))\n",
    "\n",
    "    nb_test_errors = compute_nb_errors(model, test_input, new_test_target, mini_batch_size)\n",
    "    print('test error Net2 {:0.2f}%% {:d}/{:d}'.format((100 * nb_test_errors) / test_input.size(0),\n",
    "                                                       nb_test_errors, test_input.size(0)))"
   ]
  },
  {
   "cell_type": "markdown",
   "metadata": {},
   "source": [
    "### With batch normalization"
   ]
  },
  {
   "cell_type": "code",
   "execution_count": 32,
   "metadata": {},
   "outputs": [
    {
     "name": "stdout",
     "output_type": "stream",
     "text": [
      "train error Net3 2.40%% 24/1000\n",
      "test error Net3 26.30%% 263/1000\n"
     ]
    }
   ],
   "source": [
    "######################################################################\n",
    "# Deeper model\n",
    "\n",
    "model = Net3(64)\n",
    "lr = 0.05\n",
    "train_model2(model, train_input, new_train_target, mini_batch_size, lr)\n",
    "\n",
    "nb_train_errors = compute_nb_errors(model, train_input, new_train_target, mini_batch_size)\n",
    "print('train error Net3 {:0.2f}%% {:d}/{:d}'.format((100 * nb_train_errors) / train_input.size(0),\n",
    "                                                   nb_train_errors, train_input.size(0)))\n",
    "\n",
    "nb_test_errors = compute_nb_errors(model, test_input, new_test_target, mini_batch_size)\n",
    "print('test error Net3 {:0.2f}%% {:d}/{:d}'.format((100 * nb_test_errors) / test_input.size(0),\n",
    "                                                   nb_test_errors, test_input.size(0)))"
   ]
  },
  {
   "cell_type": "code",
   "execution_count": 28,
   "metadata": {},
   "outputs": [
    {
     "name": "stdout",
     "output_type": "stream",
     "text": [
      "learning rate:  0.001\n",
      "train error Net2 0.00%% 0/1000\n",
      "test error Net2 22.70%% 227/1000\n",
      "learning rate:  0.005\n",
      "train error Net2 0.00%% 0/1000\n",
      "test error Net2 19.30%% 193/1000\n",
      "learning rate:  0.01\n",
      "train error Net2 0.00%% 0/1000\n",
      "test error Net2 18.40%% 184/1000\n",
      "learning rate:  0.05\n",
      "train error Net2 0.90%% 9/1000\n",
      "test error Net2 20.40%% 204/1000\n",
      "learning rate:  0.1\n",
      "train error Net2 0.50%% 5/1000\n",
      "test error Net2 28.20%% 282/1000\n",
      "learning rate:  0.5\n",
      "train error Net2 44.70%% 447/1000\n",
      "test error Net2 47.10%% 471/1000\n"
     ]
    }
   ],
   "source": [
    "#lr = 0.05??? : train error: 0.9%, test error: 20%\n",
    "for lr in [0.001,0.005, 0.01, 0.05, 0.1, 0.5]:\n",
    "    model = Net3(64)\n",
    "    train_model2(model, train_input, new_train_target, mini_batch_size, lr)\n",
    "\n",
    "    nb_train_errors = compute_nb_errors(model, train_input, new_train_target, mini_batch_size)\n",
    "    print(\"learning rate: \", lr)\n",
    "    print('train error Net3 {:0.2f}%% {:d}/{:d}'.format((100 * nb_train_errors) / train_input.size(0),\n",
    "                                                       nb_train_errors, train_input.size(0)))\n",
    "\n",
    "    nb_test_errors = compute_nb_errors(model, test_input, new_test_target, mini_batch_size)\n",
    "    print('test error Net3 {:0.2f}%% {:d}/{:d}'.format((100 * nb_test_errors) / test_input.size(0),\n",
    "                                                       nb_test_errors, test_input.size(0)))\n",
    "    "
   ]
  },
  {
   "cell_type": "code",
   "execution_count": 29,
   "metadata": {},
   "outputs": [
    {
     "name": "stdout",
     "output_type": "stream",
     "text": [
      "train error Net3 44.90%% 449/1000\n",
      "test error Net3 47.40%% 474/1000\n",
      "train error Net3 0.00%% 0/1000\n",
      "test error Net3 22.20%% 222/1000\n",
      "train error Net3 1.00%% 10/1000\n",
      "test error Net3 20.00%% 200/1000\n",
      "train error Net3 0.00%% 0/1000\n",
      "test error Net3 19.80%% 198/1000\n",
      "train error Net3 0.00%% 0/1000\n",
      "test error Net3 18.80%% 188/1000\n"
     ]
    }
   ],
   "source": [
    "lr = 0.05\n",
    "for i in range(5):\n",
    "    model = Net3(64)\n",
    "    train_model2(model, train_input, new_train_target, mini_batch_size, lr)\n",
    "\n",
    "    nb_train_errors = compute_nb_errors(model, train_input, new_train_target, mini_batch_size)\n",
    "    print('train error Net3 {:0.2f}%% {:d}/{:d}'.format((100 * nb_train_errors) / train_input.size(0),\n",
    "                                                       nb_train_errors, train_input.size(0)))\n",
    "\n",
    "    nb_test_errors = compute_nb_errors(model, test_input, new_test_target, mini_batch_size)\n",
    "    print('test error Net3 {:0.2f}%% {:d}/{:d}'.format((100 * nb_test_errors) / test_input.size(0),\n",
    "                                                       nb_test_errors, test_input.size(0)))"
   ]
  },
  {
   "cell_type": "code",
   "execution_count": null,
   "metadata": {},
   "outputs": [],
   "source": []
  },
  {
   "cell_type": "code",
   "execution_count": null,
   "metadata": {},
   "outputs": [],
   "source": []
  },
  {
   "cell_type": "code",
   "execution_count": null,
   "metadata": {},
   "outputs": [],
   "source": []
  },
  {
   "cell_type": "code",
   "execution_count": null,
   "metadata": {},
   "outputs": [],
   "source": []
  },
  {
   "cell_type": "code",
   "execution_count": 23,
   "metadata": {},
   "outputs": [
    {
     "name": "stdout",
     "output_type": "stream",
     "text": [
      "test error Net 19.70% 197/1000\n",
      "test error Net 20.40% 204/1000\n"
     ]
    }
   ],
   "source": [
    "######################################################################\n",
    "# Question 2\n",
    "\n",
    "for k in range(2):\n",
    "    model = Net(200)\n",
    "    train_model(model, train_input, new_train_target, mini_batch_size)\n",
    "    nb_test_errors = compute_nb_errors(model, test_input, new_test_target, mini_batch_size)\n",
    "    print('test error Net {:0.2f}% {:d}/{:d}'.format((100 * nb_test_errors) / test_input.size(0),\n",
    "                                                      nb_test_errors, test_input.size(0)))"
   ]
  },
  {
   "cell_type": "code",
   "execution_count": 15,
   "metadata": {},
   "outputs": [
    {
     "name": "stdout",
     "output_type": "stream",
     "text": [
      "test error Net nh=10 21.50%% 215/1000\n",
      "test error Net nh=50 20.50%% 205/1000\n",
      "test error Net nh=200 20.30%% 203/1000\n",
      "test error Net nh=500 21.40%% 214/1000\n",
      "test error Net nh=2500 47.40%% 474/1000\n"
     ]
    }
   ],
   "source": [
    "######################################################################\n",
    "# Question 3\n",
    "\n",
    "for nh in [ 10, 50, 200, 500, 2500 ]:\n",
    "    model = Net(nh)\n",
    "    train_model(model, train_input, new_train_target, mini_batch_size)\n",
    "    nb_test_errors = compute_nb_errors(model, test_input, new_test_target, mini_batch_size)\n",
    "    print('test error Net nh={:d} {:0.2f}%% {:d}/{:d}'.format(nh,\n",
    "                                                              (100 * nb_test_errors) / test_input.size(0),\n",
    "                                                              nb_test_errors, test_input.size(0)))"
   ]
  },
  {
   "cell_type": "code",
   "execution_count": null,
   "metadata": {},
   "outputs": [],
   "source": []
  }
 ],
 "metadata": {
  "kernelspec": {
   "display_name": "Python 3",
   "language": "python",
   "name": "python3"
  },
  "language_info": {
   "codemirror_mode": {
    "name": "ipython",
    "version": 3
   },
   "file_extension": ".py",
   "mimetype": "text/x-python",
   "name": "python",
   "nbconvert_exporter": "python",
   "pygments_lexer": "ipython3",
   "version": "3.7.3"
  }
 },
 "nbformat": 4,
 "nbformat_minor": 2
}
